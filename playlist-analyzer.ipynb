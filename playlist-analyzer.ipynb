{
 "cells": [
  {
   "cell_type": "markdown",
   "metadata": {},
   "source": [
    "## Load Spotify API"
   ]
  },
  {
   "cell_type": "code",
   "execution_count": 89,
   "metadata": {},
   "outputs": [],
   "source": [
    "import spotipy\n",
    "import spotipy.util as util\n",
    "from spotipy.oauth2 import SpotifyClientCredentials\n",
    "import json"
   ]
  },
  {
   "cell_type": "code",
   "execution_count": 90,
   "metadata": {},
   "outputs": [],
   "source": [
    "with open('./config.json') as f:\n",
    "    config = json.load(f)\n",
    "client_id = config['client_id']\n",
    "client_secret = config['client_secret']\n",
    "redirect_uri='https://www.google.com/'"
   ]
  },
  {
   "cell_type": "code",
   "execution_count": 91,
   "metadata": {},
   "outputs": [],
   "source": [
    "username = config['username']\n",
    "client_creds_manager = SpotifyClientCredentials(client_id=client_id, client_secret=client_secret)\n",
    "scope = \"user-library-read playlist-read-private\"\n",
    "try:\n",
    "    token = util.prompt_for_user_token(username, scope, client_id=client_id, \n",
    "                                       client_secret=client_secret, redirect_uri=redirect_uri)\n",
    "    sp = spotipy.Spotify(auth=token)\n",
    "except:\n",
    "    print(f'token is not accessible for {username}')"
   ]
  },
  {
   "cell_type": "markdown",
   "metadata": {},
   "source": [
    "## Grab Data from Spotify API"
   ]
  },
  {
   "cell_type": "code",
   "execution_count": 92,
   "metadata": {},
   "outputs": [],
   "source": [
    "import pandas as pd\n",
    "import numpy as np\n",
    "from pprint import pprint\n",
    "import matplotlib.pyplot as plt\n",
    "import seaborn as sns"
   ]
  },
  {
   "cell_type": "code",
   "execution_count": 93,
   "metadata": {},
   "outputs": [],
   "source": [
    "playlist_dict = {\n",
    "    \"Get Turnt\": \"37i9dQZF1DWY4xHQp97fN6\",\n",
    "    \"Classical Essentials\": \"37i9dQZF1DWWEJlAGA9gs0\", #37i9dQZF1DXaXB8fQg7xif\n",
    "    \"Rock Save the Queen\" : \"37i9dQZF1DXcDnIr0iKAG8\",\n",
    "    \"Coffee Table Jazz\" : \"37i9dQZF1DWVqfgj8NZEp1\"\n",
    "}\n",
    "spotify_username = 'Spotify'"
   ]
  },
  {
   "cell_type": "code",
   "execution_count": 94,
   "metadata": {},
   "outputs": [],
   "source": [
    "# Load the playlists into objects\n",
    "playlists = [sp.user_playlist(spotify_username, playlist_id=v) for _, v in playlist_dict.items()]"
   ]
  },
  {
   "cell_type": "code",
   "execution_count": 95,
   "metadata": {},
   "outputs": [],
   "source": [
    "def extract_playlist_info(playlists):\n",
    "    df_playlists = []\n",
    "    for playlist in playlists:\n",
    "        playlist_items = playlist['tracks']['items']\n",
    "        df_playlist = pd.DataFrame(columns=('song_id', 'song_name', 'song_artist'))\n",
    "        for item in playlist_items:\n",
    "            track = item['track']\n",
    "            df_playlist = df_playlist.append(\n",
    "                {\n",
    "                    'song_id': track['id'],\n",
    "                    'song_name': track['name'],\n",
    "                    'song_artist': track['artists'][0]['name']\n",
    "                },\n",
    "                ignore_index=True\n",
    "            )\n",
    "        df_playlists.append(df_playlist)\n",
    "    return df_playlists"
   ]
  },
  {
   "cell_type": "code",
   "execution_count": 96,
   "metadata": {},
   "outputs": [],
   "source": [
    "def extract_audio_features(df_playlists):\n",
    "    df_features_list = []\n",
    "    columns = ['song_name', 'danceability', 'energy', 'key', 'loudness', 'mode', \n",
    "            'speechiness', 'acousticness', 'instrumentalness', 'valence', 'tempo']\n",
    "    for df_playlist in df_playlists:\n",
    "        song_ids = list(df_playlist['song_id'])\n",
    "        df_audio_features = pd.DataFrame(data=sp.audio_features(tracks=song_ids))\n",
    "        \n",
    "        df_features = df_audio_features[columns[1:]].join(df_playlist['song_name'])\n",
    "        df_features_list.append(df_features[columns]) # put columns inside to make sure song_name \n",
    "                                                      #is the first column.\n",
    "    return df_features_list"
   ]
  },
  {
   "cell_type": "code",
   "execution_count": 98,
   "metadata": {},
   "outputs": [
    {
     "name": "stdout",
     "output_type": "stream",
     "text": [
      "song_name           Pure Water (with Migos)\n",
      "danceability                           0.68\n",
      "energy                                0.559\n",
      "key                                       0\n",
      "loudness                             -5.545\n",
      "mode                                      1\n",
      "speechiness                           0.129\n",
      "acousticness                          0.172\n",
      "instrumentalness                          0\n",
      "valence                               0.137\n",
      "tempo                               202.006\n",
      "Name: 4, dtype: object\n",
      "\n",
      "song_name            Silence\n",
      "danceability           0.448\n",
      "energy                 0.823\n",
      "key                        6\n",
      "loudness              -3.968\n",
      "mode                       0\n",
      "speechiness            0.069\n",
      "acousticness        0.000153\n",
      "instrumentalness           0\n",
      "valence                0.298\n",
      "tempo                139.964\n",
      "Name: 8, dtype: object\n"
     ]
    }
   ],
   "source": [
    "df_playlists = extract_playlist_info(playlists)\n",
    "df_features_list = extract_audio_features(df_playlists)\n",
    "pprint(df_features_list[0].loc[4])\n",
    "print()\n",
    "pprint(df_features_list[2].loc[8])"
   ]
  },
  {
   "cell_type": "markdown",
   "metadata": {},
   "source": [
    "## Setting up Training Data"
   ]
  },
  {
   "cell_type": "code",
   "execution_count": 12,
   "metadata": {},
   "outputs": [
    {
     "name": "stderr",
     "output_type": "stream",
     "text": [
      "Using TensorFlow backend.\n",
      "/usr/local/Cellar/python/3.6.5_1/Frameworks/Python.framework/Versions/3.6/lib/python3.6/importlib/_bootstrap.py:219: RuntimeWarning: compiletime version 3.5 of module 'tensorflow.python.framework.fast_tensor_util' does not match runtime version 3.6\n",
      "  return f(*args, **kwds)\n"
     ]
    }
   ],
   "source": [
    "from keras.utils import to_categorical\n",
    "from sklearn.model_selection import train_test_split"
   ]
  },
  {
   "cell_type": "code",
   "execution_count": 13,
   "metadata": {},
   "outputs": [],
   "source": [
    "def convert_df_to_array(df):\n",
    "    converted_list = []\n",
    "    for _, row in df.iterrows():\n",
    "        converted_list.append(np.array(list(row[1:])))  # use 1: to avoid adding in song name\n",
    "    return np.asarray(converted_list)"
   ]
  },
  {
   "cell_type": "code",
   "execution_count": 124,
   "metadata": {},
   "outputs": [],
   "source": [
    "def create_X_data(df_features_list):\n",
    "    X = []\n",
    "    for df_features in df_features_list:\n",
    "        converted_array = convert_df_to_array(df_features)\n",
    "        for item in converted_array:\n",
    "            X.append(item)\n",
    "    return np.asarray(X)"
   ]
  },
  {
   "cell_type": "code",
   "execution_count": 125,
   "metadata": {},
   "outputs": [],
   "source": [
    "def create_y_data():\n",
    "    y = np.array([])\n",
    "    for i in range(0, 4):\n",
    "        y = np.append(y, np.ones(shape=(100, 1)) * i)\n",
    "    return y"
   ]
  },
  {
   "cell_type": "code",
   "execution_count": 126,
   "metadata": {},
   "outputs": [
    {
     "data": {
      "text/plain": [
       "(400, 10)"
      ]
     },
     "execution_count": 126,
     "metadata": {},
     "output_type": "execute_result"
    }
   ],
   "source": [
    "X = create_X_data(df_features_list) \n",
    "X.shape"
   ]
  },
  {
   "cell_type": "code",
   "execution_count": 127,
   "metadata": {},
   "outputs": [
    {
     "data": {
      "text/plain": [
       "(400, 4)"
      ]
     },
     "execution_count": 127,
     "metadata": {},
     "output_type": "execute_result"
    }
   ],
   "source": [
    "y = to_categorical(create_y_data())\n",
    "y.shape"
   ]
  },
  {
   "cell_type": "code",
   "execution_count": 163,
   "metadata": {},
   "outputs": [
    {
     "data": {
      "text/plain": [
       "((360, 10), (360, 4))"
      ]
     },
     "execution_count": 163,
     "metadata": {},
     "output_type": "execute_result"
    }
   ],
   "source": [
    "X_train, X_test, y_train, y_test = train_test_split(X, y, test_size=0.1, random_state=42) # data set small\n",
    "                                                                                          # so smaller test size\n",
    "X_train.shape, y_train.shape"
   ]
  },
  {
   "cell_type": "markdown",
   "metadata": {},
   "source": [
    "## Create Model"
   ]
  },
  {
   "cell_type": "code",
   "execution_count": 70,
   "metadata": {},
   "outputs": [],
   "source": [
    "import keras\n",
    "from keras.models import Sequential\n",
    "from keras.layers import Dense, Dropout\n",
    "from keras.optimizers import SGD\n",
    "from sklearn.metrics import confusion_matrix"
   ]
  },
  {
   "cell_type": "code",
   "execution_count": 74,
   "metadata": {},
   "outputs": [],
   "source": [
    "import itertools\n",
    "def plot_confusion_matrix(cm, classes,\n",
    "                          normalize=False,\n",
    "                          title='Confusion matrix',\n",
    "                          cmap=plt.cm.Blues):\n",
    "    \"\"\"\n",
    "    This function prints and plots the confusion matrix.\n",
    "    Normalization can be applied by setting `normalize=True`.\n",
    "    \"\"\"\n",
    "    if normalize:\n",
    "        cm = cm.astype('float') / cm.sum(axis=1)[:, np.newaxis]\n",
    "        print(\"Normalized confusion matrix\")\n",
    "    else:\n",
    "        print('Confusion matrix, without normalization')\n",
    "\n",
    "    print(cm)\n",
    "\n",
    "    plt.imshow(cm, interpolation='nearest', cmap=cmap)\n",
    "    plt.title(title)\n",
    "    plt.colorbar()\n",
    "    tick_marks = np.arange(len(classes))\n",
    "    plt.xticks(tick_marks, classes, rotation=45)\n",
    "    plt.yticks(tick_marks, classes)\n",
    "\n",
    "    fmt = '.2f' if normalize else 'd'\n",
    "    thresh = cm.max() / 2.\n",
    "    for i, j in itertools.product(range(cm.shape[0]), range(cm.shape[1])):\n",
    "        plt.text(j, i, format(cm[i, j], fmt),\n",
    "                 horizontalalignment=\"center\",\n",
    "                 color=\"white\" if cm[i, j] > thresh else \"black\")\n",
    "\n",
    "    plt.ylabel('True label')\n",
    "    plt.xlabel('Predicted label')\n",
    "    plt.tight_layout()"
   ]
  },
  {
   "cell_type": "markdown",
   "metadata": {},
   "source": [
    "### Model V1"
   ]
  },
  {
   "cell_type": "code",
   "execution_count": 45,
   "metadata": {},
   "outputs": [],
   "source": [
    "model = Sequential()\n",
    "model.add(Dense(64, activation='relu', input_dim=10))\n",
    "model.add(Dropout(0.5))\n",
    "model.add(Dense(64, activation='relu'))\n",
    "model.add(Dropout(0.5))\n",
    "model.add(Dense(4, activation='softmax'))"
   ]
  },
  {
   "cell_type": "code",
   "execution_count": 47,
   "metadata": {},
   "outputs": [
    {
     "name": "stdout",
     "output_type": "stream",
     "text": [
      "Epoch 1/30\n",
      "360/360 [==============================] - 0s 792us/step - loss: 1.3432 - acc: 0.3778\n",
      "Epoch 2/30\n",
      "360/360 [==============================] - 0s 29us/step - loss: 1.3899 - acc: 0.3556\n",
      "Epoch 3/30\n",
      "360/360 [==============================] - 0s 49us/step - loss: 1.3250 - acc: 0.3917\n",
      "Epoch 4/30\n",
      "360/360 [==============================] - 0s 55us/step - loss: 1.3488 - acc: 0.3833\n",
      "Epoch 5/30\n",
      "360/360 [==============================] - 0s 46us/step - loss: 1.3153 - acc: 0.3833\n",
      "Epoch 6/30\n",
      "360/360 [==============================] - 0s 42us/step - loss: 1.2965 - acc: 0.4083\n",
      "Epoch 7/30\n",
      "360/360 [==============================] - 0s 52us/step - loss: 1.3041 - acc: 0.3861\n",
      "Epoch 8/30\n",
      "360/360 [==============================] - 0s 35us/step - loss: 1.3669 - acc: 0.3917\n",
      "Epoch 9/30\n",
      "360/360 [==============================] - 0s 59us/step - loss: 1.3670 - acc: 0.3889\n",
      "Epoch 10/30\n",
      "360/360 [==============================] - 0s 33us/step - loss: 1.3550 - acc: 0.3667\n",
      "Epoch 11/30\n",
      "360/360 [==============================] - 0s 44us/step - loss: 1.3501 - acc: 0.3694\n",
      "Epoch 12/30\n",
      "360/360 [==============================] - 0s 41us/step - loss: 1.3721 - acc: 0.3500\n",
      "Epoch 13/30\n",
      "360/360 [==============================] - 0s 40us/step - loss: 1.2771 - acc: 0.4056\n",
      "Epoch 14/30\n",
      "360/360 [==============================] - 0s 51us/step - loss: 1.2814 - acc: 0.4139\n",
      "Epoch 15/30\n",
      "360/360 [==============================] - 0s 38us/step - loss: 1.3079 - acc: 0.3667\n",
      "Epoch 16/30\n",
      "360/360 [==============================] - 0s 28us/step - loss: 1.2602 - acc: 0.4250\n",
      "Epoch 17/30\n",
      "360/360 [==============================] - 0s 46us/step - loss: 1.2615 - acc: 0.4333\n",
      "Epoch 18/30\n",
      "360/360 [==============================] - 0s 48us/step - loss: 1.2999 - acc: 0.4250\n",
      "Epoch 19/30\n",
      "360/360 [==============================] - 0s 41us/step - loss: 1.4071 - acc: 0.3444\n",
      "Epoch 20/30\n",
      "360/360 [==============================] - 0s 43us/step - loss: 1.3475 - acc: 0.2944\n",
      "Epoch 21/30\n",
      "360/360 [==============================] - 0s 38us/step - loss: 1.3241 - acc: 0.3583\n",
      "Epoch 22/30\n",
      "360/360 [==============================] - 0s 32us/step - loss: 1.2973 - acc: 0.3500\n",
      "Epoch 23/30\n",
      "360/360 [==============================] - 0s 52us/step - loss: 1.2767 - acc: 0.4222\n",
      "Epoch 24/30\n",
      "360/360 [==============================] - 0s 39us/step - loss: 1.3114 - acc: 0.4389\n",
      "Epoch 25/30\n",
      "360/360 [==============================] - 0s 61us/step - loss: 1.2901 - acc: 0.3861\n",
      "Epoch 26/30\n",
      "360/360 [==============================] - 0s 47us/step - loss: 1.3254 - acc: 0.3722\n",
      "Epoch 27/30\n",
      "360/360 [==============================] - 0s 65us/step - loss: 1.2757 - acc: 0.4472\n",
      "Epoch 28/30\n",
      "360/360 [==============================] - 0s 59us/step - loss: 1.2964 - acc: 0.4083\n",
      "Epoch 29/30\n",
      "360/360 [==============================] - 0s 50us/step - loss: 1.2896 - acc: 0.3917\n",
      "Epoch 30/30\n",
      "360/360 [==============================] - 0s 48us/step - loss: 1.2931 - acc: 0.3528\n"
     ]
    },
    {
     "data": {
      "text/plain": [
       "<keras.callbacks.History at 0x11dabf0f0>"
      ]
     },
     "execution_count": 47,
     "metadata": {},
     "output_type": "execute_result"
    }
   ],
   "source": [
    "sgd = SGD()\n",
    "model.compile(loss='categorical_crossentropy', optimizer=sgd, metrics=['accuracy'])\n",
    "model.fit(X_train, y_train, batch_size=90, epochs=30)"
   ]
  },
  {
   "cell_type": "code",
   "execution_count": 76,
   "metadata": {},
   "outputs": [
    {
     "name": "stdout",
     "output_type": "stream",
     "text": [
      "\r",
      "40/40 [==============================] - 0s 968us/step\n"
     ]
    },
    {
     "data": {
      "text/plain": [
       "[1.2115564346313477, 0.44999998807907104]"
      ]
     },
     "execution_count": 76,
     "metadata": {},
     "output_type": "execute_result"
    }
   ],
   "source": [
    "model.evaluate(X_test, y_test, batch_size=90)"
   ]
  },
  {
   "cell_type": "code",
   "execution_count": 66,
   "metadata": {},
   "outputs": [
    {
     "data": {
      "text/plain": [
       "array([[ 0.26248315,  0.22814754,  0.26306802,  0.24630126],\n",
       "       [ 0.26248315,  0.22814754,  0.26306802,  0.24630126],\n",
       "       [ 0.25713977,  0.23461829,  0.25440991,  0.25383201],\n",
       "       [ 0.26248315,  0.22814754,  0.26306802,  0.24630126],\n",
       "       [ 0.26248315,  0.22814754,  0.26306802,  0.24630126],\n",
       "       [ 0.26248315,  0.22814754,  0.26306802,  0.24630126],\n",
       "       [ 0.26248315,  0.22814754,  0.26306802,  0.24630126],\n",
       "       [ 0.26248315,  0.22814754,  0.26306802,  0.24630126],\n",
       "       [ 0.26248315,  0.22814754,  0.26306802,  0.24630126],\n",
       "       [ 0.00268208,  0.7707898 ,  0.00245204,  0.22407609],\n",
       "       [ 0.26248315,  0.22814754,  0.26306802,  0.24630126],\n",
       "       [ 0.20810698,  0.31221068,  0.18708426,  0.29259804],\n",
       "       [ 0.26248315,  0.22814754,  0.26306802,  0.24630126],\n",
       "       [ 0.26248315,  0.22814754,  0.26306802,  0.24630126],\n",
       "       [ 0.25212696,  0.24187399,  0.24700922,  0.25898978],\n",
       "       [ 0.26248315,  0.22814754,  0.26306802,  0.24630126],\n",
       "       [ 0.26248315,  0.22814754,  0.26306802,  0.24630126],\n",
       "       [ 0.09061191,  0.49287   ,  0.08705591,  0.32946211],\n",
       "       [ 0.26248315,  0.22814754,  0.26306802,  0.24630126],\n",
       "       [ 0.26158893,  0.22916296,  0.26129755,  0.24795051],\n",
       "       [ 0.26248315,  0.22814754,  0.26306802,  0.24630126],\n",
       "       [ 0.26248315,  0.22814754,  0.26306802,  0.24630126],\n",
       "       [ 0.14615628,  0.38980162,  0.15066794,  0.31337416],\n",
       "       [ 0.26248315,  0.22814754,  0.26306802,  0.24630126],\n",
       "       [ 0.26248315,  0.22814754,  0.26306802,  0.24630126],\n",
       "       [ 0.14552791,  0.40172595,  0.12969419,  0.32305196],\n",
       "       [ 0.25874609,  0.2325339 ,  0.25680479,  0.25191522],\n",
       "       [ 0.26248315,  0.22814754,  0.26306802,  0.24630126],\n",
       "       [ 0.26248315,  0.22814754,  0.26306802,  0.24630126],\n",
       "       [ 0.15658915,  0.37590745,  0.15351444,  0.31398895],\n",
       "       [ 0.12565339,  0.42976719,  0.10594566,  0.33863372],\n",
       "       [ 0.02057179,  0.65660334,  0.01713999,  0.30568486],\n",
       "       [ 0.26248315,  0.22814754,  0.26306802,  0.24630126],\n",
       "       [ 0.26248315,  0.22814754,  0.26306802,  0.24630126],\n",
       "       [ 0.26248315,  0.22814754,  0.26306802,  0.24630126],\n",
       "       [ 0.00487241,  0.72409397,  0.00277308,  0.26826051],\n",
       "       [ 0.10512754,  0.46547717,  0.10021695,  0.32917836],\n",
       "       [ 0.21085866,  0.3076213 ,  0.19061719,  0.29090282],\n",
       "       [ 0.12825571,  0.42466688,  0.12187955,  0.32519791],\n",
       "       [ 0.26248315,  0.22814754,  0.26306802,  0.24630126]], dtype=float32)"
      ]
     },
     "execution_count": 66,
     "metadata": {},
     "output_type": "execute_result"
    }
   ],
   "source": [
    "y_pred = model.predict(X_test)\n",
    "y_pred"
   ]
  },
  {
   "cell_type": "code",
   "execution_count": 81,
   "metadata": {},
   "outputs": [
    {
     "name": "stdout",
     "output_type": "stream",
     "text": [
      "Confusion matrix, without normalization\n",
      "[[ 1  0 11  0]\n",
      " [ 1  6  1  1]\n",
      " [ 0  0 11  0]\n",
      " [ 1  6  1  0]]\n"
     ]
    },
    {
     "data": {
      "image/png": "[encoded data removed]",
      "text/plain": [
       "<matplotlib.figure.Figure at 0x11fedbb38>"
      ]
     },
     "metadata": {
      "needs_background": "light"
     },
     "output_type": "display_data"
    }
   ],
   "source": [
    "cnf_matrix = confusion_matrix(y_test.argmax(axis=1), y_pred.argmax(axis=1))\n",
    "np.set_printoptions(precision=2)\n",
    "plt.figure()\n",
    "plot_confusion_matrix(cnf_matrix, classes=playlist_dict, normalize=False,\n",
    "                      title='Confusion matrix')\n",
    "plt.show()"
   ]
  },
  {
   "cell_type": "markdown",
   "metadata": {},
   "source": [
    "Looking at this confusion matrix, I notice 3 things.\n",
    "1. Testing dataset is very small. I need to expand my total data set\n",
    "2. Coffee table jazz and Get Turnt are not being classfied correctly. Exploration is needed to see why\n",
    "3. Rock save the queen is doing quite well. Exploration is needed to see why."
   ]
  },
  {
   "cell_type": "markdown",
   "metadata": {},
   "source": [
    "### Model V2"
   ]
  },
  {
   "cell_type": "code",
   "execution_count": 178,
   "metadata": {},
   "outputs": [],
   "source": [
    "model = Sequential()\n",
    "model.add(Dense(128, activation='relu', input_dim=10))\n",
    "model.add(Dropout(0.25))\n",
    "model.add(Dense(64, activation='relu'))\n",
    "model.add(Dropout(0.25))\n",
    "model.add(Dense(4, activation='softmax'))"
   ]
  },
  {
   "cell_type": "code",
   "execution_count": 179,
   "metadata": {},
   "outputs": [],
   "source": [
    "sgd = SGD()\n",
    "model.compile(loss='categorical_crossentropy', optimizer=sgd, metrics=['accuracy'])"
   ]
  },
  {
   "cell_type": "code",
   "execution_count": 181,
   "metadata": {},
   "outputs": [
    {
     "name": "stdout",
     "output_type": "stream",
     "text": [
      "Epoch 1/150\n",
      "300/300 [==============================] - 0s 54us/step - loss: 0.7365 - acc: 0.5700\n",
      "Epoch 2/150\n",
      "300/300 [==============================] - 0s 46us/step - loss: 0.7616 - acc: 0.5133\n",
      "Epoch 3/150\n",
      "300/300 [==============================] - 0s 47us/step - loss: 0.7417 - acc: 0.5700\n",
      "Epoch 4/150\n",
      "300/300 [==============================] - 0s 54us/step - loss: 0.7213 - acc: 0.5667\n",
      "Epoch 5/150\n",
      "300/300 [==============================] - 0s 59us/step - loss: 0.7377 - acc: 0.5700\n",
      "Epoch 6/150\n",
      "300/300 [==============================] - 0s 59us/step - loss: 0.7392 - acc: 0.6000\n",
      "Epoch 7/150\n",
      "300/300 [==============================] - 0s 61us/step - loss: 0.7416 - acc: 0.5533\n",
      "Epoch 8/150\n",
      "300/300 [==============================] - 0s 71us/step - loss: 0.7407 - acc: 0.5800\n",
      "Epoch 9/150\n",
      "300/300 [==============================] - 0s 61us/step - loss: 0.8421 - acc: 0.5467\n",
      "Epoch 10/150\n",
      "300/300 [==============================] - 0s 69us/step - loss: 0.8740 - acc: 0.5367\n",
      "Epoch 11/150\n",
      "300/300 [==============================] - 0s 62us/step - loss: 0.7688 - acc: 0.5500\n",
      "Epoch 12/150\n",
      "300/300 [==============================] - 0s 59us/step - loss: 0.7541 - acc: 0.5467\n",
      "Epoch 13/150\n",
      "300/300 [==============================] - 0s 61us/step - loss: 0.8152 - acc: 0.5333\n",
      "Epoch 14/150\n",
      "300/300 [==============================] - 0s 53us/step - loss: 0.7730 - acc: 0.5400\n",
      "Epoch 15/150\n",
      "300/300 [==============================] - 0s 71us/step - loss: 0.7482 - acc: 0.5633\n",
      "Epoch 16/150\n",
      "300/300 [==============================] - 0s 54us/step - loss: 0.7676 - acc: 0.5400\n",
      "Epoch 17/150\n",
      "300/300 [==============================] - 0s 62us/step - loss: 0.7595 - acc: 0.5533\n",
      "Epoch 18/150\n",
      "300/300 [==============================] - 0s 55us/step - loss: 0.7516 - acc: 0.5400\n",
      "Epoch 19/150\n",
      "300/300 [==============================] - 0s 61us/step - loss: 0.7756 - acc: 0.5333\n",
      "Epoch 20/150\n",
      "300/300 [==============================] - 0s 63us/step - loss: 0.7260 - acc: 0.6233\n",
      "Epoch 21/150\n",
      "300/300 [==============================] - 0s 52us/step - loss: 0.7584 - acc: 0.5200\n",
      "Epoch 22/150\n",
      "300/300 [==============================] - 0s 56us/step - loss: 0.7465 - acc: 0.5400\n",
      "Epoch 23/150\n",
      "300/300 [==============================] - 0s 52us/step - loss: 0.7721 - acc: 0.5533\n",
      "Epoch 24/150\n",
      "300/300 [==============================] - 0s 70us/step - loss: 0.7755 - acc: 0.5133\n",
      "Epoch 25/150\n",
      "300/300 [==============================] - 0s 42us/step - loss: 0.7648 - acc: 0.5267\n",
      "Epoch 26/150\n",
      "300/300 [==============================] - 0s 51us/step - loss: 0.7774 - acc: 0.5300\n",
      "Epoch 27/150\n",
      "300/300 [==============================] - 0s 65us/step - loss: 0.7426 - acc: 0.5467\n",
      "Epoch 28/150\n",
      "300/300 [==============================] - 0s 48us/step - loss: 0.7628 - acc: 0.5100\n",
      "Epoch 29/150\n",
      "300/300 [==============================] - 0s 64us/step - loss: 0.7876 - acc: 0.5367\n",
      "Epoch 30/150\n",
      "300/300 [==============================] - 0s 57us/step - loss: 0.7472 - acc: 0.5467\n",
      "Epoch 31/150\n",
      "300/300 [==============================] - 0s 67us/step - loss: 0.7538 - acc: 0.5367\n",
      "Epoch 32/150\n",
      "300/300 [==============================] - 0s 44us/step - loss: 0.7569 - acc: 0.5667\n",
      "Epoch 33/150\n",
      "300/300 [==============================] - 0s 62us/step - loss: 0.8876 - acc: 0.5267\n",
      "Epoch 34/150\n",
      "300/300 [==============================] - 0s 67us/step - loss: 0.7443 - acc: 0.5600\n",
      "Epoch 35/150\n",
      "300/300 [==============================] - 0s 43us/step - loss: 0.7667 - acc: 0.5633\n",
      "Epoch 36/150\n",
      "300/300 [==============================] - 0s 70us/step - loss: 0.7619 - acc: 0.5500\n",
      "Epoch 37/150\n",
      "300/300 [==============================] - 0s 52us/step - loss: 0.7574 - acc: 0.5533\n",
      "Epoch 38/150\n",
      "300/300 [==============================] - 0s 62us/step - loss: 0.7551 - acc: 0.5400\n",
      "Epoch 39/150\n",
      "300/300 [==============================] - 0s 47us/step - loss: 0.7494 - acc: 0.5200\n",
      "Epoch 40/150\n",
      "300/300 [==============================] - 0s 54us/step - loss: 0.8092 - acc: 0.5600\n",
      "Epoch 41/150\n",
      "300/300 [==============================] - 0s 65us/step - loss: 0.7852 - acc: 0.5500\n",
      "Epoch 42/150\n",
      "300/300 [==============================] - 0s 51us/step - loss: 0.7589 - acc: 0.5533\n",
      "Epoch 43/150\n",
      "300/300 [==============================] - 0s 69us/step - loss: 0.9578 - acc: 0.5300\n",
      "Epoch 44/150\n",
      "300/300 [==============================] - 0s 62us/step - loss: 0.7934 - acc: 0.5400\n",
      "Epoch 45/150\n",
      "300/300 [==============================] - 0s 43us/step - loss: 0.7449 - acc: 0.5600\n",
      "Epoch 46/150\n",
      "300/300 [==============================] - 0s 71us/step - loss: 0.7428 - acc: 0.5300\n",
      "Epoch 47/150\n",
      "300/300 [==============================] - 0s 52us/step - loss: 0.7701 - acc: 0.5167\n",
      "Epoch 48/150\n",
      "300/300 [==============================] - 0s 47us/step - loss: 0.7543 - acc: 0.5433\n",
      "Epoch 49/150\n",
      "300/300 [==============================] - 0s 70us/step - loss: 0.7474 - acc: 0.5467\n",
      "Epoch 50/150\n",
      "300/300 [==============================] - 0s 53us/step - loss: 0.7487 - acc: 0.5433\n",
      "Epoch 51/150\n",
      "300/300 [==============================] - 0s 47us/step - loss: 0.7462 - acc: 0.5767\n",
      "Epoch 52/150\n",
      "300/300 [==============================] - 0s 65us/step - loss: 0.7340 - acc: 0.5533\n",
      "Epoch 53/150\n",
      "300/300 [==============================] - 0s 66us/step - loss: 0.7414 - acc: 0.5300\n",
      "Epoch 54/150\n",
      "300/300 [==============================] - 0s 44us/step - loss: 0.7527 - acc: 0.5167\n",
      "Epoch 55/150\n",
      "300/300 [==============================] - 0s 69us/step - loss: 0.7442 - acc: 0.5700\n",
      "Epoch 56/150\n",
      "300/300 [==============================] - 0s 46us/step - loss: 0.7813 - acc: 0.5633\n",
      "Epoch 57/150\n",
      "300/300 [==============================] - 0s 59us/step - loss: 0.7413 - acc: 0.5767\n",
      "Epoch 58/150\n",
      "300/300 [==============================] - 0s 70us/step - loss: 0.7415 - acc: 0.5367\n",
      "Epoch 59/150\n",
      "300/300 [==============================] - 0s 50us/step - loss: 0.7986 - acc: 0.5400\n",
      "Epoch 60/150\n",
      "300/300 [==============================] - 0s 48us/step - loss: 0.7434 - acc: 0.5767\n",
      "Epoch 61/150\n",
      "300/300 [==============================] - 0s 64us/step - loss: 0.7402 - acc: 0.5600\n",
      "Epoch 62/150\n",
      "300/300 [==============================] - 0s 73us/step - loss: 0.7297 - acc: 0.5800\n",
      "Epoch 63/150\n",
      "300/300 [==============================] - 0s 57us/step - loss: 0.9432 - acc: 0.5000\n",
      "Epoch 64/150\n",
      "300/300 [==============================] - 0s 84us/step - loss: 0.9181 - acc: 0.4833\n",
      "Epoch 65/150\n",
      "300/300 [==============================] - 0s 57us/step - loss: 0.7677 - acc: 0.5133\n",
      "Epoch 66/150\n",
      "300/300 [==============================] - 0s 155us/step - loss: 0.7744 - acc: 0.5033\n",
      "Epoch 67/150\n",
      "300/300 [==============================] - 0s 103us/step - loss: 0.7697 - acc: 0.5700\n",
      "Epoch 68/150\n",
      "300/300 [==============================] - 0s 59us/step - loss: 0.7646 - acc: 0.6067\n",
      "Epoch 69/150\n",
      "300/300 [==============================] - 0s 84us/step - loss: 0.7607 - acc: 0.5100\n",
      "Epoch 70/150\n",
      "300/300 [==============================] - 0s 55us/step - loss: 0.7754 - acc: 0.5600\n",
      "Epoch 71/150\n",
      "300/300 [==============================] - 0s 58us/step - loss: 0.7754 - acc: 0.5433\n",
      "Epoch 72/150\n",
      "300/300 [==============================] - 0s 123us/step - loss: 0.7170 - acc: 0.5900\n",
      "Epoch 73/150\n",
      "300/300 [==============================] - 0s 86us/step - loss: 0.7442 - acc: 0.5767\n",
      "Epoch 74/150\n",
      "300/300 [==============================] - 0s 67us/step - loss: 0.7710 - acc: 0.5533\n",
      "Epoch 75/150\n",
      "300/300 [==============================] - 0s 79us/step - loss: 0.7401 - acc: 0.5600\n",
      "Epoch 76/150\n",
      "300/300 [==============================] - 0s 54us/step - loss: 0.7336 - acc: 0.5467\n",
      "Epoch 77/150\n",
      "300/300 [==============================] - 0s 52us/step - loss: 0.8654 - acc: 0.5400\n",
      "Epoch 78/150\n",
      "300/300 [==============================] - 0s 55us/step - loss: 0.8277 - acc: 0.5600\n",
      "Epoch 79/150\n",
      "300/300 [==============================] - 0s 53us/step - loss: 0.8042 - acc: 0.5233\n",
      "Epoch 80/150\n",
      "300/300 [==============================] - 0s 63us/step - loss: 0.7569 - acc: 0.5267\n",
      "Epoch 81/150\n",
      "300/300 [==============================] - 0s 46us/step - loss: 0.8199 - acc: 0.5400\n",
      "Epoch 82/150\n",
      "300/300 [==============================] - 0s 47us/step - loss: 0.7451 - acc: 0.5167\n",
      "Epoch 83/150\n",
      "300/300 [==============================] - 0s 73us/step - loss: 0.7457 - acc: 0.5267\n",
      "Epoch 84/150\n"
     ]
    },
    {
     "name": "stdout",
     "output_type": "stream",
     "text": [
      "300/300 [==============================] - 0s 46us/step - loss: 0.8142 - acc: 0.5233\n",
      "Epoch 85/150\n",
      "300/300 [==============================] - 0s 48us/step - loss: 0.8641 - acc: 0.5200\n",
      "Epoch 86/150\n",
      "300/300 [==============================] - 0s 67us/step - loss: 0.7512 - acc: 0.5300\n",
      "Epoch 87/150\n",
      "300/300 [==============================] - 0s 44us/step - loss: 0.8000 - acc: 0.5167\n",
      "Epoch 88/150\n",
      "300/300 [==============================] - 0s 46us/step - loss: 0.7428 - acc: 0.5533\n",
      "Epoch 89/150\n",
      "300/300 [==============================] - 0s 75us/step - loss: 0.7692 - acc: 0.5400\n",
      "Epoch 90/150\n",
      "300/300 [==============================] - 0s 73us/step - loss: 0.7554 - acc: 0.5467\n",
      "Epoch 91/150\n",
      "300/300 [==============================] - 0s 61us/step - loss: 0.7488 - acc: 0.5100\n",
      "Epoch 92/150\n",
      "300/300 [==============================] - 0s 70us/step - loss: 0.7359 - acc: 0.5967\n",
      "Epoch 93/150\n",
      "300/300 [==============================] - 0s 72us/step - loss: 0.7476 - acc: 0.5800\n",
      "Epoch 94/150\n",
      "300/300 [==============================] - 0s 67us/step - loss: 0.7236 - acc: 0.6033\n",
      "Epoch 95/150\n",
      "300/300 [==============================] - 0s 73us/step - loss: 0.7414 - acc: 0.5500\n",
      "Epoch 96/150\n",
      "300/300 [==============================] - 0s 74us/step - loss: 0.7251 - acc: 0.5767\n",
      "Epoch 97/150\n",
      "300/300 [==============================] - 0s 73us/step - loss: 0.7486 - acc: 0.5933\n",
      "Epoch 98/150\n",
      "300/300 [==============================] - 0s 64us/step - loss: 0.7585 - acc: 0.5200\n",
      "Epoch 99/150\n",
      "300/300 [==============================] - 0s 81us/step - loss: 1.1511 - acc: 0.4833\n",
      "Epoch 100/150\n",
      "300/300 [==============================] - 0s 70us/step - loss: 0.7650 - acc: 0.5567\n",
      "Epoch 101/150\n",
      "300/300 [==============================] - 0s 65us/step - loss: 0.7688 - acc: 0.5133\n",
      "Epoch 102/150\n",
      "300/300 [==============================] - 0s 84us/step - loss: 0.7840 - acc: 0.5833\n",
      "Epoch 103/150\n",
      "300/300 [==============================] - 0s 62us/step - loss: 0.7561 - acc: 0.5533\n",
      "Epoch 104/150\n",
      "300/300 [==============================] - 0s 58us/step - loss: 0.7320 - acc: 0.5400\n",
      "Epoch 105/150\n",
      "300/300 [==============================] - 0s 59us/step - loss: 0.7438 - acc: 0.5733\n",
      "Epoch 106/150\n",
      "300/300 [==============================] - 0s 79us/step - loss: 0.7428 - acc: 0.5867\n",
      "Epoch 107/150\n",
      "300/300 [==============================] - 0s 68us/step - loss: 0.7544 - acc: 0.5433\n",
      "Epoch 108/150\n",
      "300/300 [==============================] - 0s 68us/step - loss: 0.7527 - acc: 0.5467\n",
      "Epoch 109/150\n",
      "300/300 [==============================] - 0s 51us/step - loss: 0.7303 - acc: 0.5667\n",
      "Epoch 110/150\n",
      "300/300 [==============================] - 0s 76us/step - loss: 1.0117 - acc: 0.5133\n",
      "Epoch 111/150\n",
      "300/300 [==============================] - 0s 42us/step - loss: 0.7819 - acc: 0.5700\n",
      "Epoch 112/150\n",
      "300/300 [==============================] - 0s 66us/step - loss: 0.7436 - acc: 0.5800\n",
      "Epoch 113/150\n",
      "300/300 [==============================] - 0s 69us/step - loss: 0.7643 - acc: 0.5700\n",
      "Epoch 114/150\n",
      "300/300 [==============================] - 0s 44us/step - loss: 0.7496 - acc: 0.5033\n",
      "Epoch 115/150\n",
      "300/300 [==============================] - 0s 68us/step - loss: 0.7457 - acc: 0.5500\n",
      "Epoch 116/150\n",
      "300/300 [==============================] - 0s 82us/step - loss: 0.7611 - acc: 0.5300\n",
      "Epoch 117/150\n",
      "300/300 [==============================] - 0s 79us/step - loss: 0.7475 - acc: 0.5400\n",
      "Epoch 118/150\n",
      "300/300 [==============================] - 0s 78us/step - loss: 0.7965 - acc: 0.4967\n",
      "Epoch 119/150\n",
      "300/300 [==============================] - 0s 70us/step - loss: 0.7745 - acc: 0.5300\n",
      "Epoch 120/150\n",
      "300/300 [==============================] - 0s 71us/step - loss: 0.7657 - acc: 0.5400\n",
      "Epoch 121/150\n",
      "300/300 [==============================] - 0s 72us/step - loss: 0.7357 - acc: 0.5300\n",
      "Epoch 122/150\n",
      "300/300 [==============================] - 0s 79us/step - loss: 0.7584 - acc: 0.5500\n",
      "Epoch 123/150\n",
      "300/300 [==============================] - 0s 71us/step - loss: 0.7287 - acc: 0.5800\n",
      "Epoch 124/150\n",
      "300/300 [==============================] - 0s 65us/step - loss: 0.7420 - acc: 0.5400\n",
      "Epoch 125/150\n",
      "300/300 [==============================] - 0s 72us/step - loss: 0.7381 - acc: 0.5800\n",
      "Epoch 126/150\n",
      "300/300 [==============================] - 0s 52us/step - loss: 0.7236 - acc: 0.5667\n",
      "Epoch 127/150\n",
      "300/300 [==============================] - 0s 52us/step - loss: 0.7229 - acc: 0.5400\n",
      "Epoch 128/150\n",
      "300/300 [==============================] - 0s 61us/step - loss: 0.7230 - acc: 0.5900\n",
      "Epoch 129/150\n",
      "300/300 [==============================] - 0s 69us/step - loss: 0.7551 - acc: 0.5533\n",
      "Epoch 130/150\n",
      "300/300 [==============================] - 0s 77us/step - loss: 0.8131 - acc: 0.5667\n",
      "Epoch 131/150\n",
      "300/300 [==============================] - 0s 81us/step - loss: 0.7645 - acc: 0.5533\n",
      "Epoch 132/150\n",
      "300/300 [==============================] - 0s 66us/step - loss: 0.7245 - acc: 0.5633\n",
      "Epoch 133/150\n",
      "300/300 [==============================] - 0s 69us/step - loss: 0.7519 - acc: 0.5467\n",
      "Epoch 134/150\n",
      "300/300 [==============================] - 0s 90us/step - loss: 0.7232 - acc: 0.6033\n",
      "Epoch 135/150\n",
      "300/300 [==============================] - 0s 77us/step - loss: 0.7368 - acc: 0.5967\n",
      "Epoch 136/150\n",
      "300/300 [==============================] - 0s 65us/step - loss: 0.7495 - acc: 0.5500\n",
      "Epoch 137/150\n",
      "300/300 [==============================] - 0s 69us/step - loss: 0.7473 - acc: 0.5667\n",
      "Epoch 138/150\n",
      "300/300 [==============================] - 0s 80us/step - loss: 0.7380 - acc: 0.5367\n",
      "Epoch 139/150\n",
      "300/300 [==============================] - 0s 73us/step - loss: 0.7503 - acc: 0.5600\n",
      "Epoch 140/150\n",
      "300/300 [==============================] - 0s 54us/step - loss: 0.7728 - acc: 0.5433\n",
      "Epoch 141/150\n",
      "300/300 [==============================] - 0s 74us/step - loss: 0.7236 - acc: 0.5767\n",
      "Epoch 142/150\n",
      "300/300 [==============================] - 0s 80us/step - loss: 0.7294 - acc: 0.5600\n",
      "Epoch 143/150\n",
      "300/300 [==============================] - 0s 74us/step - loss: 0.7706 - acc: 0.5533\n",
      "Epoch 144/150\n",
      "300/300 [==============================] - 0s 68us/step - loss: 0.7727 - acc: 0.5467\n",
      "Epoch 145/150\n",
      "300/300 [==============================] - 0s 87us/step - loss: 0.7189 - acc: 0.5767\n",
      "Epoch 146/150\n",
      "300/300 [==============================] - 0s 66us/step - loss: 0.7517 - acc: 0.5567\n",
      "Epoch 147/150\n",
      "300/300 [==============================] - 0s 66us/step - loss: 0.7091 - acc: 0.6167\n",
      "Epoch 148/150\n",
      "300/300 [==============================] - 0s 86us/step - loss: 0.7402 - acc: 0.5933\n",
      "Epoch 149/150\n",
      "300/300 [==============================] - 0s 52us/step - loss: 0.7615 - acc: 0.5200\n",
      "Epoch 150/150\n",
      "300/300 [==============================] - 0s 62us/step - loss: 0.7546 - acc: 0.5433\n",
      "100/100 [==============================] - 0s 61us/step\n"
     ]
    },
    {
     "data": {
      "text/plain": [
       "[0.80615235567092891, 0.64000000953674319]"
      ]
     },
     "execution_count": 181,
     "metadata": {},
     "output_type": "execute_result"
    }
   ],
   "source": [
    "X_train, X_test, y_train, y_test = train_test_split(X, y, test_size=0.25, random_state=42)\n",
    "model.fit(X_train, y_train, batch_size=60, epochs=150)\n",
    "model.evaluate(X_test, y_test, batch_size=60)"
   ]
  },
  {
   "cell_type": "code",
   "execution_count": 165,
   "metadata": {},
   "outputs": [
    {
     "name": "stdout",
     "output_type": "stream",
     "text": [
      "Confusion matrix, without normalization\n",
      "[[ 6  0  5  1]\n",
      " [ 0  3  0  6]\n",
      " [ 0  0 11  0]\n",
      " [ 0  1  0  7]]\n"
     ]
    },
    {
     "data": {
      "image/png": "[encoded data removed]",
      "text/plain": [
       "<matplotlib.figure.Figure at 0x12caa6be0>"
      ]
     },
     "metadata": {
      "needs_background": "light"
     },
     "output_type": "display_data"
    }
   ],
   "source": [
    "y_pred = model.predict(X_test)\n",
    "cnf_matrix = confusion_matrix(y_test.argmax(axis=1), y_pred.argmax(axis=1))\n",
    "np.set_printoptions(precision=2)\n",
    "plt.figure()\n",
    "plot_confusion_matrix(cnf_matrix, classes=playlist_dict, normalize=False,\n",
    "                      title='Confusion matrix')\n",
    "plt.show()"
   ]
  },
  {
   "cell_type": "markdown",
   "metadata": {},
   "source": [
    "Changing the amount of neurons in the first layer, drop out rate, batch size and epochs makes quite a big difference. The new model has an accuracy of almost 70%, a significant improvement from the first version. \n",
    "I feel that data exploration is still needed. Maybe I need to change my dataset and eliminate some redundant columns.\n",
    "Data Exploration will help me indicate what I columns would be most unique."
   ]
  },
  {
   "cell_type": "markdown",
   "metadata": {},
   "source": [
    "## Exploration"
   ]
  },
  {
   "cell_type": "code",
   "execution_count": null,
   "metadata": {},
   "outputs": [],
   "source": []
  }
 ],
 "metadata": {
  "kernelspec": {
   "display_name": "Python 3",
   "language": "python",
   "name": "python3"
  },
  "language_info": {
   "codemirror_mode": {
    "name": "ipython",
    "version": 3
   },
   "file_extension": ".py",
   "mimetype": "text/x-python",
   "name": "python",
   "nbconvert_exporter": "python",
   "pygments_lexer": "ipython3",
   "version": "3.6.5"
  }
 },
 "nbformat": 4,
 "nbformat_minor": 2
}
