{
 "cells": [
  {
   "cell_type": "markdown",
   "metadata": {},
   "source": [
    "## Load Spotify API"
   ]
  },
  {
   "cell_type": "code",
   "execution_count": 1,
   "metadata": {},
   "outputs": [],
   "source": [
    "import spotipy\n",
    "import spotipy.util as util\n",
    "from spotipy.oauth2 import SpotifyClientCredentials\n",
    "import json"
   ]
  },
  {
   "cell_type": "code",
   "execution_count": 2,
   "metadata": {},
   "outputs": [],
   "source": [
    "with open('./config.json') as f:\n",
    "    config = json.load(f)\n",
    "client_id = config['client_id']\n",
    "client_secret = config['client_secret']\n",
    "redirect_uri='https://www.google.com/'"
   ]
  },
  {
   "cell_type": "code",
   "execution_count": 3,
   "metadata": {},
   "outputs": [],
   "source": [
    "username = config['username']\n",
    "client_creds_manager = SpotifyClientCredentials(client_id=client_id, client_secret=client_secret)\n",
    "scope = \"user-library-read playlist-read-private\"\n",
    "try:\n",
    "    token = util.prompt_for_user_token(username, scope, client_id=client_id, \n",
    "                                       client_secret=client_secret, redirect_uri=redirect_uri)\n",
    "    sp = spotipy.Spotify(auth=token)\n",
    "except:\n",
    "    print(f'token is not accessible for {username}')"
   ]
  },
  {
   "cell_type": "markdown",
   "metadata": {},
   "source": [
    "## Grab Data from Spotify API"
   ]
  },
  {
   "cell_type": "code",
   "execution_count": 4,
   "metadata": {},
   "outputs": [],
   "source": [
    "import pandas as pd\n",
    "import numpy as np\n",
    "from pprint import pprint\n",
    "import matplotlib.pyplot as plt\n",
    "import seaborn as sns"
   ]
  },
  {
   "cell_type": "code",
   "execution_count": 5,
   "metadata": {},
   "outputs": [],
   "source": [
    "playlist_dict = {\n",
    "    \"Get Turnt\": \"37i9dQZF1DWY4xHQp97fN6\",\n",
    "    \"Classical Essentials\": \"37i9dQZF1DWWEJlAGA9gs0\", #37i9dQZF1DXaXB8fQg7xif\n",
    "    \"Rock Save the Queen\" : \"37i9dQZF1DXcDnIr0iKAG8\",\n",
    "    \"Coffee Table Jazz\" : \"37i9dQZF1DWVqfgj8NZEp1\"\n",
    "}\n",
    "spotify_username = 'Spotify'"
   ]
  },
  {
   "cell_type": "code",
   "execution_count": 6,
   "metadata": {},
   "outputs": [],
   "source": [
    "# Load the playlists into objects\n",
    "playlists = [sp.user_playlist(spotify_username, playlist_id=v) for _, v in playlist_dict.items()]"
   ]
  },
  {
   "cell_type": "code",
   "execution_count": 7,
   "metadata": {},
   "outputs": [],
   "source": [
    "def extract_playlist_info(playlists):\n",
    "    df_playlists = []\n",
    "    for playlist in playlists:\n",
    "        playlist_items = playlist['tracks']['items']\n",
    "        df_playlist = pd.DataFrame(columns=('song_id', 'song_name', 'song_artist'))\n",
    "        for item in playlist_items:\n",
    "            track = item['track']\n",
    "            df_playlist = df_playlist.append(\n",
    "                {\n",
    "                    'song_id': track['id'],\n",
    "                    'song_name': track['name'],\n",
    "                    'song_artist': track['artists'][0]['name']\n",
    "                },\n",
    "                ignore_index=True\n",
    "            )\n",
    "        df_playlists.append(df_playlist)\n",
    "    return df_playlists"
   ]
  },
  {
   "cell_type": "code",
   "execution_count": 8,
   "metadata": {},
   "outputs": [],
   "source": [
    "def extract_audio_features(df_playlists):\n",
    "    df_features_list = []\n",
    "    columns = ['song_name', 'danceability', 'energy', 'key', 'loudness', 'mode', \n",
    "            'speechiness', 'acousticness', 'instrumentalness', 'valence', 'tempo']\n",
    "    for df_playlist in df_playlists:\n",
    "        song_ids = list(df_playlist['song_id'])\n",
    "        df_audio_features = pd.DataFrame(data=sp.audio_features(tracks=song_ids))\n",
    "        \n",
    "        df_features = df_audio_features[columns[1:]].join(df_playlist['song_name'])\n",
    "        df_features_list.append(df_features[columns]) # put columns inside to make sure song_name \n",
    "                                                      #is the first column.\n",
    "    return df_features_list"
   ]
  },
  {
   "cell_type": "code",
   "execution_count": 9,
   "metadata": {},
   "outputs": [
    {
     "name": "stdout",
     "output_type": "stream",
     "text": [
      "song_name           Pure Water (with Migos)\n",
      "danceability                           0.68\n",
      "energy                                0.559\n",
      "key                                       0\n",
      "loudness                             -5.545\n",
      "mode                                      1\n",
      "speechiness                           0.129\n",
      "acousticness                          0.172\n",
      "instrumentalness                          0\n",
      "valence                               0.137\n",
      "tempo                               202.006\n",
      "Name: 4, dtype: object\n",
      "\n",
      "song_name                One\n",
      "danceability           0.487\n",
      "energy                 0.839\n",
      "key                        2\n",
      "loudness              -5.875\n",
      "mode                       1\n",
      "speechiness           0.0417\n",
      "acousticness        0.000134\n",
      "instrumentalness      0.0891\n",
      "valence                0.504\n",
      "tempo                157.984\n",
      "Name: 8, dtype: object\n"
     ]
    }
   ],
   "source": [
    "df_playlists = extract_playlist_info(playlists)\n",
    "df_features_list = extract_audio_features(df_playlists)\n",
    "pprint(df_features_list[0].loc[4])\n",
    "print()\n",
    "pprint(df_features_list[2].loc[8])"
   ]
  },
  {
   "cell_type": "markdown",
   "metadata": {},
   "source": [
    "## Setting up Training Data"
   ]
  },
  {
   "cell_type": "code",
   "execution_count": 10,
   "metadata": {},
   "outputs": [
    {
     "name": "stderr",
     "output_type": "stream",
     "text": [
      "Using TensorFlow backend.\n",
      "/usr/local/Cellar/python/3.6.5_1/Frameworks/Python.framework/Versions/3.6/lib/python3.6/importlib/_bootstrap.py:219: RuntimeWarning: compiletime version 3.5 of module 'tensorflow.python.framework.fast_tensor_util' does not match runtime version 3.6\n",
      "  return f(*args, **kwds)\n"
     ]
    }
   ],
   "source": [
    "from keras.utils import to_categorical\n",
    "from sklearn.model_selection import train_test_split"
   ]
  },
  {
   "cell_type": "code",
   "execution_count": 11,
   "metadata": {},
   "outputs": [],
   "source": [
    "def convert_df_to_array(df):\n",
    "    converted_list = []\n",
    "    for _, row in df.iterrows():\n",
    "        converted_list.append(np.array(list(row[1:])))  # use 1: to avoid adding in song name\n",
    "    return np.asarray(converted_list)"
   ]
  },
  {
   "cell_type": "code",
   "execution_count": 12,
   "metadata": {},
   "outputs": [],
   "source": [
    "def create_X_data(df_features_list):\n",
    "    X = []\n",
    "    for df_features in df_features_list:\n",
    "        converted_array = convert_df_to_array(df_features)\n",
    "        for item in converted_array:\n",
    "            X.append(item)\n",
    "    return np.asarray(X)"
   ]
  },
  {
   "cell_type": "code",
   "execution_count": 13,
   "metadata": {},
   "outputs": [],
   "source": [
    "def create_y_data():\n",
    "    y = np.array([])\n",
    "    for i in range(0, 4):\n",
    "        y = np.append(y, np.ones(shape=(100, 1)) * i)\n",
    "    return y"
   ]
  },
  {
   "cell_type": "code",
   "execution_count": 14,
   "metadata": {},
   "outputs": [
    {
     "data": {
      "text/plain": [
       "(400, 10)"
      ]
     },
     "execution_count": 14,
     "metadata": {},
     "output_type": "execute_result"
    }
   ],
   "source": [
    "X = create_X_data(df_features_list) \n",
    "X.shape"
   ]
  },
  {
   "cell_type": "code",
   "execution_count": 15,
   "metadata": {},
   "outputs": [
    {
     "data": {
      "text/plain": [
       "(400, 4)"
      ]
     },
     "execution_count": 15,
     "metadata": {},
     "output_type": "execute_result"
    }
   ],
   "source": [
    "y = to_categorical(create_y_data())\n",
    "y.shape"
   ]
  },
  {
   "cell_type": "code",
   "execution_count": 16,
   "metadata": {},
   "outputs": [
    {
     "data": {
      "text/plain": [
       "((360, 10), (360, 4))"
      ]
     },
     "execution_count": 16,
     "metadata": {},
     "output_type": "execute_result"
    }
   ],
   "source": [
    "X_train, X_test, y_train, y_test = train_test_split(X, y, test_size=0.1, random_state=42) # data set small\n",
    "                                                                                          # so smaller test size\n",
    "X_train.shape, y_train.shape"
   ]
  },
  {
   "cell_type": "markdown",
   "metadata": {},
   "source": [
    "## Create Model"
   ]
  },
  {
   "cell_type": "code",
   "execution_count": 17,
   "metadata": {},
   "outputs": [],
   "source": [
    "import keras\n",
    "from keras.models import Sequential\n",
    "from keras.layers import Dense, Dropout\n",
    "from keras.optimizers import SGD\n",
    "from sklearn.metrics import confusion_matrix"
   ]
  },
  {
   "cell_type": "code",
   "execution_count": 18,
   "metadata": {},
   "outputs": [],
   "source": [
    "import itertools\n",
    "def plot_confusion_matrix(cm, classes,\n",
    "                          normalize=False,\n",
    "                          title='Confusion matrix',\n",
    "                          cmap=plt.cm.Blues):\n",
    "    \"\"\"\n",
    "    This function prints and plots the confusion matrix.\n",
    "    Normalization can be applied by setting `normalize=True`.\n",
    "    \"\"\"\n",
    "    if normalize:\n",
    "        cm = cm.astype('float') / cm.sum(axis=1)[:, np.newaxis]\n",
    "        print(\"Normalized confusion matrix\")\n",
    "    else:\n",
    "        print('Confusion matrix, without normalization')\n",
    "\n",
    "    print(cm)\n",
    "\n",
    "    plt.imshow(cm, interpolation='nearest', cmap=cmap)\n",
    "    plt.title(title)\n",
    "    plt.colorbar()\n",
    "    tick_marks = np.arange(len(classes))\n",
    "    plt.xticks(tick_marks, classes, rotation=45)\n",
    "    plt.yticks(tick_marks, classes)\n",
    "\n",
    "    fmt = '.2f' if normalize else 'd'\n",
    "    thresh = cm.max() / 2.\n",
    "    for i, j in itertools.product(range(cm.shape[0]), range(cm.shape[1])):\n",
    "        plt.text(j, i, format(cm[i, j], fmt),\n",
    "                 horizontalalignment=\"center\",\n",
    "                 color=\"white\" if cm[i, j] > thresh else \"black\")\n",
    "\n",
    "    plt.ylabel('True label')\n",
    "    plt.xlabel('Predicted label')\n",
    "    plt.tight_layout()"
   ]
  },
  {
   "cell_type": "markdown",
   "metadata": {},
   "source": [
    "### Model V1"
   ]
  },
  {
   "cell_type": "code",
   "execution_count": 19,
   "metadata": {},
   "outputs": [],
   "source": [
    "model = Sequential()\n",
    "model.add(Dense(64, activation='relu', input_dim=10))\n",
    "model.add(Dropout(0.5))\n",
    "model.add(Dense(64, activation='relu'))\n",
    "model.add(Dropout(0.5))\n",
    "model.add(Dense(4, activation='softmax'))"
   ]
  },
  {
   "cell_type": "code",
   "execution_count": 20,
   "metadata": {},
   "outputs": [
    {
     "name": "stdout",
     "output_type": "stream",
     "text": [
      "Epoch 1/30\n",
      "360/360 [==============================] - 0s 943us/step - loss: 10.4069 - acc: 0.2444\n",
      "Epoch 2/30\n",
      "360/360 [==============================] - 0s 43us/step - loss: 9.9881 - acc: 0.2583\n",
      "Epoch 3/30\n",
      "360/360 [==============================] - 0s 40us/step - loss: 10.4282 - acc: 0.2361\n",
      "Epoch 4/30\n",
      "360/360 [==============================] - 0s 44us/step - loss: 9.3112 - acc: 0.2667\n",
      "Epoch 5/30\n",
      "360/360 [==============================] - 0s 39us/step - loss: 7.1670 - acc: 0.2278\n",
      "Epoch 6/30\n",
      "360/360 [==============================] - 0s 38us/step - loss: 4.1090 - acc: 0.2833\n",
      "Epoch 7/30\n",
      "360/360 [==============================] - 0s 54us/step - loss: 1.4934 - acc: 0.3111\n",
      "Epoch 8/30\n",
      "360/360 [==============================] - 0s 45us/step - loss: 1.4380 - acc: 0.2778\n",
      "Epoch 9/30\n",
      "360/360 [==============================] - 0s 32us/step - loss: 1.3285 - acc: 0.2694\n",
      "Epoch 10/30\n",
      "360/360 [==============================] - 0s 35us/step - loss: 1.3965 - acc: 0.2972\n",
      "Epoch 11/30\n",
      "360/360 [==============================] - 0s 47us/step - loss: 1.3899 - acc: 0.3000\n",
      "Epoch 12/30\n",
      "360/360 [==============================] - 0s 49us/step - loss: 1.3710 - acc: 0.2833\n",
      "Epoch 13/30\n",
      "360/360 [==============================] - 0s 38us/step - loss: 1.3502 - acc: 0.2389\n",
      "Epoch 14/30\n",
      "360/360 [==============================] - 0s 54us/step - loss: 1.3371 - acc: 0.2389\n",
      "Epoch 15/30\n",
      "360/360 [==============================] - 0s 53us/step - loss: 1.3628 - acc: 0.2500\n",
      "Epoch 16/30\n",
      "360/360 [==============================] - 0s 29us/step - loss: 1.3411 - acc: 0.2694\n",
      "Epoch 17/30\n",
      "360/360 [==============================] - 0s 34us/step - loss: 1.3320 - acc: 0.2583\n",
      "Epoch 18/30\n",
      "360/360 [==============================] - 0s 41us/step - loss: 1.2985 - acc: 0.2556\n",
      "Epoch 19/30\n",
      "360/360 [==============================] - 0s 41us/step - loss: 1.3419 - acc: 0.2583\n",
      "Epoch 20/30\n",
      "360/360 [==============================] - 0s 51us/step - loss: 1.3379 - acc: 0.2333\n",
      "Epoch 21/30\n",
      "360/360 [==============================] - 0s 39us/step - loss: 1.3638 - acc: 0.2556\n",
      "Epoch 22/30\n",
      "360/360 [==============================] - 0s 38us/step - loss: 1.3529 - acc: 0.2472\n",
      "Epoch 23/30\n",
      "360/360 [==============================] - 0s 38us/step - loss: 1.3451 - acc: 0.2639\n",
      "Epoch 24/30\n",
      "360/360 [==============================] - 0s 41us/step - loss: 1.3101 - acc: 0.2611\n",
      "Epoch 25/30\n",
      "360/360 [==============================] - 0s 81us/step - loss: 1.3200 - acc: 0.2833\n",
      "Epoch 26/30\n",
      "360/360 [==============================] - 0s 64us/step - loss: 1.3234 - acc: 0.2667\n",
      "Epoch 27/30\n",
      "360/360 [==============================] - 0s 71us/step - loss: 1.3297 - acc: 0.3611\n",
      "Epoch 28/30\n",
      "360/360 [==============================] - 0s 48us/step - loss: 1.3032 - acc: 0.4083\n",
      "Epoch 29/30\n",
      "360/360 [==============================] - 0s 34us/step - loss: 1.2830 - acc: 0.4194\n",
      "Epoch 30/30\n",
      "360/360 [==============================] - 0s 40us/step - loss: 1.2824 - acc: 0.4083\n"
     ]
    },
    {
     "data": {
      "text/plain": [
       "<keras.callbacks.History at 0x122c349e8>"
      ]
     },
     "execution_count": 20,
     "metadata": {},
     "output_type": "execute_result"
    }
   ],
   "source": [
    "sgd = SGD()\n",
    "model.compile(loss='categorical_crossentropy', optimizer=sgd, metrics=['accuracy'])\n",
    "model.fit(X_train, y_train, batch_size=90, epochs=30)"
   ]
  },
  {
   "cell_type": "code",
   "execution_count": 21,
   "metadata": {},
   "outputs": [
    {
     "name": "stdout",
     "output_type": "stream",
     "text": [
      "\r",
      "40/40 [==============================] - 0s 673us/step\n"
     ]
    },
    {
     "data": {
      "text/plain": [
       "[1.2701127529144287, 0.55000001192092896]"
      ]
     },
     "execution_count": 21,
     "metadata": {},
     "output_type": "execute_result"
    }
   ],
   "source": [
    "model.evaluate(X_test, y_test, batch_size=90)"
   ]
  },
  {
   "cell_type": "code",
   "execution_count": 22,
   "metadata": {},
   "outputs": [
    {
     "data": {
      "text/plain": [
       "array([[ 0.25233054,  0.24031872,  0.25460261,  0.25274819],\n",
       "       [ 0.25233054,  0.24031872,  0.25460261,  0.25274819],\n",
       "       [ 0.25233054,  0.24031872,  0.25460261,  0.25274819],\n",
       "       [ 0.25233054,  0.24031872,  0.25460261,  0.25274819],\n",
       "       [ 0.25233054,  0.24031872,  0.25460261,  0.25274819],\n",
       "       [ 0.25233054,  0.24031872,  0.25460261,  0.25274819],\n",
       "       [ 0.24888861,  0.25400254,  0.24612528,  0.25098351],\n",
       "       [ 0.25208896,  0.2406031 ,  0.25427231,  0.2530356 ],\n",
       "       [ 0.25233054,  0.24031872,  0.25460261,  0.25274819],\n",
       "       [ 0.0203288 ,  0.79694366,  0.01474177,  0.16798574],\n",
       "       [ 0.25233054,  0.24031872,  0.25460261,  0.25274819],\n",
       "       [ 0.25072426,  0.24668626,  0.24928151,  0.25330803],\n",
       "       [ 0.25233054,  0.24031872,  0.25460261,  0.25274819],\n",
       "       [ 0.25233054,  0.24031872,  0.25460261,  0.25274819],\n",
       "       [ 0.2404132 ,  0.28901204,  0.23239675,  0.23817803],\n",
       "       [ 0.25233054,  0.24031872,  0.25460261,  0.25274819],\n",
       "       [ 0.25233054,  0.24031872,  0.25460261,  0.25274819],\n",
       "       [ 0.20493241,  0.39330563,  0.13175341,  0.27000853],\n",
       "       [ 0.25233054,  0.24031872,  0.25460261,  0.25274819],\n",
       "       [ 0.24163543,  0.28408685,  0.23429899,  0.23997876],\n",
       "       [ 0.25233054,  0.24031872,  0.25460261,  0.25274819],\n",
       "       [ 0.25233054,  0.24031872,  0.25460261,  0.25274819],\n",
       "       [ 0.19302426,  0.37452132,  0.15119611,  0.28125829],\n",
       "       [ 0.25157163,  0.24103288,  0.25404298,  0.25335249],\n",
       "       [ 0.25233054,  0.24031872,  0.25460261,  0.25274819],\n",
       "       [ 0.23346703,  0.31012177,  0.21107738,  0.24533376],\n",
       "       [ 0.24126089,  0.2856006 ,  0.23371361,  0.23942497],\n",
       "       [ 0.25233054,  0.24031872,  0.25460261,  0.25274819],\n",
       "       [ 0.25233054,  0.24031872,  0.25460261,  0.25274819],\n",
       "       [ 0.22718097,  0.33413634,  0.18280666,  0.25587603],\n",
       "       [ 0.24243741,  0.28083223,  0.23555985,  0.2411705 ],\n",
       "       [ 0.09077074,  0.56530684,  0.08040456,  0.26351789],\n",
       "       [ 0.25233054,  0.24031872,  0.25460261,  0.25274819],\n",
       "       [ 0.25233054,  0.24031872,  0.25460261,  0.25274819],\n",
       "       [ 0.25233054,  0.24031872,  0.25460261,  0.25274819],\n",
       "       [ 0.09742475,  0.61885673,  0.07660878,  0.20710969],\n",
       "       [ 0.21971796,  0.35843512,  0.16452409,  0.25732276],\n",
       "       [ 0.25069782,  0.24678765,  0.2492328 ,  0.25328177],\n",
       "       [ 0.22604425,  0.33599028,  0.18924859,  0.24871692],\n",
       "       [ 0.24331802,  0.2772367 ,  0.23695642,  0.24248882]], dtype=float32)"
      ]
     },
     "execution_count": 22,
     "metadata": {},
     "output_type": "execute_result"
    }
   ],
   "source": [
    "y_pred = model.predict(X_test)\n",
    "y_pred"
   ]
  },
  {
   "cell_type": "code",
   "execution_count": 23,
   "metadata": {},
   "outputs": [
    {
     "name": "stdout",
     "output_type": "stream",
     "text": [
      "Confusion matrix, without normalization\n",
      "[[ 0  0 12  0]\n",
      " [ 0  9  0  0]\n",
      " [ 0  0 11  0]\n",
      " [ 0  6  0  2]]\n"
     ]
    },
    {
     "data": {
      "image/png": "[encoded data removed]",
      "text/plain": [
       "<matplotlib.figure.Figure at 0x122a9db70>"
      ]
     },
     "metadata": {
      "needs_background": "light"
     },
     "output_type": "display_data"
    }
   ],
   "source": [
    "cnf_matrix = confusion_matrix(y_test.argmax(axis=1), y_pred.argmax(axis=1))\n",
    "np.set_printoptions(precision=2)\n",
    "plt.figure()\n",
    "plot_confusion_matrix(cnf_matrix, classes=playlist_dict, normalize=False,\n",
    "                      title='Confusion matrix')\n",
    "plt.show()"
   ]
  },
  {
   "cell_type": "markdown",
   "metadata": {},
   "source": [
    "Looking at this confusion matrix, I notice 3 things.\n",
    "1. Testing dataset is very small. I need to expand my total data set\n",
    "2. Coffee table jazz and Get Turnt are not being classfied correctly. Exploration is needed to see why\n",
    "3. Rock save the queen is doing quite well. Exploration is needed to see why."
   ]
  },
  {
   "cell_type": "markdown",
   "metadata": {},
   "source": [
    "### Model V2"
   ]
  },
  {
   "cell_type": "code",
   "execution_count": 24,
   "metadata": {},
   "outputs": [],
   "source": [
    "model = Sequential()\n",
    "model.add(Dense(128, activation='relu', input_dim=10))\n",
    "model.add(Dropout(0.25))\n",
    "model.add(Dense(64, activation='relu'))\n",
    "model.add(Dropout(0.25))\n",
    "model.add(Dense(4, activation='softmax'))"
   ]
  },
  {
   "cell_type": "code",
   "execution_count": 25,
   "metadata": {},
   "outputs": [],
   "source": [
    "sgd = SGD()\n",
    "model.compile(loss='categorical_crossentropy', optimizer=sgd, metrics=['accuracy'])"
   ]
  },
  {
   "cell_type": "code",
   "execution_count": 26,
   "metadata": {},
   "outputs": [
    {
     "name": "stdout",
     "output_type": "stream",
     "text": [
      "Epoch 1/150\n",
      "300/300 [==============================] - 1s 4ms/step - loss: 8.8973 - acc: 0.2633\n",
      "Epoch 2/150\n",
      "300/300 [==============================] - 0s 51us/step - loss: 8.4878 - acc: 0.2967\n",
      "Epoch 3/150\n",
      "300/300 [==============================] - 0s 87us/step - loss: 5.9554 - acc: 0.2500\n",
      "Epoch 4/150\n",
      "300/300 [==============================] - 0s 57us/step - loss: 2.8225 - acc: 0.3133\n",
      "Epoch 5/150\n",
      "300/300 [==============================] - 0s 82us/step - loss: 1.5164 - acc: 0.2833\n",
      "Epoch 6/150\n",
      "300/300 [==============================] - 0s 51us/step - loss: 1.4361 - acc: 0.3467\n",
      "Epoch 7/150\n",
      "300/300 [==============================] - 0s 180us/step - loss: 1.3120 - acc: 0.3767\n",
      "Epoch 8/150\n",
      "300/300 [==============================] - 0s 68us/step - loss: 1.3167 - acc: 0.3900\n",
      "Epoch 9/150\n",
      "300/300 [==============================] - 0s 69us/step - loss: 1.2500 - acc: 0.3833\n",
      "Epoch 10/150\n",
      "300/300 [==============================] - 0s 54us/step - loss: 1.2258 - acc: 0.4067\n",
      "Epoch 11/150\n",
      "300/300 [==============================] - 0s 66us/step - loss: 1.1468 - acc: 0.4367\n",
      "Epoch 12/150\n",
      "300/300 [==============================] - 0s 95us/step - loss: 1.0628 - acc: 0.4467\n",
      "Epoch 13/150\n",
      "300/300 [==============================] - 0s 97us/step - loss: 1.0509 - acc: 0.4567\n",
      "Epoch 14/150\n",
      "300/300 [==============================] - 0s 59us/step - loss: 1.0226 - acc: 0.4667\n",
      "Epoch 15/150\n",
      "300/300 [==============================] - 0s 57us/step - loss: 0.9568 - acc: 0.5267\n",
      "Epoch 16/150\n",
      "300/300 [==============================] - 0s 62us/step - loss: 1.3222 - acc: 0.3867\n",
      "Epoch 17/150\n",
      "300/300 [==============================] - 0s 64us/step - loss: 1.0247 - acc: 0.4467\n",
      "Epoch 18/150\n",
      "300/300 [==============================] - 0s 57us/step - loss: 1.0209 - acc: 0.4267\n",
      "Epoch 19/150\n",
      "300/300 [==============================] - 0s 67us/step - loss: 0.9263 - acc: 0.4633\n",
      "Epoch 20/150\n",
      "300/300 [==============================] - 0s 59us/step - loss: 0.9879 - acc: 0.4133\n",
      "Epoch 21/150\n",
      "300/300 [==============================] - 0s 87us/step - loss: 0.9199 - acc: 0.5033\n",
      "Epoch 22/150\n",
      "300/300 [==============================] - 0s 98us/step - loss: 0.9472 - acc: 0.5267\n",
      "Epoch 23/150\n",
      "300/300 [==============================] - 0s 66us/step - loss: 0.8928 - acc: 0.5233\n",
      "Epoch 24/150\n",
      "300/300 [==============================] - 0s 69us/step - loss: 1.1655 - acc: 0.4467\n",
      "Epoch 25/150\n",
      "300/300 [==============================] - 0s 53us/step - loss: 0.9383 - acc: 0.4800\n",
      "Epoch 26/150\n",
      "300/300 [==============================] - 0s 58us/step - loss: 0.9534 - acc: 0.4933\n",
      "Epoch 27/150\n",
      "300/300 [==============================] - 0s 61us/step - loss: 0.8877 - acc: 0.4867\n",
      "Epoch 28/150\n",
      "300/300 [==============================] - 0s 56us/step - loss: 0.8683 - acc: 0.4667\n",
      "Epoch 29/150\n",
      "300/300 [==============================] - 0s 59us/step - loss: 1.0680 - acc: 0.4367\n",
      "Epoch 30/150\n",
      "300/300 [==============================] - 0s 58us/step - loss: 0.8833 - acc: 0.4833\n",
      "Epoch 31/150\n",
      "300/300 [==============================] - 0s 56us/step - loss: 0.9372 - acc: 0.4933\n",
      "Epoch 32/150\n",
      "300/300 [==============================] - 0s 54us/step - loss: 0.9931 - acc: 0.4400\n",
      "Epoch 33/150\n",
      "300/300 [==============================] - 0s 55us/step - loss: 0.8882 - acc: 0.4800\n",
      "Epoch 34/150\n",
      "300/300 [==============================] - 0s 62us/step - loss: 0.8747 - acc: 0.5200\n",
      "Epoch 35/150\n",
      "300/300 [==============================] - 0s 68us/step - loss: 0.8269 - acc: 0.5133\n",
      "Epoch 36/150\n",
      "300/300 [==============================] - 0s 66us/step - loss: 0.9770 - acc: 0.4600\n",
      "Epoch 37/150\n",
      "300/300 [==============================] - 0s 73us/step - loss: 0.8697 - acc: 0.4900\n",
      "Epoch 38/150\n",
      "300/300 [==============================] - 0s 57us/step - loss: 0.9934 - acc: 0.4867\n",
      "Epoch 39/150\n",
      "300/300 [==============================] - 0s 60us/step - loss: 1.0280 - acc: 0.4600\n",
      "Epoch 40/150\n",
      "300/300 [==============================] - 0s 74us/step - loss: 0.9373 - acc: 0.4567\n",
      "Epoch 41/150\n",
      "300/300 [==============================] - 0s 60us/step - loss: 0.8628 - acc: 0.5233\n",
      "Epoch 42/150\n",
      "300/300 [==============================] - 0s 55us/step - loss: 0.8402 - acc: 0.5367\n",
      "Epoch 43/150\n",
      "300/300 [==============================] - 0s 65us/step - loss: 0.8384 - acc: 0.4933\n",
      "Epoch 44/150\n",
      "300/300 [==============================] - 0s 62us/step - loss: 0.9507 - acc: 0.4700\n",
      "Epoch 45/150\n",
      "300/300 [==============================] - 0s 56us/step - loss: 0.9040 - acc: 0.5033\n",
      "Epoch 46/150\n",
      "300/300 [==============================] - 0s 58us/step - loss: 0.8456 - acc: 0.5133\n",
      "Epoch 47/150\n",
      "300/300 [==============================] - 0s 58us/step - loss: 1.0676 - acc: 0.4800\n",
      "Epoch 48/150\n",
      "300/300 [==============================] - 0s 57us/step - loss: 0.8619 - acc: 0.5267\n",
      "Epoch 49/150\n",
      "300/300 [==============================] - 0s 55us/step - loss: 0.8558 - acc: 0.4967\n",
      "Epoch 50/150\n",
      "300/300 [==============================] - 0s 79us/step - loss: 0.8382 - acc: 0.4900\n",
      "Epoch 51/150\n",
      "300/300 [==============================] - 0s 74us/step - loss: 0.8178 - acc: 0.5233\n",
      "Epoch 52/150\n",
      "300/300 [==============================] - 0s 57us/step - loss: 0.8469 - acc: 0.5667\n",
      "Epoch 53/150\n",
      "300/300 [==============================] - 0s 56us/step - loss: 1.1067 - acc: 0.4133\n",
      "Epoch 54/150\n",
      "300/300 [==============================] - 0s 58us/step - loss: 0.8612 - acc: 0.4733\n",
      "Epoch 55/150\n",
      "300/300 [==============================] - 0s 57us/step - loss: 0.8355 - acc: 0.4933\n",
      "Epoch 56/150\n",
      "300/300 [==============================] - 0s 61us/step - loss: 0.8318 - acc: 0.5433\n",
      "Epoch 57/150\n",
      "300/300 [==============================] - 0s 56us/step - loss: 0.8071 - acc: 0.4867\n",
      "Epoch 58/150\n",
      "300/300 [==============================] - 0s 61us/step - loss: 0.8216 - acc: 0.5700\n",
      "Epoch 59/150\n",
      "300/300 [==============================] - 0s 103us/step - loss: 0.7802 - acc: 0.5300\n",
      "Epoch 60/150\n",
      "300/300 [==============================] - 0s 62us/step - loss: 0.8084 - acc: 0.4933\n",
      "Epoch 61/150\n",
      "300/300 [==============================] - 0s 57us/step - loss: 0.9787 - acc: 0.4667\n",
      "Epoch 62/150\n",
      "300/300 [==============================] - 0s 59us/step - loss: 0.9784 - acc: 0.4633\n",
      "Epoch 63/150\n",
      "300/300 [==============================] - 0s 59us/step - loss: 0.8287 - acc: 0.5233\n",
      "Epoch 64/150\n",
      "300/300 [==============================] - 0s 55us/step - loss: 0.8166 - acc: 0.5333\n",
      "Epoch 65/150\n",
      "300/300 [==============================] - 0s 64us/step - loss: 0.8451 - acc: 0.5267\n",
      "Epoch 66/150\n",
      "300/300 [==============================] - 0s 63us/step - loss: 0.8260 - acc: 0.5167\n",
      "Epoch 67/150\n",
      "300/300 [==============================] - 0s 75us/step - loss: 1.2921 - acc: 0.3900\n",
      "Epoch 68/150\n",
      "300/300 [==============================] - 0s 104us/step - loss: 0.8677 - acc: 0.5167\n",
      "Epoch 69/150\n",
      "300/300 [==============================] - 0s 72us/step - loss: 0.8192 - acc: 0.5433\n",
      "Epoch 70/150\n",
      "300/300 [==============================] - 0s 84us/step - loss: 0.8330 - acc: 0.4900\n",
      "Epoch 71/150\n",
      "300/300 [==============================] - 0s 57us/step - loss: 0.8167 - acc: 0.5867\n",
      "Epoch 72/150\n",
      "300/300 [==============================] - 0s 57us/step - loss: 0.8129 - acc: 0.5333\n",
      "Epoch 73/150\n",
      "300/300 [==============================] - 0s 83us/step - loss: 0.8406 - acc: 0.4667\n",
      "Epoch 74/150\n",
      "300/300 [==============================] - 0s 62us/step - loss: 0.8346 - acc: 0.5167\n",
      "Epoch 75/150\n",
      "300/300 [==============================] - 0s 68us/step - loss: 0.8694 - acc: 0.5033\n",
      "Epoch 76/150\n",
      "300/300 [==============================] - 0s 67us/step - loss: 0.9697 - acc: 0.4933\n",
      "Epoch 77/150\n",
      "300/300 [==============================] - 0s 62us/step - loss: 0.8299 - acc: 0.5500\n",
      "Epoch 78/150\n",
      "300/300 [==============================] - 0s 73us/step - loss: 0.7832 - acc: 0.5600\n",
      "Epoch 79/150\n",
      "300/300 [==============================] - 0s 58us/step - loss: 0.7678 - acc: 0.4900\n",
      "Epoch 80/150\n",
      "300/300 [==============================] - 0s 64us/step - loss: 0.8124 - acc: 0.5233\n",
      "Epoch 81/150\n",
      "300/300 [==============================] - 0s 67us/step - loss: 0.7857 - acc: 0.5100\n",
      "Epoch 82/150\n",
      "300/300 [==============================] - 0s 62us/step - loss: 0.7965 - acc: 0.5533\n",
      "Epoch 83/150\n",
      "300/300 [==============================] - 0s 79us/step - loss: 1.0853 - acc: 0.4600\n",
      "Epoch 84/150\n",
      "300/300 [==============================] - 0s 113us/step - loss: 0.8339 - acc: 0.5100\n",
      "Epoch 85/150\n",
      "300/300 [==============================] - 0s 68us/step - loss: 0.7806 - acc: 0.5667\n",
      "Epoch 86/150\n",
      "300/300 [==============================] - 0s 78us/step - loss: 0.9879 - acc: 0.4800\n",
      "Epoch 87/150\n",
      "300/300 [==============================] - 0s 61us/step - loss: 0.8217 - acc: 0.5333\n",
      "Epoch 88/150\n",
      "300/300 [==============================] - 0s 63us/step - loss: 0.7695 - acc: 0.5033\n",
      "Epoch 89/150\n",
      "300/300 [==============================] - 0s 82us/step - loss: 0.7825 - acc: 0.5433\n",
      "Epoch 90/150\n",
      "300/300 [==============================] - 0s 71us/step - loss: 0.8181 - acc: 0.5200\n",
      "Epoch 91/150\n",
      "300/300 [==============================] - 0s 70us/step - loss: 0.8890 - acc: 0.5000\n",
      "Epoch 92/150\n",
      "300/300 [==============================] - 0s 65us/step - loss: 0.7682 - acc: 0.5433\n",
      "Epoch 93/150\n",
      "300/300 [==============================] - 0s 58us/step - loss: 0.8052 - acc: 0.4633\n",
      "Epoch 94/150\n",
      "300/300 [==============================] - 0s 97us/step - loss: 0.8160 - acc: 0.5333\n",
      "Epoch 95/150\n",
      "300/300 [==============================] - 0s 155us/step - loss: 0.7743 - acc: 0.5700\n",
      "Epoch 96/150\n",
      "300/300 [==============================] - 0s 119us/step - loss: 0.7915 - acc: 0.5700\n",
      "Epoch 97/150\n",
      "300/300 [==============================] - 0s 106us/step - loss: 0.8467 - acc: 0.4867\n",
      "Epoch 98/150\n",
      "300/300 [==============================] - 0s 64us/step - loss: 0.7998 - acc: 0.5367\n",
      "Epoch 99/150\n",
      "300/300 [==============================] - 0s 65us/step - loss: 0.8143 - acc: 0.5233\n",
      "Epoch 100/150\n",
      "300/300 [==============================] - 0s 62us/step - loss: 0.7760 - acc: 0.5333\n",
      "Epoch 101/150\n",
      "300/300 [==============================] - 0s 82us/step - loss: 0.7462 - acc: 0.5500\n",
      "Epoch 102/150\n",
      "300/300 [==============================] - 0s 56us/step - loss: 0.7797 - acc: 0.5100\n",
      "Epoch 103/150\n",
      "300/300 [==============================] - 0s 53us/step - loss: 0.7831 - acc: 0.5400\n",
      "Epoch 104/150\n",
      "300/300 [==============================] - 0s 69us/step - loss: 0.7670 - acc: 0.5300\n",
      "Epoch 105/150\n",
      "300/300 [==============================] - 0s 68us/step - loss: 0.7350 - acc: 0.5567\n",
      "Epoch 106/150\n",
      "300/300 [==============================] - 0s 58us/step - loss: 0.9446 - acc: 0.5167\n",
      "Epoch 107/150\n",
      "300/300 [==============================] - 0s 56us/step - loss: 0.7951 - acc: 0.5467\n",
      "Epoch 108/150\n",
      "300/300 [==============================] - 0s 66us/step - loss: 0.7828 - acc: 0.5633\n",
      "Epoch 109/150\n",
      "300/300 [==============================] - 0s 81us/step - loss: 0.7401 - acc: 0.6000\n",
      "Epoch 110/150\n",
      "300/300 [==============================] - 0s 99us/step - loss: 0.7687 - acc: 0.5567\n",
      "Epoch 111/150\n",
      "300/300 [==============================] - 0s 63us/step - loss: 0.7530 - acc: 0.5500\n",
      "Epoch 112/150\n",
      "300/300 [==============================] - 0s 124us/step - loss: 0.8019 - acc: 0.5033\n",
      "Epoch 113/150\n",
      "300/300 [==============================] - 0s 58us/step - loss: 0.7645 - acc: 0.5067\n",
      "Epoch 114/150\n",
      "300/300 [==============================] - 0s 64us/step - loss: 0.8653 - acc: 0.5200\n",
      "Epoch 115/150\n",
      "300/300 [==============================] - 0s 73us/step - loss: 0.9815 - acc: 0.4833\n",
      "Epoch 116/150\n",
      "300/300 [==============================] - 0s 75us/step - loss: 0.7882 - acc: 0.5433\n",
      "Epoch 117/150\n",
      "300/300 [==============================] - 0s 63us/step - loss: 0.8079 - acc: 0.5167\n",
      "Epoch 118/150\n",
      "300/300 [==============================] - 0s 56us/step - loss: 0.8075 - acc: 0.4833\n",
      "Epoch 119/150\n",
      "300/300 [==============================] - 0s 64us/step - loss: 0.7505 - acc: 0.5600\n",
      "Epoch 120/150\n",
      "300/300 [==============================] - 0s 67us/step - loss: 0.8582 - acc: 0.4900\n",
      "Epoch 121/150\n",
      "300/300 [==============================] - 0s 90us/step - loss: 0.7859 - acc: 0.5233\n",
      "Epoch 122/150\n",
      "300/300 [==============================] - 0s 90us/step - loss: 0.8809 - acc: 0.4600\n",
      "Epoch 123/150\n",
      "300/300 [==============================] - 0s 87us/step - loss: 0.8021 - acc: 0.4900\n",
      "Epoch 124/150\n",
      "300/300 [==============================] - 0s 87us/step - loss: 0.7754 - acc: 0.5167\n",
      "Epoch 125/150\n",
      "300/300 [==============================] - 0s 128us/step - loss: 0.7608 - acc: 0.5533\n",
      "Epoch 126/150\n",
      "300/300 [==============================] - 0s 66us/step - loss: 0.7333 - acc: 0.5967\n",
      "Epoch 127/150\n",
      "300/300 [==============================] - 0s 79us/step - loss: 0.7774 - acc: 0.5467\n",
      "Epoch 128/150\n",
      "300/300 [==============================] - 0s 108us/step - loss: 0.7579 - acc: 0.5633\n",
      "Epoch 129/150\n",
      "300/300 [==============================] - 0s 67us/step - loss: 0.8177 - acc: 0.4967\n",
      "Epoch 130/150\n",
      "300/300 [==============================] - 0s 65us/step - loss: 0.7613 - acc: 0.5333\n",
      "Epoch 131/150\n",
      "300/300 [==============================] - 0s 75us/step - loss: 0.7727 - acc: 0.5367\n",
      "Epoch 132/150\n",
      "300/300 [==============================] - 0s 61us/step - loss: 0.7448 - acc: 0.5400\n",
      "Epoch 133/150\n",
      "300/300 [==============================] - 0s 65us/step - loss: 0.8150 - acc: 0.5533\n",
      "Epoch 134/150\n",
      "300/300 [==============================] - 0s 76us/step - loss: 0.7354 - acc: 0.5533\n",
      "Epoch 135/150\n",
      "300/300 [==============================] - 0s 80us/step - loss: 0.7692 - acc: 0.5467\n",
      "Epoch 136/150\n",
      "300/300 [==============================] - 0s 111us/step - loss: 0.7691 - acc: 0.5133\n",
      "Epoch 137/150\n",
      "300/300 [==============================] - 0s 92us/step - loss: 0.7979 - acc: 0.5733\n",
      "Epoch 138/150\n",
      "300/300 [==============================] - 0s 117us/step - loss: 0.7497 - acc: 0.5233\n",
      "Epoch 139/150\n",
      "300/300 [==============================] - 0s 72us/step - loss: 0.9646 - acc: 0.4900\n",
      "Epoch 140/150\n",
      "300/300 [==============================] - 0s 66us/step - loss: 0.8099 - acc: 0.5100\n",
      "Epoch 141/150\n",
      "300/300 [==============================] - 0s 68us/step - loss: 0.7841 - acc: 0.5367\n",
      "Epoch 142/150\n",
      "300/300 [==============================] - 0s 67us/step - loss: 0.8083 - acc: 0.4767\n",
      "Epoch 143/150\n",
      "300/300 [==============================] - 0s 80us/step - loss: 0.7349 - acc: 0.5667\n",
      "Epoch 144/150\n",
      "300/300 [==============================] - 0s 80us/step - loss: 0.7654 - acc: 0.5400\n",
      "Epoch 145/150\n",
      "300/300 [==============================] - 0s 70us/step - loss: 0.7598 - acc: 0.5200\n",
      "Epoch 146/150\n",
      "300/300 [==============================] - 0s 82us/step - loss: 0.7656 - acc: 0.5800\n",
      "Epoch 147/150\n",
      "300/300 [==============================] - 0s 85us/step - loss: 1.1621 - acc: 0.4500\n",
      "Epoch 148/150\n",
      "300/300 [==============================] - 0s 69us/step - loss: 0.7965 - acc: 0.5200\n",
      "Epoch 149/150\n",
      "300/300 [==============================] - 0s 53us/step - loss: 0.7784 - acc: 0.5367\n",
      "Epoch 150/150\n",
      "300/300 [==============================] - 0s 66us/step - loss: 0.8565 - acc: 0.4967\n",
      "100/100 [==============================] - 0s 931us/step\n"
     ]
    },
    {
     "data": {
      "text/plain": [
       "[0.79672960042953489, 0.57000001668930056]"
      ]
     },
     "execution_count": 26,
     "metadata": {},
     "output_type": "execute_result"
    }
   ],
   "source": [
    "X_train, X_test, y_train, y_test = train_test_split(X, y, test_size=0.25, random_state=42)\n",
    "model.fit(X_train, y_train, batch_size=60, epochs=150)\n",
    "model.evaluate(X_test, y_test, batch_size=60)"
   ]
  },
  {
   "cell_type": "code",
   "execution_count": 27,
   "metadata": {},
   "outputs": [
    {
     "name": "stdout",
     "output_type": "stream",
     "text": [
      "Confusion matrix, without normalization\n",
      "[[ 9  0 15  7]\n",
      " [ 0 13  0  8]\n",
      " [ 7  0 18  0]\n",
      " [ 0  6  0 17]]\n"
     ]
    },
    {
     "data": {
      "image/png": "[encoded data removed]",
      "text/plain": [
       "<matplotlib.figure.Figure at 0x1239497f0>"
      ]
     },
     "metadata": {
      "needs_background": "light"
     },
     "output_type": "display_data"
    }
   ],
   "source": [
    "y_pred = model.predict(X_test)\n",
    "cnf_matrix = confusion_matrix(y_test.argmax(axis=1), y_pred.argmax(axis=1))\n",
    "np.set_printoptions(precision=2)\n",
    "plt.figure()\n",
    "plot_confusion_matrix(cnf_matrix, classes=playlist_dict, normalize=False,\n",
    "                      title='Confusion matrix')\n",
    "plt.show()"
   ]
  },
  {
   "cell_type": "markdown",
   "metadata": {},
   "source": [
    "Changing the amount of neurons in the first layer, drop out rate, batch size and epochs makes quite a big difference. The new model has a more consistent accuracy, a significant improvement from the first version. \n",
    "I feel that data exploration is still needed. Maybe I need to change my dataset and eliminate some redundant columns.\n",
    "Data Exploration will help me indicate what I columns would be most unique."
   ]
  },
  {
   "cell_type": "markdown",
   "metadata": {},
   "source": [
    "## Exploration"
   ]
  },
  {
   "cell_type": "code",
   "execution_count": 41,
   "metadata": {},
   "outputs": [],
   "source": [
    "def get_feature(column, operation):\n",
    "    categories = ['Get Turnt', 'Classical Essentials', 'Rock Save The Queen', 'Coffee Table Jazz']\n",
    "    idx = 0\n",
    "    for df_feature in df_features_list:\n",
    "        if operation == 'mean':\n",
    "            result = df_feature[column].mean()\n",
    "        elif operation == 'std':\n",
    "            result = df_feature[column].std()\n",
    "        elif operation == 'var':\n",
    "            result = df_feature[column].var()\n",
    "        print(f'{operation} for {categories[idx]} is: {result}')\n",
    "        idx += 1"
   ]
  },
  {
   "cell_type": "code",
   "execution_count": 53,
   "metadata": {},
   "outputs": [],
   "source": [
    "def get_features(columns, operation):\n",
    "    for column in columns:\n",
    "        print(f'Feature: {column}')\n",
    "        get_feature(column, operation)\n",
    "        print()"
   ]
  },
  {
   "cell_type": "code",
   "execution_count": 54,
   "metadata": {},
   "outputs": [
    {
     "name": "stdout",
     "output_type": "stream",
     "text": [
      "Feature: danceability\n",
      "mean for Get Turnt is: 0.8199299999999999\n",
      "mean for Classical Essentials is: 0.259256\n",
      "mean for Rock Save The Queen is: 0.46564999999999995\n",
      "mean for Coffee Table Jazz is: 0.4407500000000001\n",
      "\n",
      "Feature: energy\n",
      "mean for Get Turnt is: 0.6375\n",
      "mean for Classical Essentials is: 0.11576170000000001\n",
      "mean for Rock Save The Queen is: 0.8428500000000001\n",
      "mean for Coffee Table Jazz is: 0.13658599999999999\n",
      "\n",
      "Feature: key\n",
      "mean for Get Turnt is: 5.09\n",
      "mean for Classical Essentials is: 5.39\n",
      "mean for Rock Save The Queen is: 5.01\n",
      "mean for Coffee Table Jazz is: 5.1\n",
      "\n",
      "Feature: loudness\n",
      "mean for Get Turnt is: -6.157150000000001\n",
      "mean for Classical Essentials is: -23.28731\n",
      "mean for Rock Save The Queen is: -4.633870000000001\n",
      "mean for Coffee Table Jazz is: -18.281470000000002\n",
      "\n",
      "Feature: mode\n",
      "mean for Get Turnt is: 0.54\n",
      "mean for Classical Essentials is: 0.66\n",
      "mean for Rock Save The Queen is: 0.63\n",
      "mean for Coffee Table Jazz is: 0.63\n",
      "\n",
      "Feature: speechiness\n",
      "mean for Get Turnt is: 0.20607899999999998\n",
      "mean for Classical Essentials is: 0.044739\n",
      "mean for Rock Save The Queen is: 0.068372\n",
      "mean for Coffee Table Jazz is: 0.039058\n",
      "\n",
      "Feature: acousticness\n",
      "mean for Get Turnt is: 0.0794218\n",
      "mean for Classical Essentials is: 0.9353999999999999\n",
      "mean for Rock Save The Queen is: 0.014200603899999999\n",
      "mean for Coffee Table Jazz is: 0.9121400000000002\n",
      "\n",
      "Feature: instrumentalness\n",
      "mean for Get Turnt is: 0.0018456074999999997\n",
      "mean for Classical Essentials is: 0.6158633461999999\n",
      "mean for Rock Save The Queen is: 0.059819301400000004\n",
      "mean for Coffee Table Jazz is: 0.6129814\n",
      "\n",
      "Feature: valence\n",
      "mean for Get Turnt is: 0.48784299999999997\n",
      "mean for Classical Essentials is: 0.17466900000000007\n",
      "mean for Rock Save The Queen is: 0.4811639999999999\n",
      "mean for Coffee Table Jazz is: 0.17403799999999997\n",
      "\n",
      "Feature: tempo\n",
      "mean for Get Turnt is: 133.82905000000002\n",
      "mean for Classical Essentials is: 105.60500999999996\n",
      "mean for Rock Save The Queen is: 132.94964\n",
      "mean for Coffee Table Jazz is: 103.13698000000001\n",
      "\n"
     ]
    }
   ],
   "source": [
    "columns = df_features_list[0].columns[1:]\n",
    "get_features(columns, 'mean')"
   ]
  },
  {
   "cell_type": "code",
   "execution_count": 55,
   "metadata": {},
   "outputs": [
    {
     "name": "stdout",
     "output_type": "stream",
     "text": [
      "Feature: key\n",
      "std for Get Turnt is: 3.7446122912954833\n",
      "std for Classical Essentials is: 3.22520064366842\n",
      "std for Rock Save The Queen is: 4.013852276929247\n",
      "std for Coffee Table Jazz is: 3.445096060879416\n",
      "\n",
      "Feature: loudness\n",
      "std for Get Turnt is: 1.845915514963737\n",
      "std for Classical Essentials is: 6.75518373897955\n",
      "std for Rock Save The Queen is: 1.2968479631379115\n",
      "std for Coffee Table Jazz is: 4.646458117695127\n",
      "\n",
      "Feature: mode\n",
      "std for Get Turnt is: 0.5009082659620331\n",
      "std for Classical Essentials is: 0.47609522856952335\n",
      "std for Rock Save The Queen is: 0.4852365870939097\n",
      "std for Coffee Table Jazz is: 0.4852365870939097\n",
      "\n",
      "Feature: speechiness\n",
      "std for Get Turnt is: 0.11962027656148629\n",
      "std for Classical Essentials is: 0.009136107685243408\n",
      "std for Rock Save The Queen is: 0.04170642970559671\n",
      "std for Coffee Table Jazz is: 0.008175909179356807\n",
      "\n",
      "Feature: acousticness\n",
      "std for Get Turnt is: 0.09083253277234091\n",
      "std for Classical Essentials is: 0.0910103779186137\n",
      "std for Rock Save The Queen is: 0.038637896676943055\n",
      "std for Coffee Table Jazz is: 0.07641830919222159\n",
      "\n",
      "Feature: instrumentalness\n",
      "std for Get Turnt is: 0.009819640559467652\n",
      "std for Classical Essentials is: 0.3504786000386796\n",
      "std for Rock Save The Queen is: 0.167677763680013\n",
      "std for Coffee Table Jazz is: 0.31514989155881895\n",
      "\n",
      "Feature: valence\n",
      "std for Get Turnt is: 0.21495433165670283\n",
      "std for Classical Essentials is: 0.18322144392548984\n",
      "std for Rock Save The Queen is: 0.1574400726266565\n",
      "std for Coffee Table Jazz is: 0.08935397294361387\n",
      "\n",
      "Feature: tempo\n",
      "std for Get Turnt is: 29.15647144838873\n",
      "std for Classical Essentials is: 28.332278797307918\n",
      "std for Rock Save The Queen is: 28.835496672572496\n",
      "std for Coffee Table Jazz is: 26.019218841285515\n",
      "\n"
     ]
    }
   ],
   "source": [
    "columns = ['key', 'loudness', 'mode', 'speechiness', 'acousticness', 'instrumentalness', 'valence', 'tempo']\n",
    "get_features(columns, 'std')"
   ]
  },
  {
   "cell_type": "markdown",
   "metadata": {},
   "source": [
    "Looking at the means and Std Dev of the features, I can see that features with similar/close means may are not 'unique' features for the model. Furthermore, the features with similar means to one another and relatively close Std devs would be features that I may not want to use anymore. Features such as: tempo, key and mode. Speechiness and loudness are features that I could remove but I feel that the variation in values from category to category for these features may be more beneficial for the model."
   ]
  },
  {
   "cell_type": "markdown",
   "metadata": {},
   "source": [
    "## Model Revision "
   ]
  },
  {
   "cell_type": "markdown",
   "metadata": {},
   "source": [
    "### Change Training and Testing Data"
   ]
  },
  {
   "cell_type": "code",
   "execution_count": 71,
   "metadata": {},
   "outputs": [],
   "source": [
    "new_data_columns = ['danceability', 'energy', 'loudness', 'speechiness', 'acousticness', 'instrumentalness', 'valence']"
   ]
  },
  {
   "cell_type": "code",
   "execution_count": 87,
   "metadata": {},
   "outputs": [],
   "source": [
    "def rev_convert_df_to_array(df):\n",
    "    converted_list = []\n",
    "    for _, row in df.iterrows():\n",
    "        converted_list.append(np.array(list(row)))\n",
    "    return np.asarray(converted_list)"
   ]
  },
  {
   "cell_type": "code",
   "execution_count": 88,
   "metadata": {},
   "outputs": [],
   "source": [
    "def rev_create_X_data(df_features_list):\n",
    "    X = []\n",
    "    for df_features in df_features_list:\n",
    "        converted_array = rev_convert_df_to_array(df_features[new_data_columns])\n",
    "        for item in converted_array:\n",
    "            X.append(item)\n",
    "    return np.asarray(X)"
   ]
  },
  {
   "cell_type": "code",
   "execution_count": 89,
   "metadata": {},
   "outputs": [],
   "source": [
    "def rev_create_y_data():\n",
    "    y = np.array([])\n",
    "    for i in range(0, 4):\n",
    "        y = np.append(y, np.ones(shape=(100, 1)) * i)\n",
    "    return y"
   ]
  },
  {
   "cell_type": "code",
   "execution_count": 91,
   "metadata": {},
   "outputs": [
    {
     "data": {
      "text/plain": [
       "(400, 7)"
      ]
     },
     "execution_count": 91,
     "metadata": {},
     "output_type": "execute_result"
    }
   ],
   "source": [
    "X = rev_create_X_data(df_features_list) \n",
    "X.shape"
   ]
  },
  {
   "cell_type": "code",
   "execution_count": 92,
   "metadata": {},
   "outputs": [
    {
     "data": {
      "text/plain": [
       "(400, 4)"
      ]
     },
     "execution_count": 92,
     "metadata": {},
     "output_type": "execute_result"
    }
   ],
   "source": [
    "y = to_categorical(rev_create_y_data())\n",
    "y.shape"
   ]
  },
  {
   "cell_type": "code",
   "execution_count": 94,
   "metadata": {},
   "outputs": [
    {
     "data": {
      "text/plain": [
       "((300, 7), (300, 4))"
      ]
     },
     "execution_count": 94,
     "metadata": {},
     "output_type": "execute_result"
    }
   ],
   "source": [
    "X_train, X_test, y_train, y_test = train_test_split(X, y, test_size=0.25, random_state=42)\n",
    "X_train.shape, y_train.shape"
   ]
  },
  {
   "cell_type": "markdown",
   "metadata": {},
   "source": [
    "### Model V3"
   ]
  },
  {
   "cell_type": "code",
   "execution_count": 115,
   "metadata": {},
   "outputs": [],
   "source": [
    "model = Sequential()\n",
    "model.add(Dense(128, activation='relu', input_dim=7))\n",
    "model.add(Dropout(0.25))\n",
    "model.add(Dense(64, activation='relu'))\n",
    "model.add(Dropout(0.25))\n",
    "model.add(Dense(4, activation='softmax'))"
   ]
  },
  {
   "cell_type": "code",
   "execution_count": 116,
   "metadata": {},
   "outputs": [],
   "source": [
    "sgd = SGD()\n",
    "model.compile(loss='categorical_crossentropy', optimizer=sgd, metrics=['accuracy'])"
   ]
  },
  {
   "cell_type": "code",
   "execution_count": 119,
   "metadata": {},
   "outputs": [
    {
     "name": "stdout",
     "output_type": "stream",
     "text": [
      "Train on 360 samples, validate on 40 samples\n",
      "Epoch 1/150\n",
      "360/360 [==============================] - 0s 58us/step - loss: 0.6237 - acc: 0.6889 - val_loss: 0.5244 - val_acc: 0.8250\n",
      "Epoch 2/150\n",
      "360/360 [==============================] - 0s 45us/step - loss: 0.6083 - acc: 0.6556 - val_loss: 0.5274 - val_acc: 0.8000\n",
      "Epoch 3/150\n",
      "360/360 [==============================] - 0s 54us/step - loss: 0.6400 - acc: 0.6528 - val_loss: 0.5292 - val_acc: 0.7750\n",
      "Epoch 4/150\n",
      "360/360 [==============================] - 0s 54us/step - loss: 0.6368 - acc: 0.6528 - val_loss: 0.5230 - val_acc: 0.8250\n",
      "Epoch 5/150\n",
      "360/360 [==============================] - 0s 50us/step - loss: 0.6160 - acc: 0.6861 - val_loss: 0.5225 - val_acc: 0.8250\n",
      "Epoch 6/150\n",
      "360/360 [==============================] - 0s 46us/step - loss: 0.6281 - acc: 0.6833 - val_loss: 0.5230 - val_acc: 0.8250\n",
      "Epoch 7/150\n",
      "360/360 [==============================] - 0s 43us/step - loss: 0.6405 - acc: 0.6583 - val_loss: 0.5221 - val_acc: 0.8250\n",
      "Epoch 8/150\n",
      "360/360 [==============================] - 0s 50us/step - loss: 0.5908 - acc: 0.7083 - val_loss: 0.5233 - val_acc: 0.8000\n",
      "Epoch 9/150\n",
      "360/360 [==============================] - 0s 86us/step - loss: 0.6084 - acc: 0.6667 - val_loss: 0.5184 - val_acc: 0.8250\n",
      "Epoch 10/150\n",
      "360/360 [==============================] - 0s 62us/step - loss: 0.6052 - acc: 0.6806 - val_loss: 0.5221 - val_acc: 0.8250\n",
      "Epoch 11/150\n",
      "360/360 [==============================] - 0s 61us/step - loss: 0.6060 - acc: 0.7056 - val_loss: 0.5185 - val_acc: 0.8250\n",
      "Epoch 12/150\n",
      "360/360 [==============================] - 0s 70us/step - loss: 0.5934 - acc: 0.7111 - val_loss: 0.5185 - val_acc: 0.8250\n",
      "Epoch 13/150\n",
      "360/360 [==============================] - 0s 54us/step - loss: 0.6189 - acc: 0.6722 - val_loss: 0.5171 - val_acc: 0.8250\n",
      "Epoch 14/150\n",
      "360/360 [==============================] - 0s 62us/step - loss: 0.6095 - acc: 0.6833 - val_loss: 0.5152 - val_acc: 0.8500\n",
      "Epoch 15/150\n",
      "360/360 [==============================] - 0s 56us/step - loss: 0.5995 - acc: 0.7222 - val_loss: 0.5145 - val_acc: 0.8250\n",
      "Epoch 16/150\n",
      "360/360 [==============================] - 0s 58us/step - loss: 0.6239 - acc: 0.6667 - val_loss: 0.5108 - val_acc: 0.8250\n",
      "Epoch 17/150\n",
      "360/360 [==============================] - 0s 77us/step - loss: 0.6165 - acc: 0.6972 - val_loss: 0.5138 - val_acc: 0.8250\n",
      "Epoch 18/150\n",
      "360/360 [==============================] - 0s 53us/step - loss: 0.6185 - acc: 0.6583 - val_loss: 0.5145 - val_acc: 0.8250\n",
      "Epoch 19/150\n",
      "360/360 [==============================] - 0s 64us/step - loss: 0.6013 - acc: 0.7222 - val_loss: 0.5120 - val_acc: 0.8500\n",
      "Epoch 20/150\n",
      "360/360 [==============================] - 0s 56us/step - loss: 0.6025 - acc: 0.6944 - val_loss: 0.5127 - val_acc: 0.8250\n",
      "Epoch 21/150\n",
      "360/360 [==============================] - 0s 49us/step - loss: 0.6017 - acc: 0.7306 - val_loss: 0.5115 - val_acc: 0.8500\n",
      "Epoch 22/150\n",
      "360/360 [==============================] - 0s 64us/step - loss: 0.6034 - acc: 0.7111 - val_loss: 0.5078 - val_acc: 0.8250\n",
      "Epoch 23/150\n",
      "360/360 [==============================] - 0s 55us/step - loss: 0.5872 - acc: 0.7083 - val_loss: 0.5078 - val_acc: 0.8250\n",
      "Epoch 24/150\n",
      "360/360 [==============================] - 0s 70us/step - loss: 0.6002 - acc: 0.6806 - val_loss: 0.5113 - val_acc: 0.8250\n",
      "Epoch 25/150\n",
      "360/360 [==============================] - 0s 54us/step - loss: 0.5899 - acc: 0.7028 - val_loss: 0.5105 - val_acc: 0.8250\n",
      "Epoch 26/150\n",
      "360/360 [==============================] - 0s 74us/step - loss: 0.6115 - acc: 0.7028 - val_loss: 0.5113 - val_acc: 0.8250\n",
      "Epoch 27/150\n",
      "360/360 [==============================] - 0s 53us/step - loss: 0.6205 - acc: 0.6583 - val_loss: 0.5134 - val_acc: 0.8250\n",
      "Epoch 28/150\n",
      "360/360 [==============================] - 0s 57us/step - loss: 0.5784 - acc: 0.7167 - val_loss: 0.5050 - val_acc: 0.8250\n",
      "Epoch 29/150\n",
      "360/360 [==============================] - 0s 72us/step - loss: 0.6146 - acc: 0.6639 - val_loss: 0.5052 - val_acc: 0.8250\n",
      "Epoch 30/150\n",
      "360/360 [==============================] - 0s 42us/step - loss: 0.5921 - acc: 0.7194 - val_loss: 0.5033 - val_acc: 0.8250\n",
      "Epoch 31/150\n",
      "360/360 [==============================] - 0s 73us/step - loss: 0.5983 - acc: 0.7194 - val_loss: 0.5063 - val_acc: 0.8250\n",
      "Epoch 32/150\n",
      "360/360 [==============================] - 0s 47us/step - loss: 0.5657 - acc: 0.7222 - val_loss: 0.5058 - val_acc: 0.8250\n",
      "Epoch 33/150\n",
      "360/360 [==============================] - 0s 49us/step - loss: 0.5999 - acc: 0.6722 - val_loss: 0.5027 - val_acc: 0.8250\n",
      "Epoch 34/150\n",
      "360/360 [==============================] - 0s 66us/step - loss: 0.5785 - acc: 0.7222 - val_loss: 0.5020 - val_acc: 0.8250\n",
      "Epoch 35/150\n",
      "360/360 [==============================] - 0s 50us/step - loss: 0.5968 - acc: 0.6833 - val_loss: 0.5055 - val_acc: 0.8250\n",
      "Epoch 36/150\n",
      "360/360 [==============================] - 0s 44us/step - loss: 0.6123 - acc: 0.6778 - val_loss: 0.5002 - val_acc: 0.8500\n",
      "Epoch 37/150\n",
      "360/360 [==============================] - 0s 68us/step - loss: 0.5967 - acc: 0.7028 - val_loss: 0.5056 - val_acc: 0.8500\n",
      "Epoch 38/150\n",
      "360/360 [==============================] - 0s 51us/step - loss: 0.5829 - acc: 0.7000 - val_loss: 0.5011 - val_acc: 0.8250\n",
      "Epoch 39/150\n",
      "360/360 [==============================] - 0s 51us/step - loss: 0.5770 - acc: 0.7111 - val_loss: 0.5054 - val_acc: 0.7250\n",
      "Epoch 40/150\n",
      "360/360 [==============================] - 0s 50us/step - loss: 0.6175 - acc: 0.6722 - val_loss: 0.5075 - val_acc: 0.7500\n",
      "Epoch 41/150\n",
      "360/360 [==============================] - 0s 71us/step - loss: 0.5876 - acc: 0.7194 - val_loss: 0.5015 - val_acc: 0.8250\n",
      "Epoch 42/150\n",
      "360/360 [==============================] - 0s 58us/step - loss: 0.5884 - acc: 0.7083 - val_loss: 0.4963 - val_acc: 0.8250\n",
      "Epoch 43/150\n",
      "360/360 [==============================] - 0s 42us/step - loss: 0.5583 - acc: 0.7333 - val_loss: 0.4957 - val_acc: 0.8250\n",
      "Epoch 44/150\n",
      "360/360 [==============================] - 0s 44us/step - loss: 0.5627 - acc: 0.7167 - val_loss: 0.4891 - val_acc: 0.8250\n",
      "Epoch 45/150\n",
      "360/360 [==============================] - 0s 43us/step - loss: 0.5950 - acc: 0.7194 - val_loss: 0.4934 - val_acc: 0.8250\n",
      "Epoch 46/150\n",
      "360/360 [==============================] - 0s 90us/step - loss: 0.5861 - acc: 0.7056 - val_loss: 0.4922 - val_acc: 0.8250\n",
      "Epoch 47/150\n",
      "360/360 [==============================] - 0s 82us/step - loss: 0.5818 - acc: 0.7222 - val_loss: 0.4940 - val_acc: 0.8250\n",
      "Epoch 48/150\n",
      "360/360 [==============================] - 0s 66us/step - loss: 0.6162 - acc: 0.6639 - val_loss: 0.4914 - val_acc: 0.8250\n",
      "Epoch 49/150\n",
      "360/360 [==============================] - 0s 116us/step - loss: 0.5664 - acc: 0.7333 - val_loss: 0.4925 - val_acc: 0.8250\n",
      "Epoch 50/150\n",
      "360/360 [==============================] - 0s 108us/step - loss: 0.5824 - acc: 0.6833 - val_loss: 0.4918 - val_acc: 0.8500\n",
      "Epoch 51/150\n",
      "360/360 [==============================] - 0s 103us/step - loss: 0.5941 - acc: 0.6889 - val_loss: 0.5040 - val_acc: 0.7250\n",
      "Epoch 52/150\n",
      "360/360 [==============================] - 0s 89us/step - loss: 0.5740 - acc: 0.7083 - val_loss: 0.4957 - val_acc: 0.8250\n",
      "Epoch 53/150\n",
      "360/360 [==============================] - 0s 59us/step - loss: 0.5956 - acc: 0.7139 - val_loss: 0.4902 - val_acc: 0.8250\n",
      "Epoch 54/150\n",
      "360/360 [==============================] - 0s 104us/step - loss: 0.5785 - acc: 0.6750 - val_loss: 0.4956 - val_acc: 0.8250\n",
      "Epoch 55/150\n",
      "360/360 [==============================] - 0s 57us/step - loss: 0.5811 - acc: 0.7000 - val_loss: 0.4946 - val_acc: 0.8250\n",
      "Epoch 56/150\n",
      "360/360 [==============================] - 0s 56us/step - loss: 0.5741 - acc: 0.7083 - val_loss: 0.4896 - val_acc: 0.8250\n",
      "Epoch 57/150\n",
      "360/360 [==============================] - 0s 78us/step - loss: 0.5781 - acc: 0.7278 - val_loss: 0.4885 - val_acc: 0.8250\n",
      "Epoch 58/150\n",
      "360/360 [==============================] - 0s 153us/step - loss: 0.5536 - acc: 0.7333 - val_loss: 0.4918 - val_acc: 0.7750\n",
      "Epoch 59/150\n",
      "360/360 [==============================] - 0s 133us/step - loss: 0.5775 - acc: 0.7222 - val_loss: 0.4886 - val_acc: 0.8250\n",
      "Epoch 60/150\n",
      "360/360 [==============================] - 0s 128us/step - loss: 0.6087 - acc: 0.6611 - val_loss: 0.4962 - val_acc: 0.8250\n",
      "Epoch 61/150\n"
     ]
    },
    {
     "name": "stdout",
     "output_type": "stream",
     "text": [
      "360/360 [==============================] - 0s 69us/step - loss: 0.5841 - acc: 0.6889 - val_loss: 0.4988 - val_acc: 0.7250\n",
      "Epoch 62/150\n",
      "360/360 [==============================] - 0s 49us/step - loss: 0.5810 - acc: 0.6917 - val_loss: 0.4893 - val_acc: 0.8250\n",
      "Epoch 63/150\n",
      "360/360 [==============================] - 0s 97us/step - loss: 0.5621 - acc: 0.7417 - val_loss: 0.4908 - val_acc: 0.8000\n",
      "Epoch 64/150\n",
      "360/360 [==============================] - 0s 73us/step - loss: 0.5611 - acc: 0.7278 - val_loss: 0.4934 - val_acc: 0.7250\n",
      "Epoch 65/150\n",
      "360/360 [==============================] - 0s 49us/step - loss: 0.5637 - acc: 0.7000 - val_loss: 0.4846 - val_acc: 0.8250\n",
      "Epoch 66/150\n",
      "360/360 [==============================] - 0s 65us/step - loss: 0.5625 - acc: 0.7250 - val_loss: 0.4861 - val_acc: 0.7750\n",
      "Epoch 67/150\n",
      "360/360 [==============================] - 0s 98us/step - loss: 0.5631 - acc: 0.7028 - val_loss: 0.4786 - val_acc: 0.8500\n",
      "Epoch 68/150\n",
      "360/360 [==============================] - 0s 71us/step - loss: 0.5527 - acc: 0.7389 - val_loss: 0.4854 - val_acc: 0.7750\n",
      "Epoch 69/150\n",
      "360/360 [==============================] - 0s 77us/step - loss: 0.5630 - acc: 0.7333 - val_loss: 0.4855 - val_acc: 0.7500\n",
      "Epoch 70/150\n",
      "360/360 [==============================] - 0s 79us/step - loss: 0.5737 - acc: 0.7139 - val_loss: 0.4826 - val_acc: 0.7750\n",
      "Epoch 71/150\n",
      "360/360 [==============================] - 0s 81us/step - loss: 0.5655 - acc: 0.7222 - val_loss: 0.4825 - val_acc: 0.7750\n",
      "Epoch 72/150\n",
      "360/360 [==============================] - 0s 101us/step - loss: 0.5760 - acc: 0.7028 - val_loss: 0.4819 - val_acc: 0.8250\n",
      "Epoch 73/150\n",
      "360/360 [==============================] - 0s 97us/step - loss: 0.5848 - acc: 0.7000 - val_loss: 0.4819 - val_acc: 0.8250\n",
      "Epoch 74/150\n",
      "360/360 [==============================] - 0s 85us/step - loss: 0.5872 - acc: 0.6778 - val_loss: 0.4849 - val_acc: 0.7500\n",
      "Epoch 75/150\n",
      "360/360 [==============================] - 0s 73us/step - loss: 0.5510 - acc: 0.7556 - val_loss: 0.4788 - val_acc: 0.8250\n",
      "Epoch 76/150\n",
      "360/360 [==============================] - 0s 64us/step - loss: 0.5687 - acc: 0.7056 - val_loss: 0.4813 - val_acc: 0.8250\n",
      "Epoch 77/150\n",
      "360/360 [==============================] - 0s 66us/step - loss: 0.5655 - acc: 0.6917 - val_loss: 0.4815 - val_acc: 0.8250\n",
      "Epoch 78/150\n",
      "360/360 [==============================] - 0s 84us/step - loss: 0.5559 - acc: 0.7306 - val_loss: 0.4757 - val_acc: 0.8250\n",
      "Epoch 79/150\n",
      "360/360 [==============================] - 0s 118us/step - loss: 0.5880 - acc: 0.6889 - val_loss: 0.4777 - val_acc: 0.8250\n",
      "Epoch 80/150\n",
      "360/360 [==============================] - 0s 64us/step - loss: 0.5650 - acc: 0.6972 - val_loss: 0.4801 - val_acc: 0.7750\n",
      "Epoch 81/150\n",
      "360/360 [==============================] - 0s 55us/step - loss: 0.5646 - acc: 0.7111 - val_loss: 0.4772 - val_acc: 0.8250\n",
      "Epoch 82/150\n",
      "360/360 [==============================] - 0s 48us/step - loss: 0.5425 - acc: 0.7389 - val_loss: 0.4745 - val_acc: 0.8250\n",
      "Epoch 83/150\n",
      "360/360 [==============================] - 0s 64us/step - loss: 0.5770 - acc: 0.6917 - val_loss: 0.4765 - val_acc: 0.7750\n",
      "Epoch 84/150\n",
      "360/360 [==============================] - 0s 51us/step - loss: 0.5510 - acc: 0.7278 - val_loss: 0.4780 - val_acc: 0.7750\n",
      "Epoch 85/150\n",
      "360/360 [==============================] - 0s 62us/step - loss: 0.5565 - acc: 0.7111 - val_loss: 0.4782 - val_acc: 0.7750\n",
      "Epoch 86/150\n",
      "360/360 [==============================] - 0s 57us/step - loss: 0.5631 - acc: 0.7194 - val_loss: 0.4759 - val_acc: 0.7750\n",
      "Epoch 87/150\n",
      "360/360 [==============================] - 0s 62us/step - loss: 0.5631 - acc: 0.7194 - val_loss: 0.4786 - val_acc: 0.7750\n",
      "Epoch 88/150\n",
      "360/360 [==============================] - 0s 59us/step - loss: 0.5270 - acc: 0.7417 - val_loss: 0.4740 - val_acc: 0.7750\n",
      "Epoch 89/150\n",
      "360/360 [==============================] - 0s 54us/step - loss: 0.5654 - acc: 0.7278 - val_loss: 0.4738 - val_acc: 0.8000\n",
      "Epoch 90/150\n",
      "360/360 [==============================] - 0s 56us/step - loss: 0.5847 - acc: 0.7194 - val_loss: 0.4766 - val_acc: 0.7750\n",
      "Epoch 91/150\n",
      "360/360 [==============================] - 0s 57us/step - loss: 0.5619 - acc: 0.7056 - val_loss: 0.4768 - val_acc: 0.7750\n",
      "Epoch 92/150\n",
      "360/360 [==============================] - 0s 65us/step - loss: 0.5537 - acc: 0.7056 - val_loss: 0.4730 - val_acc: 0.8250\n",
      "Epoch 93/150\n",
      "360/360 [==============================] - 0s 51us/step - loss: 0.5621 - acc: 0.7056 - val_loss: 0.4736 - val_acc: 0.8250\n",
      "Epoch 94/150\n",
      "360/360 [==============================] - 0s 59us/step - loss: 0.5458 - acc: 0.7389 - val_loss: 0.4720 - val_acc: 0.8000\n",
      "Epoch 95/150\n",
      "360/360 [==============================] - 0s 51us/step - loss: 0.5363 - acc: 0.7583 - val_loss: 0.4656 - val_acc: 0.8250\n",
      "Epoch 96/150\n",
      "360/360 [==============================] - 0s 69us/step - loss: 0.5466 - acc: 0.7417 - val_loss: 0.4730 - val_acc: 0.7500\n",
      "Epoch 97/150\n",
      "360/360 [==============================] - 0s 65us/step - loss: 0.5607 - acc: 0.7000 - val_loss: 0.4725 - val_acc: 0.7500\n",
      "Epoch 98/150\n",
      "360/360 [==============================] - 0s 59us/step - loss: 0.5650 - acc: 0.7056 - val_loss: 0.4726 - val_acc: 0.7750\n",
      "Epoch 99/150\n",
      "360/360 [==============================] - 0s 52us/step - loss: 0.5478 - acc: 0.7611 - val_loss: 0.4711 - val_acc: 0.8000\n",
      "Epoch 100/150\n",
      "360/360 [==============================] - 0s 68us/step - loss: 0.5787 - acc: 0.6972 - val_loss: 0.4706 - val_acc: 0.7750\n",
      "Epoch 101/150\n",
      "360/360 [==============================] - 0s 68us/step - loss: 0.5604 - acc: 0.7250 - val_loss: 0.4699 - val_acc: 0.7750\n",
      "Epoch 102/150\n",
      "360/360 [==============================] - 0s 63us/step - loss: 0.5695 - acc: 0.7028 - val_loss: 0.4744 - val_acc: 0.7500\n",
      "Epoch 103/150\n",
      "360/360 [==============================] - 0s 58us/step - loss: 0.5513 - acc: 0.7139 - val_loss: 0.4641 - val_acc: 0.8250\n",
      "Epoch 104/150\n",
      "360/360 [==============================] - 0s 67us/step - loss: 0.5457 - acc: 0.7528 - val_loss: 0.4643 - val_acc: 0.8250\n",
      "Epoch 105/150\n",
      "360/360 [==============================] - 0s 59us/step - loss: 0.5658 - acc: 0.7111 - val_loss: 0.4654 - val_acc: 0.7750\n",
      "Epoch 106/150\n",
      "360/360 [==============================] - 0s 52us/step - loss: 0.5287 - acc: 0.7528 - val_loss: 0.4593 - val_acc: 0.8250\n",
      "Epoch 107/150\n",
      "360/360 [==============================] - 0s 58us/step - loss: 0.5573 - acc: 0.7278 - val_loss: 0.4669 - val_acc: 0.7750\n",
      "Epoch 108/150\n",
      "360/360 [==============================] - 0s 55us/step - loss: 0.5641 - acc: 0.7056 - val_loss: 0.4666 - val_acc: 0.7500\n",
      "Epoch 109/150\n",
      "360/360 [==============================] - 0s 66us/step - loss: 0.5441 - acc: 0.7333 - val_loss: 0.4621 - val_acc: 0.7750\n",
      "Epoch 110/150\n",
      "360/360 [==============================] - 0s 56us/step - loss: 0.5622 - acc: 0.6917 - val_loss: 0.4643 - val_acc: 0.8250\n",
      "Epoch 111/150\n",
      "360/360 [==============================] - 0s 64us/step - loss: 0.5749 - acc: 0.7083 - val_loss: 0.4640 - val_acc: 0.8250\n",
      "Epoch 112/150\n",
      "360/360 [==============================] - 0s 73us/step - loss: 0.5408 - acc: 0.7417 - val_loss: 0.4643 - val_acc: 0.7750\n",
      "Epoch 113/150\n",
      "360/360 [==============================] - 0s 67us/step - loss: 0.5395 - acc: 0.7444 - val_loss: 0.4601 - val_acc: 0.8500\n",
      "Epoch 114/150\n",
      "360/360 [==============================] - 0s 83us/step - loss: 0.5367 - acc: 0.7444 - val_loss: 0.4575 - val_acc: 0.8250\n",
      "Epoch 115/150\n",
      "360/360 [==============================] - 0s 80us/step - loss: 0.5523 - acc: 0.7361 - val_loss: 0.4613 - val_acc: 0.8250\n",
      "Epoch 116/150\n",
      "360/360 [==============================] - 0s 79us/step - loss: 0.5375 - acc: 0.7167 - val_loss: 0.4561 - val_acc: 0.8500\n",
      "Epoch 117/150\n",
      "360/360 [==============================] - 0s 70us/step - loss: 0.5501 - acc: 0.7194 - val_loss: 0.4532 - val_acc: 0.8250\n",
      "Epoch 118/150\n",
      "360/360 [==============================] - 0s 71us/step - loss: 0.5238 - acc: 0.7583 - val_loss: 0.4510 - val_acc: 0.8500\n",
      "Epoch 119/150\n",
      "360/360 [==============================] - 0s 68us/step - loss: 0.5110 - acc: 0.7417 - val_loss: 0.4508 - val_acc: 0.8250\n",
      "Epoch 120/150\n",
      "360/360 [==============================] - 0s 66us/step - loss: 0.5473 - acc: 0.7028 - val_loss: 0.4518 - val_acc: 0.8250\n",
      "Epoch 121/150\n"
     ]
    },
    {
     "name": "stdout",
     "output_type": "stream",
     "text": [
      "360/360 [==============================] - 0s 69us/step - loss: 0.5533 - acc: 0.7361 - val_loss: 0.4506 - val_acc: 0.8250\n",
      "Epoch 122/150\n",
      "360/360 [==============================] - 0s 82us/step - loss: 0.5445 - acc: 0.7361 - val_loss: 0.4615 - val_acc: 0.8000\n",
      "Epoch 123/150\n",
      "360/360 [==============================] - 0s 70us/step - loss: 0.5119 - acc: 0.7528 - val_loss: 0.4511 - val_acc: 0.8250\n",
      "Epoch 124/150\n",
      "360/360 [==============================] - 0s 59us/step - loss: 0.5321 - acc: 0.7250 - val_loss: 0.4567 - val_acc: 0.7750\n",
      "Epoch 125/150\n",
      "360/360 [==============================] - 0s 60us/step - loss: 0.5319 - acc: 0.7056 - val_loss: 0.4514 - val_acc: 0.8250\n",
      "Epoch 126/150\n",
      "360/360 [==============================] - 0s 57us/step - loss: 0.5544 - acc: 0.7361 - val_loss: 0.4607 - val_acc: 0.8250\n",
      "Epoch 127/150\n",
      "360/360 [==============================] - 0s 91us/step - loss: 0.5422 - acc: 0.7111 - val_loss: 0.4514 - val_acc: 0.7750\n",
      "Epoch 128/150\n",
      "360/360 [==============================] - 0s 68us/step - loss: 0.5687 - acc: 0.7111 - val_loss: 0.4567 - val_acc: 0.7750\n",
      "Epoch 129/150\n",
      "360/360 [==============================] - 0s 71us/step - loss: 0.5290 - acc: 0.7528 - val_loss: 0.4528 - val_acc: 0.8250\n",
      "Epoch 130/150\n",
      "360/360 [==============================] - 0s 73us/step - loss: 0.5366 - acc: 0.7222 - val_loss: 0.4460 - val_acc: 0.8250\n",
      "Epoch 131/150\n",
      "360/360 [==============================] - 0s 70us/step - loss: 0.5207 - acc: 0.7444 - val_loss: 0.4495 - val_acc: 0.7750\n",
      "Epoch 132/150\n",
      "360/360 [==============================] - 0s 67us/step - loss: 0.5407 - acc: 0.7333 - val_loss: 0.4557 - val_acc: 0.7500\n",
      "Epoch 133/150\n",
      "360/360 [==============================] - 0s 79us/step - loss: 0.5422 - acc: 0.7028 - val_loss: 0.4524 - val_acc: 0.7750\n",
      "Epoch 134/150\n",
      "360/360 [==============================] - 0s 74us/step - loss: 0.5442 - acc: 0.7056 - val_loss: 0.4490 - val_acc: 0.8250\n",
      "Epoch 135/150\n",
      "360/360 [==============================] - 0s 74us/step - loss: 0.5236 - acc: 0.7444 - val_loss: 0.4502 - val_acc: 0.7750\n",
      "Epoch 136/150\n",
      "360/360 [==============================] - 0s 71us/step - loss: 0.5295 - acc: 0.7472 - val_loss: 0.4477 - val_acc: 0.8250\n",
      "Epoch 137/150\n",
      "360/360 [==============================] - 0s 60us/step - loss: 0.5119 - acc: 0.7778 - val_loss: 0.4470 - val_acc: 0.7750\n",
      "Epoch 138/150\n",
      "360/360 [==============================] - 0s 72us/step - loss: 0.5438 - acc: 0.7000 - val_loss: 0.4507 - val_acc: 0.7750\n",
      "Epoch 139/150\n",
      "360/360 [==============================] - 0s 82us/step - loss: 0.5238 - acc: 0.7083 - val_loss: 0.4464 - val_acc: 0.8000\n",
      "Epoch 140/150\n",
      "360/360 [==============================] - 0s 58us/step - loss: 0.5175 - acc: 0.7556 - val_loss: 0.4405 - val_acc: 0.8250\n",
      "Epoch 141/150\n",
      "360/360 [==============================] - 0s 69us/step - loss: 0.4964 - acc: 0.7722 - val_loss: 0.4403 - val_acc: 0.8250\n",
      "Epoch 142/150\n",
      "360/360 [==============================] - 0s 64us/step - loss: 0.5384 - acc: 0.7361 - val_loss: 0.4391 - val_acc: 0.8250\n",
      "Epoch 143/150\n",
      "360/360 [==============================] - 0s 57us/step - loss: 0.5269 - acc: 0.7472 - val_loss: 0.4373 - val_acc: 0.8250\n",
      "Epoch 144/150\n",
      "360/360 [==============================] - 0s 59us/step - loss: 0.5137 - acc: 0.7500 - val_loss: 0.4408 - val_acc: 0.8250\n",
      "Epoch 145/150\n",
      "360/360 [==============================] - 0s 75us/step - loss: 0.5238 - acc: 0.7361 - val_loss: 0.4417 - val_acc: 0.8250\n",
      "Epoch 146/150\n",
      "360/360 [==============================] - 0s 55us/step - loss: 0.5671 - acc: 0.7111 - val_loss: 0.4444 - val_acc: 0.8500\n",
      "Epoch 147/150\n",
      "360/360 [==============================] - 0s 66us/step - loss: 0.5573 - acc: 0.7167 - val_loss: 0.4448 - val_acc: 0.8250\n",
      "Epoch 148/150\n",
      "360/360 [==============================] - 0s 65us/step - loss: 0.5307 - acc: 0.7278 - val_loss: 0.4444 - val_acc: 0.7750\n",
      "Epoch 149/150\n",
      "360/360 [==============================] - 0s 79us/step - loss: 0.5156 - acc: 0.7583 - val_loss: 0.4418 - val_acc: 0.8250\n",
      "Epoch 150/150\n",
      "360/360 [==============================] - 0s 75us/step - loss: 0.5313 - acc: 0.7250 - val_loss: 0.4423 - val_acc: 0.7750\n",
      "40/40 [==============================] - 0s 44us/step\n"
     ]
    },
    {
     "data": {
      "text/plain": [
       "[0.44227123260498047, 0.77499997615814209]"
      ]
     },
     "execution_count": 119,
     "metadata": {},
     "output_type": "execute_result"
    }
   ],
   "source": [
    "X_train, X_test, y_train, y_test = train_test_split(X, y, test_size=0.1, random_state=42)\n",
    "model.fit(X_train, y_train, batch_size=60, epochs=150, validation_data=(X_test, y_test))\n",
    "model.evaluate(X_test, y_test, batch_size=60)"
   ]
  },
  {
   "cell_type": "code",
   "execution_count": 111,
   "metadata": {},
   "outputs": [
    {
     "name": "stdout",
     "output_type": "stream",
     "text": [
      "Confusion matrix, without normalization\n",
      "[[9 0 3 0]\n",
      " [0 7 0 2]\n",
      " [2 0 9 0]\n",
      " [0 1 0 7]]\n"
     ]
    },
    {
     "data": {
      "image/png": "[encoded data removed]",
      "text/plain": [
       "<matplotlib.figure.Figure at 0x12d187240>"
      ]
     },
     "metadata": {
      "needs_background": "light"
     },
     "output_type": "display_data"
    }
   ],
   "source": [
    "y_pred = model.predict(X_test)\n",
    "cnf_matrix = confusion_matrix(y_test.argmax(axis=1), y_pred.argmax(axis=1))\n",
    "np.set_printoptions(precision=2)\n",
    "plt.figure()\n",
    "plot_confusion_matrix(cnf_matrix, classes=playlist_dict, normalize=False,\n",
    "                      title='Confusion matrix')\n",
    "plt.show()"
   ]
  },
  {
   "cell_type": "markdown",
   "metadata": {},
   "source": []
  }
 ],
 "metadata": {
  "kernelspec": {
   "display_name": "Python 3",
   "language": "python",
   "name": "python3"
  },
  "language_info": {
   "codemirror_mode": {
    "name": "ipython",
    "version": 3
   },
   "file_extension": ".py",
   "mimetype": "text/x-python",
   "name": "python",
   "nbconvert_exporter": "python",
   "pygments_lexer": "ipython3",
   "version": "3.6.5"
  }
 },
 "nbformat": 4,
 "nbformat_minor": 2
}
