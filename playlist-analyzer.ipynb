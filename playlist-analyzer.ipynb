{
 "cells": [
  {
   "cell_type": "markdown",
   "metadata": {},
   "source": [
    "## Load Spotify API"
   ]
  },
  {
   "cell_type": "code",
   "execution_count": 3,
   "metadata": {},
   "outputs": [],
   "source": [
    "import spotipy\n",
    "import spotipy.util as util\n",
    "from spotipy.oauth2 import SpotifyClientCredentials\n",
    "import json"
   ]
  },
  {
   "cell_type": "code",
   "execution_count": 4,
   "metadata": {},
   "outputs": [],
   "source": [
    "with open('./config.json') as f:\n",
    "    config = json.load(f)\n",
    "client_id = config['client_id']\n",
    "client_secret = config['client_secret']\n",
    "redirect_uri='https://www.google.com/'"
   ]
  },
  {
   "cell_type": "code",
   "execution_count": 5,
   "metadata": {},
   "outputs": [],
   "source": [
    "username = config['username']\n",
    "client_creds_manager = SpotifyClientCredentials(client_id=client_id, client_secret=client_secret)\n",
    "scope = \"user-library-read playlist-read-private\"\n",
    "try:\n",
    "    token = util.prompt_for_user_token(username, scope, client_id=client_id, \n",
    "                                       client_secret=client_secret, redirect_uri=redirect_uri)\n",
    "    sp = spotipy.Spotify(auth=token)\n",
    "except:\n",
    "    print(f'token is not accessible for {username}')"
   ]
  },
  {
   "cell_type": "markdown",
   "metadata": {},
   "source": [
    "## Grab Data from Spotify API"
   ]
  },
  {
   "cell_type": "code",
   "execution_count": 6,
   "metadata": {},
   "outputs": [],
   "source": [
    "import pandas as pd\n",
    "import numpy as np\n",
    "from pprint import pprint\n",
    "import matplotlib.pyplot as plt\n",
    "import seaborn as sns"
   ]
  },
  {
   "cell_type": "code",
   "execution_count": 7,
   "metadata": {},
   "outputs": [],
   "source": [
    "playlist_dict = {\n",
    "    \"Get Turnt\": \"37i9dQZF1DWY4xHQp97fN6\",\n",
    "    \"Classical Essentials\": \"37i9dQZF1DWWEJlAGA9gs0\", #37i9dQZF1DXaXB8fQg7xif\n",
    "    \"Rock Save the Queen\" : \"37i9dQZF1DXcDnIr0iKAG8\",\n",
    "    \"Coffee Table Jazz\" : \"37i9dQZF1DWVqfgj8NZEp1\"\n",
    "}\n",
    "spotify_username = 'Spotify'"
   ]
  },
  {
   "cell_type": "code",
   "execution_count": 8,
   "metadata": {},
   "outputs": [],
   "source": [
    "# Load the playlists into objects\n",
    "playlists = [sp.user_playlist(spotify_username, playlist_id=v) for _, v in playlist_dict.items()]"
   ]
  },
  {
   "cell_type": "code",
   "execution_count": 9,
   "metadata": {},
   "outputs": [],
   "source": [
    "def extract_playlist_info(playlists):\n",
    "    df_playlists = []\n",
    "    for playlist in playlists:\n",
    "        playlist_items = playlist['tracks']['items']\n",
    "        df_playlist = pd.DataFrame(columns=('song_id', 'song_name', 'song_artist'))\n",
    "        for item in playlist_items:\n",
    "            track = item['track']\n",
    "            df_playlist = df_playlist.append(\n",
    "                {\n",
    "                    'song_id': track['id'],\n",
    "                    'song_name': track['name'],\n",
    "                    'song_artist': track['artists'][0]['name']\n",
    "                },\n",
    "                ignore_index=True\n",
    "            )\n",
    "        df_playlists.append(df_playlist)\n",
    "    return df_playlists"
   ]
  },
  {
   "cell_type": "code",
   "execution_count": 10,
   "metadata": {},
   "outputs": [],
   "source": [
    "def extract_audio_features(df_playlists):\n",
    "    df_features_list = []\n",
    "    columns = ['song_name', 'danceability', 'energy', 'key', 'loudness', 'mode', \n",
    "            'speechiness', 'acousticness', 'instrumentalness', 'valence', 'tempo']\n",
    "    for df_playlist in df_playlists:\n",
    "        song_ids = list(df_playlist['song_id'])\n",
    "        df_audio_features = pd.DataFrame(data=sp.audio_features(tracks=song_ids))\n",
    "        \n",
    "        df_features = df_audio_features[columns[1:]].join(df_playlist['song_name'])\n",
    "        df_features_list.append(df_features[columns]) # put columns inside to make sure song_name \n",
    "                                                      #is the first column.\n",
    "    return df_features_list"
   ]
  },
  {
   "cell_type": "code",
   "execution_count": 11,
   "metadata": {},
   "outputs": [
    {
     "name": "stdout",
     "output_type": "stream",
     "text": [
      "song_name           Pure Water (with Migos)\n",
      "danceability                           0.68\n",
      "energy                                0.559\n",
      "key                                       0\n",
      "loudness                             -5.545\n",
      "mode                                      1\n",
      "speechiness                           0.129\n",
      "acousticness                          0.172\n",
      "instrumentalness                          0\n",
      "valence                               0.137\n",
      "tempo                               202.006\n",
      "Name: 4, dtype: object\n",
      "\n",
      "song_name           California\n",
      "danceability             0.432\n",
      "energy                   0.684\n",
      "key                          2\n",
      "loudness                 -5.23\n",
      "mode                         0\n",
      "speechiness              0.199\n",
      "acousticness           0.00279\n",
      "instrumentalness             0\n",
      "valence                   0.44\n",
      "tempo                   181.89\n",
      "Name: 8, dtype: object\n"
     ]
    }
   ],
   "source": [
    "df_playlists = extract_playlist_info(playlists)\n",
    "df_features_list = extract_audio_features(df_playlists)\n",
    "pprint(df_features_list[0].loc[4])\n",
    "print()\n",
    "pprint(df_features_list[2].loc[8])"
   ]
  },
  {
   "cell_type": "markdown",
   "metadata": {},
   "source": [
    "## Setting up Training Data"
   ]
  },
  {
   "cell_type": "code",
   "execution_count": 12,
   "metadata": {},
   "outputs": [
    {
     "name": "stderr",
     "output_type": "stream",
     "text": [
      "Using TensorFlow backend.\n",
      "/usr/local/Cellar/python/3.6.5_1/Frameworks/Python.framework/Versions/3.6/lib/python3.6/importlib/_bootstrap.py:219: RuntimeWarning: compiletime version 3.5 of module 'tensorflow.python.framework.fast_tensor_util' does not match runtime version 3.6\n",
      "  return f(*args, **kwds)\n"
     ]
    }
   ],
   "source": [
    "from keras.utils import to_categorical\n",
    "from sklearn.model_selection import train_test_split"
   ]
  },
  {
   "cell_type": "code",
   "execution_count": 13,
   "metadata": {},
   "outputs": [],
   "source": [
    "def convert_df_to_array(df):\n",
    "    converted_list = []\n",
    "    for _, row in df.iterrows():\n",
    "        converted_list.append(np.array(list(row[1:])))  # use 1: to avoid adding in song name\n",
    "    return np.asarray(converted_list)"
   ]
  },
  {
   "cell_type": "code",
   "execution_count": 14,
   "metadata": {},
   "outputs": [],
   "source": [
    "def create_X_data(df_features_list):\n",
    "    X = []\n",
    "    for df_features in df_features_list:\n",
    "        converted_array = convert_df_to_array(df_features)\n",
    "        for item in converted_array:\n",
    "            X.append(item)\n",
    "    return np.asarray(X)"
   ]
  },
  {
   "cell_type": "code",
   "execution_count": 15,
   "metadata": {},
   "outputs": [],
   "source": [
    "def create_y_data():\n",
    "    y = np.array([])\n",
    "    for i in range(0, 4):\n",
    "        y = np.append(y, np.ones(shape=(100, 1)) * i)\n",
    "    return y"
   ]
  },
  {
   "cell_type": "code",
   "execution_count": 16,
   "metadata": {},
   "outputs": [
    {
     "data": {
      "text/plain": [
       "(400, 10)"
      ]
     },
     "execution_count": 16,
     "metadata": {},
     "output_type": "execute_result"
    }
   ],
   "source": [
    "X = create_X_data(df_features_list) \n",
    "X.shape"
   ]
  },
  {
   "cell_type": "code",
   "execution_count": 17,
   "metadata": {},
   "outputs": [
    {
     "data": {
      "text/plain": [
       "(400, 4)"
      ]
     },
     "execution_count": 17,
     "metadata": {},
     "output_type": "execute_result"
    }
   ],
   "source": [
    "y = to_categorical(create_y_data())\n",
    "y.shape"
   ]
  },
  {
   "cell_type": "code",
   "execution_count": 18,
   "metadata": {},
   "outputs": [
    {
     "data": {
      "text/plain": [
       "((360, 10), (360, 4))"
      ]
     },
     "execution_count": 18,
     "metadata": {},
     "output_type": "execute_result"
    }
   ],
   "source": [
    "X_train, X_test, y_train, y_test = train_test_split(X, y, test_size=0.1, random_state=42) # data set small\n",
    "                                                                                          # so smaller test size\n",
    "X_train.shape, y_train.shape"
   ]
  },
  {
   "cell_type": "markdown",
   "metadata": {},
   "source": [
    "## Create Model"
   ]
  },
  {
   "cell_type": "code",
   "execution_count": 19,
   "metadata": {},
   "outputs": [],
   "source": [
    "import keras\n",
    "from keras.models import Sequential\n",
    "from keras.layers import Dense, Dropout\n",
    "from keras.optimizers import SGD\n",
    "from sklearn.metrics import confusion_matrix"
   ]
  },
  {
   "cell_type": "code",
   "execution_count": 20,
   "metadata": {},
   "outputs": [],
   "source": [
    "import itertools\n",
    "def plot_confusion_matrix(cm, classes,\n",
    "                          normalize=False,\n",
    "                          title='Confusion matrix',\n",
    "                          cmap=plt.cm.Blues):\n",
    "    \"\"\"\n",
    "    This function prints and plots the confusion matrix.\n",
    "    Normalization can be applied by setting `normalize=True`.\n",
    "    \"\"\"\n",
    "    if normalize:\n",
    "        cm = cm.astype('float') / cm.sum(axis=1)[:, np.newaxis]\n",
    "        print(\"Normalized confusion matrix\")\n",
    "    else:\n",
    "        print('Confusion matrix, without normalization')\n",
    "\n",
    "    print(cm)\n",
    "\n",
    "    plt.imshow(cm, interpolation='nearest', cmap=cmap)\n",
    "    plt.title(title)\n",
    "    plt.colorbar()\n",
    "    tick_marks = np.arange(len(classes))\n",
    "    plt.xticks(tick_marks, classes, rotation=45)\n",
    "    plt.yticks(tick_marks, classes)\n",
    "\n",
    "    fmt = '.2f' if normalize else 'd'\n",
    "    thresh = cm.max() / 2.\n",
    "    for i, j in itertools.product(range(cm.shape[0]), range(cm.shape[1])):\n",
    "        plt.text(j, i, format(cm[i, j], fmt),\n",
    "                 horizontalalignment=\"center\",\n",
    "                 color=\"white\" if cm[i, j] > thresh else \"black\")\n",
    "\n",
    "    plt.ylabel('True label')\n",
    "    plt.xlabel('Predicted label')\n",
    "    plt.tight_layout()"
   ]
  },
  {
   "cell_type": "markdown",
   "metadata": {},
   "source": [
    "### Model V1"
   ]
  },
  {
   "cell_type": "code",
   "execution_count": 21,
   "metadata": {},
   "outputs": [],
   "source": [
    "model = Sequential()\n",
    "model.add(Dense(64, activation='relu', input_dim=10))\n",
    "model.add(Dropout(0.5))\n",
    "model.add(Dense(64, activation='relu'))\n",
    "model.add(Dropout(0.5))\n",
    "model.add(Dense(4, activation='softmax'))"
   ]
  },
  {
   "cell_type": "code",
   "execution_count": 22,
   "metadata": {},
   "outputs": [
    {
     "name": "stdout",
     "output_type": "stream",
     "text": [
      "Epoch 1/30\n",
      "360/360 [==============================] - 0s 959us/step - loss: 10.6342 - acc: 0.2306\n",
      "Epoch 2/30\n",
      "360/360 [==============================] - 0s 27us/step - loss: 9.6480 - acc: 0.2917\n",
      "Epoch 3/30\n",
      "360/360 [==============================] - 0s 30us/step - loss: 10.5677 - acc: 0.2417\n",
      "Epoch 4/30\n",
      "360/360 [==============================] - 0s 44us/step - loss: 8.6006 - acc: 0.2778\n",
      "Epoch 5/30\n",
      "360/360 [==============================] - 0s 33us/step - loss: 6.2807 - acc: 0.3194\n",
      "Epoch 6/30\n",
      "360/360 [==============================] - 0s 38us/step - loss: 3.1967 - acc: 0.3056\n",
      "Epoch 7/30\n",
      "360/360 [==============================] - 0s 49us/step - loss: 1.5806 - acc: 0.3111\n",
      "Epoch 8/30\n",
      "360/360 [==============================] - 0s 36us/step - loss: 1.2837 - acc: 0.4056\n",
      "Epoch 9/30\n",
      "360/360 [==============================] - 0s 28us/step - loss: 1.2978 - acc: 0.4194\n",
      "Epoch 10/30\n",
      "360/360 [==============================] - 0s 26us/step - loss: 1.3147 - acc: 0.4028\n",
      "Epoch 11/30\n",
      "360/360 [==============================] - 0s 48us/step - loss: 1.3375 - acc: 0.3806\n",
      "Epoch 12/30\n",
      "360/360 [==============================] - 0s 34us/step - loss: 1.2612 - acc: 0.4278\n",
      "Epoch 13/30\n",
      "360/360 [==============================] - 0s 23us/step - loss: 1.2365 - acc: 0.4417\n",
      "Epoch 14/30\n",
      "360/360 [==============================] - 0s 25us/step - loss: 1.2837 - acc: 0.3944\n",
      "Epoch 15/30\n",
      "360/360 [==============================] - 0s 38us/step - loss: 1.3018 - acc: 0.3639\n",
      "Epoch 16/30\n",
      "360/360 [==============================] - 0s 40us/step - loss: 1.3010 - acc: 0.4194\n",
      "Epoch 17/30\n",
      "360/360 [==============================] - 0s 27us/step - loss: 1.3115 - acc: 0.3972\n",
      "Epoch 18/30\n",
      "360/360 [==============================] - 0s 28us/step - loss: 1.3045 - acc: 0.3806\n",
      "Epoch 19/30\n",
      "360/360 [==============================] - 0s 31us/step - loss: 1.2697 - acc: 0.4083\n",
      "Epoch 20/30\n",
      "360/360 [==============================] - 0s 57us/step - loss: 1.3782 - acc: 0.3083\n",
      "Epoch 21/30\n",
      "360/360 [==============================] - 0s 30us/step - loss: 1.3630 - acc: 0.3444\n",
      "Epoch 22/30\n",
      "360/360 [==============================] - 0s 34us/step - loss: 1.3323 - acc: 0.3444\n",
      "Epoch 23/30\n",
      "360/360 [==============================] - 0s 29us/step - loss: 1.3692 - acc: 0.3250\n",
      "Epoch 24/30\n",
      "360/360 [==============================] - 0s 48us/step - loss: 1.3593 - acc: 0.3583\n",
      "Epoch 25/30\n",
      "360/360 [==============================] - 0s 33us/step - loss: 1.3538 - acc: 0.3528\n",
      "Epoch 26/30\n",
      "360/360 [==============================] - 0s 28us/step - loss: 1.3349 - acc: 0.3611\n",
      "Epoch 27/30\n",
      "360/360 [==============================] - 0s 35us/step - loss: 1.3094 - acc: 0.3667\n",
      "Epoch 28/30\n",
      "360/360 [==============================] - 0s 31us/step - loss: 1.3148 - acc: 0.3750\n",
      "Epoch 29/30\n",
      "360/360 [==============================] - 0s 54us/step - loss: 1.3253 - acc: 0.3694\n",
      "Epoch 30/30\n",
      "360/360 [==============================] - 0s 41us/step - loss: 1.3044 - acc: 0.3472\n"
     ]
    },
    {
     "data": {
      "text/plain": [
       "<keras.callbacks.History at 0x116bf3cf8>"
      ]
     },
     "execution_count": 22,
     "metadata": {},
     "output_type": "execute_result"
    }
   ],
   "source": [
    "sgd = SGD()\n",
    "model.compile(loss='categorical_crossentropy', optimizer=sgd, metrics=['accuracy'])\n",
    "model.fit(X_train, y_train, batch_size=90, epochs=30)"
   ]
  },
  {
   "cell_type": "code",
   "execution_count": 23,
   "metadata": {},
   "outputs": [
    {
     "name": "stdout",
     "output_type": "stream",
     "text": [
      "\r",
      "40/40 [==============================] - 0s 509us/step\n"
     ]
    },
    {
     "data": {
      "text/plain": [
       "[1.2932331562042236, 0.42500001192092896]"
      ]
     },
     "execution_count": 23,
     "metadata": {},
     "output_type": "execute_result"
    }
   ],
   "source": [
    "model.evaluate(X_test, y_test, batch_size=90)"
   ]
  },
  {
   "cell_type": "code",
   "execution_count": 24,
   "metadata": {},
   "outputs": [
    {
     "data": {
      "text/plain": [
       "array([[ 0.25998628,  0.23136592,  0.2614556 ,  0.2471922 ],\n",
       "       [ 0.25998628,  0.23136592,  0.2614556 ,  0.2471922 ],\n",
       "       [ 0.25868014,  0.23243004,  0.26079297,  0.2480969 ],\n",
       "       [ 0.25998628,  0.23136592,  0.2614556 ,  0.2471922 ],\n",
       "       [ 0.25998628,  0.23136592,  0.2614556 ,  0.2471922 ],\n",
       "       [ 0.25998628,  0.23136592,  0.2614556 ,  0.2471922 ],\n",
       "       [ 0.25998628,  0.23136592,  0.2614556 ,  0.2471922 ],\n",
       "       [ 0.25998628,  0.23136592,  0.2614556 ,  0.2471922 ],\n",
       "       [ 0.25998628,  0.23136592,  0.2614556 ,  0.2471922 ],\n",
       "       [ 0.06594671,  0.56405973,  0.09087522,  0.27911833],\n",
       "       [ 0.25998628,  0.23136592,  0.2614556 ,  0.2471922 ],\n",
       "       [ 0.22386836,  0.26874891,  0.22628503,  0.2810978 ],\n",
       "       [ 0.25998628,  0.23136592,  0.2614556 ,  0.2471922 ],\n",
       "       [ 0.25998628,  0.23136592,  0.2614556 ,  0.2471922 ],\n",
       "       [ 0.25998628,  0.23136592,  0.2614556 ,  0.2471922 ],\n",
       "       [ 0.25998628,  0.23136592,  0.2614556 ,  0.2471922 ],\n",
       "       [ 0.25998628,  0.23136592,  0.2614556 ,  0.2471922 ],\n",
       "       [ 0.19925788,  0.31048656,  0.20339644,  0.28685915],\n",
       "       [ 0.25998628,  0.23136592,  0.2614556 ,  0.2471922 ],\n",
       "       [ 0.25998628,  0.23136592,  0.2614556 ,  0.2471922 ],\n",
       "       [ 0.25998628,  0.23136592,  0.2614556 ,  0.2471922 ],\n",
       "       [ 0.25998628,  0.23136592,  0.2614556 ,  0.2471922 ],\n",
       "       [ 0.22697125,  0.28055838,  0.22817788,  0.26429251],\n",
       "       [ 0.25998628,  0.23136592,  0.2614556 ,  0.2471922 ],\n",
       "       [ 0.25998628,  0.23136592,  0.2614556 ,  0.2471922 ],\n",
       "       [ 0.21295798,  0.27961576,  0.21557835,  0.29184783],\n",
       "       [ 0.25998628,  0.23136592,  0.2614556 ,  0.2471922 ],\n",
       "       [ 0.25998628,  0.23136592,  0.2614556 ,  0.2471922 ],\n",
       "       [ 0.25998628,  0.23136592,  0.2614556 ,  0.2471922 ],\n",
       "       [ 0.2303037 ,  0.26234716,  0.23258492,  0.27476424],\n",
       "       [ 0.1962043 ,  0.29623455,  0.1990637 ,  0.3084974 ],\n",
       "       [ 0.13444683,  0.41699499,  0.14749683,  0.30106142],\n",
       "       [ 0.23692591,  0.25577441,  0.23905699,  0.26824275],\n",
       "       [ 0.25998628,  0.23136592,  0.2614556 ,  0.2471922 ],\n",
       "       [ 0.25998628,  0.23136592,  0.2614556 ,  0.2471922 ],\n",
       "       [ 0.07443902,  0.50386649,  0.08274593,  0.33894861],\n",
       "       [ 0.20593411,  0.28657374,  0.20866235,  0.29882976],\n",
       "       [ 0.22594903,  0.2666775 ,  0.22832301,  0.27905047],\n",
       "       [ 0.21268113,  0.27988982,  0.21530595,  0.29212311],\n",
       "       [ 0.25998628,  0.23136592,  0.2614556 ,  0.2471922 ]], dtype=float32)"
      ]
     },
     "execution_count": 24,
     "metadata": {},
     "output_type": "execute_result"
    }
   ],
   "source": [
    "y_pred = model.predict(X_test)\n",
    "y_pred"
   ]
  },
  {
   "cell_type": "code",
   "execution_count": 25,
   "metadata": {},
   "outputs": [
    {
     "name": "stdout",
     "output_type": "stream",
     "text": [
      "Confusion matrix, without normalization\n",
      "[[ 0  0 12  0]\n",
      " [ 0  3  3  3]\n",
      " [ 0  0 10  1]\n",
      " [ 0  2  2  4]]\n"
     ]
    },
    {
     "data": {
      "image/png": "[encoded data removed]",
      "text/plain": [
       "<matplotlib.figure.Figure at 0x1171257b8>"
      ]
     },
     "metadata": {
      "needs_background": "light"
     },
     "output_type": "display_data"
    }
   ],
   "source": [
    "cnf_matrix = confusion_matrix(y_test.argmax(axis=1), y_pred.argmax(axis=1))\n",
    "np.set_printoptions(precision=2)\n",
    "plt.figure()\n",
    "plot_confusion_matrix(cnf_matrix, classes=playlist_dict, normalize=False,\n",
    "                      title='Confusion matrix')\n",
    "plt.show()"
   ]
  },
  {
   "cell_type": "markdown",
   "metadata": {},
   "source": [
    "Looking at this confusion matrix, I notice 3 things.\n",
    "1. Testing dataset is very small. I need to expand my total data set\n",
    "2. Coffee table jazz and Get Turnt are not being classfied correctly. Exploration is needed to see why\n",
    "3. Rock save the queen is doing quite well. Exploration is needed to see why."
   ]
  },
  {
   "cell_type": "markdown",
   "metadata": {},
   "source": [
    "### Model V2"
   ]
  },
  {
   "cell_type": "code",
   "execution_count": 26,
   "metadata": {},
   "outputs": [],
   "source": [
    "model = Sequential()\n",
    "model.add(Dense(128, activation='relu', input_dim=10))\n",
    "model.add(Dropout(0.25))\n",
    "model.add(Dense(64, activation='relu'))\n",
    "model.add(Dropout(0.25))\n",
    "model.add(Dense(4, activation='softmax'))"
   ]
  },
  {
   "cell_type": "code",
   "execution_count": 27,
   "metadata": {},
   "outputs": [],
   "source": [
    "sgd = SGD()\n",
    "model.compile(loss='categorical_crossentropy', optimizer=sgd, metrics=['accuracy'])"
   ]
  },
  {
   "cell_type": "code",
   "execution_count": 28,
   "metadata": {},
   "outputs": [
    {
     "name": "stdout",
     "output_type": "stream",
     "text": [
      "Epoch 1/150\n",
      "300/300 [==============================] - 0s 1ms/step - loss: 8.6428 - acc: 0.2833\n",
      "Epoch 2/150\n",
      "300/300 [==============================] - 0s 53us/step - loss: 10.3657 - acc: 0.2133\n",
      "Epoch 3/150\n",
      "300/300 [==============================] - 0s 50us/step - loss: 8.1206 - acc: 0.2567\n",
      "Epoch 4/150\n",
      "300/300 [==============================] - 0s 49us/step - loss: 1.9235 - acc: 0.3567\n",
      "Epoch 5/150\n",
      "300/300 [==============================] - 0s 63us/step - loss: 1.1794 - acc: 0.4400\n",
      "Epoch 6/150\n",
      "300/300 [==============================] - 0s 51us/step - loss: 1.2167 - acc: 0.4033\n",
      "Epoch 7/150\n",
      "300/300 [==============================] - 0s 54us/step - loss: 1.2078 - acc: 0.4133\n",
      "Epoch 8/150\n",
      "300/300 [==============================] - 0s 69us/step - loss: 1.1186 - acc: 0.4233\n",
      "Epoch 9/150\n",
      "300/300 [==============================] - 0s 73us/step - loss: 1.1110 - acc: 0.4533\n",
      "Epoch 10/150\n",
      "300/300 [==============================] - 0s 41us/step - loss: 1.0703 - acc: 0.4333\n",
      "Epoch 11/150\n",
      "300/300 [==============================] - 0s 69us/step - loss: 1.0066 - acc: 0.4867\n",
      "Epoch 12/150\n",
      "300/300 [==============================] - 0s 50us/step - loss: 1.1883 - acc: 0.4367\n",
      "Epoch 13/150\n",
      "300/300 [==============================] - 0s 43us/step - loss: 1.0246 - acc: 0.4467\n",
      "Epoch 14/150\n",
      "300/300 [==============================] - ETA: 0s - loss: 1.0089 - acc: 0.516 - 0s 41us/step - loss: 0.9919 - acc: 0.4800\n",
      "Epoch 15/150\n",
      "300/300 [==============================] - 0s 74us/step - loss: 0.8863 - acc: 0.4900\n",
      "Epoch 16/150\n",
      "300/300 [==============================] - 0s 60us/step - loss: 0.9998 - acc: 0.4800\n",
      "Epoch 17/150\n",
      "300/300 [==============================] - 0s 48us/step - loss: 0.9584 - acc: 0.4533\n",
      "Epoch 18/150\n",
      "300/300 [==============================] - 0s 43us/step - loss: 0.9205 - acc: 0.4700\n",
      "Epoch 19/150\n",
      "300/300 [==============================] - 0s 41us/step - loss: 0.8882 - acc: 0.4933\n",
      "Epoch 20/150\n",
      "300/300 [==============================] - 0s 63us/step - loss: 0.8994 - acc: 0.4767\n",
      "Epoch 21/150\n",
      "300/300 [==============================] - 0s 65us/step - loss: 1.1252 - acc: 0.4767\n",
      "Epoch 22/150\n",
      "300/300 [==============================] - 0s 44us/step - loss: 1.1551 - acc: 0.4700\n",
      "Epoch 23/150\n",
      "300/300 [==============================] - 0s 43us/step - loss: 0.9750 - acc: 0.4733\n",
      "Epoch 24/150\n",
      "300/300 [==============================] - 0s 40us/step - loss: 0.9085 - acc: 0.5233\n",
      "Epoch 25/150\n",
      "300/300 [==============================] - 0s 84us/step - loss: 0.9231 - acc: 0.4633\n",
      "Epoch 26/150\n",
      "300/300 [==============================] - 0s 125us/step - loss: 0.8476 - acc: 0.4800\n",
      "Epoch 27/150\n",
      "300/300 [==============================] - 0s 63us/step - loss: 0.8942 - acc: 0.5067\n",
      "Epoch 28/150\n",
      "300/300 [==============================] - 0s 57us/step - loss: 1.3320 - acc: 0.3633\n",
      "Epoch 29/150\n",
      "300/300 [==============================] - 0s 63us/step - loss: 1.0841 - acc: 0.4167\n",
      "Epoch 30/150\n",
      "300/300 [==============================] - 0s 84us/step - loss: 0.9761 - acc: 0.4367\n",
      "Epoch 31/150\n",
      "300/300 [==============================] - 0s 63us/step - loss: 0.9294 - acc: 0.4667\n",
      "Epoch 32/150\n",
      "300/300 [==============================] - 0s 56us/step - loss: 0.8878 - acc: 0.5167\n",
      "Epoch 33/150\n",
      "300/300 [==============================] - 0s 47us/step - loss: 0.9331 - acc: 0.4900\n",
      "Epoch 34/150\n",
      "300/300 [==============================] - 0s 59us/step - loss: 1.1875 - acc: 0.4133\n",
      "Epoch 35/150\n",
      "300/300 [==============================] - 0s 62us/step - loss: 0.9012 - acc: 0.4867\n",
      "Epoch 36/150\n",
      "300/300 [==============================] - 0s 57us/step - loss: 0.9655 - acc: 0.4433\n",
      "Epoch 37/150\n",
      "300/300 [==============================] - 0s 62us/step - loss: 0.9989 - acc: 0.4767\n",
      "Epoch 38/150\n",
      "300/300 [==============================] - 0s 45us/step - loss: 1.1554 - acc: 0.4233\n",
      "Epoch 39/150\n",
      "300/300 [==============================] - 0s 45us/step - loss: 0.8913 - acc: 0.5133\n",
      "Epoch 40/150\n",
      "300/300 [==============================] - 0s 53us/step - loss: 0.9332 - acc: 0.5067\n",
      "Epoch 41/150\n",
      "300/300 [==============================] - 0s 42us/step - loss: 0.8641 - acc: 0.5100\n",
      "Epoch 42/150\n",
      "300/300 [==============================] - 0s 51us/step - loss: 0.8836 - acc: 0.4833\n",
      "Epoch 43/150\n",
      "300/300 [==============================] - 0s 73us/step - loss: 0.8750 - acc: 0.5100\n",
      "Epoch 44/150\n",
      "300/300 [==============================] - 0s 50us/step - loss: 0.8612 - acc: 0.4833\n",
      "Epoch 45/150\n",
      "300/300 [==============================] - 0s 40us/step - loss: 0.9339 - acc: 0.5033\n",
      "Epoch 46/150\n",
      "300/300 [==============================] - 0s 52us/step - loss: 0.8425 - acc: 0.5167\n",
      "Epoch 47/150\n",
      "300/300 [==============================] - 0s 63us/step - loss: 0.8049 - acc: 0.5500\n",
      "Epoch 48/150\n",
      "300/300 [==============================] - 0s 46us/step - loss: 0.8416 - acc: 0.5033\n",
      "Epoch 49/150\n",
      "300/300 [==============================] - 0s 43us/step - loss: 0.8493 - acc: 0.4867\n",
      "Epoch 50/150\n",
      "300/300 [==============================] - 0s 47us/step - loss: 0.9041 - acc: 0.5133\n",
      "Epoch 51/150\n",
      "300/300 [==============================] - 0s 54us/step - loss: 0.8032 - acc: 0.5167\n",
      "Epoch 52/150\n",
      "300/300 [==============================] - 0s 45us/step - loss: 0.8364 - acc: 0.4933\n",
      "Epoch 53/150\n",
      "300/300 [==============================] - 0s 38us/step - loss: 1.1336 - acc: 0.4433\n",
      "Epoch 54/150\n",
      "300/300 [==============================] - 0s 39us/step - loss: 0.9282 - acc: 0.4667\n",
      "Epoch 55/150\n",
      "300/300 [==============================] - 0s 68us/step - loss: 1.1271 - acc: 0.4367\n",
      "Epoch 56/150\n",
      "300/300 [==============================] - 0s 39us/step - loss: 0.8519 - acc: 0.5533\n",
      "Epoch 57/150\n",
      "300/300 [==============================] - 0s 54us/step - loss: 0.9212 - acc: 0.5433\n",
      "Epoch 58/150\n",
      "300/300 [==============================] - 0s 41us/step - loss: 0.7924 - acc: 0.5700\n",
      "Epoch 59/150\n",
      "300/300 [==============================] - 0s 57us/step - loss: 0.8278 - acc: 0.5467\n",
      "Epoch 60/150\n",
      "300/300 [==============================] - 0s 52us/step - loss: 1.1080 - acc: 0.4500\n",
      "Epoch 61/150\n",
      "300/300 [==============================] - 0s 55us/step - loss: 0.8227 - acc: 0.5500\n",
      "Epoch 62/150\n",
      "300/300 [==============================] - 0s 41us/step - loss: 0.8050 - acc: 0.5600\n",
      "Epoch 63/150\n",
      "300/300 [==============================] - 0s 40us/step - loss: 0.8722 - acc: 0.5100\n",
      "Epoch 64/150\n",
      "300/300 [==============================] - 0s 40us/step - loss: 0.8403 - acc: 0.4933\n",
      "Epoch 65/150\n",
      "300/300 [==============================] - 0s 42us/step - loss: 0.8282 - acc: 0.5200\n",
      "Epoch 66/150\n",
      "300/300 [==============================] - 0s 41us/step - loss: 0.7936 - acc: 0.5500\n",
      "Epoch 67/150\n",
      "300/300 [==============================] - 0s 80us/step - loss: 0.8765 - acc: 0.4767\n",
      "Epoch 68/150\n",
      "300/300 [==============================] - 0s 54us/step - loss: 0.7595 - acc: 0.5700\n",
      "Epoch 69/150\n",
      "300/300 [==============================] - 0s 47us/step - loss: 0.7818 - acc: 0.5300\n",
      "Epoch 70/150\n",
      "300/300 [==============================] - 0s 41us/step - loss: 0.8395 - acc: 0.5333\n",
      "Epoch 71/150\n",
      "300/300 [==============================] - 0s 78us/step - loss: 0.8179 - acc: 0.5367\n",
      "Epoch 72/150\n",
      "300/300 [==============================] - 0s 61us/step - loss: 0.8673 - acc: 0.5133\n",
      "Epoch 73/150\n",
      "300/300 [==============================] - 0s 41us/step - loss: 0.8148 - acc: 0.4867\n",
      "Epoch 74/150\n",
      "300/300 [==============================] - 0s 50us/step - loss: 0.7934 - acc: 0.5667\n",
      "Epoch 75/150\n",
      "300/300 [==============================] - 0s 102us/step - loss: 0.7596 - acc: 0.5467\n",
      "Epoch 76/150\n",
      "300/300 [==============================] - 0s 43us/step - loss: 0.7788 - acc: 0.5000\n",
      "Epoch 77/150\n",
      "300/300 [==============================] - 0s 41us/step - loss: 0.8394 - acc: 0.5133\n",
      "Epoch 78/150\n",
      "300/300 [==============================] - 0s 70us/step - loss: 0.7569 - acc: 0.5267\n",
      "Epoch 79/150\n",
      "300/300 [==============================] - 0s 51us/step - loss: 0.7559 - acc: 0.5433\n",
      "Epoch 80/150\n",
      "300/300 [==============================] - 0s 43us/step - loss: 0.7611 - acc: 0.5367\n",
      "Epoch 81/150\n",
      "300/300 [==============================] - 0s 42us/step - loss: 0.7762 - acc: 0.5433\n",
      "Epoch 82/150\n",
      "300/300 [==============================] - 0s 62us/step - loss: 0.8176 - acc: 0.5500\n",
      "Epoch 83/150\n",
      "300/300 [==============================] - 0s 47us/step - loss: 0.8669 - acc: 0.5233\n",
      "Epoch 84/150\n",
      "300/300 [==============================] - 0s 40us/step - loss: 1.1977 - acc: 0.4767\n",
      "Epoch 85/150\n",
      "300/300 [==============================] - 0s 66us/step - loss: 0.9547 - acc: 0.5100\n",
      "Epoch 86/150\n",
      "300/300 [==============================] - 0s 46us/step - loss: 0.8285 - acc: 0.4733\n",
      "Epoch 87/150\n",
      "300/300 [==============================] - 0s 39us/step - loss: 0.7935 - acc: 0.5067\n",
      "Epoch 88/150\n",
      "300/300 [==============================] - 0s 66us/step - loss: 0.8087 - acc: 0.5567\n",
      "Epoch 89/150\n",
      "300/300 [==============================] - 0s 73us/step - loss: 0.8430 - acc: 0.4800\n",
      "Epoch 90/150\n",
      "300/300 [==============================] - 0s 98us/step - loss: 0.7596 - acc: 0.5400\n",
      "Epoch 91/150\n",
      "300/300 [==============================] - 0s 104us/step - loss: 0.8243 - acc: 0.5333\n",
      "Epoch 92/150\n",
      "300/300 [==============================] - 0s 67us/step - loss: 0.8061 - acc: 0.5200\n",
      "Epoch 93/150\n",
      "300/300 [==============================] - 0s 70us/step - loss: 0.8853 - acc: 0.4800\n",
      "Epoch 94/150\n",
      "300/300 [==============================] - 0s 70us/step - loss: 0.8194 - acc: 0.5067\n",
      "Epoch 95/150\n",
      "300/300 [==============================] - 0s 51us/step - loss: 0.7626 - acc: 0.5433\n",
      "Epoch 96/150\n",
      "300/300 [==============================] - 0s 56us/step - loss: 0.9919 - acc: 0.4700\n",
      "Epoch 97/150\n",
      "300/300 [==============================] - 0s 52us/step - loss: 0.8420 - acc: 0.4967\n",
      "Epoch 98/150\n",
      "300/300 [==============================] - 0s 57us/step - loss: 0.7722 - acc: 0.5533\n",
      "Epoch 99/150\n",
      "300/300 [==============================] - 0s 44us/step - loss: 0.7700 - acc: 0.5067\n",
      "Epoch 100/150\n",
      "300/300 [==============================] - 0s 51us/step - loss: 0.7622 - acc: 0.5600\n",
      "Epoch 101/150\n",
      "300/300 [==============================] - 0s 59us/step - loss: 0.7875 - acc: 0.5067\n",
      "Epoch 102/150\n",
      "300/300 [==============================] - 0s 53us/step - loss: 0.9046 - acc: 0.4700\n",
      "Epoch 103/150\n",
      "300/300 [==============================] - 0s 49us/step - loss: 0.7870 - acc: 0.5267\n",
      "Epoch 104/150\n",
      "300/300 [==============================] - 0s 62us/step - loss: 0.8431 - acc: 0.5267\n",
      "Epoch 105/150\n",
      "300/300 [==============================] - 0s 52us/step - loss: 0.8514 - acc: 0.5167\n",
      "Epoch 106/150\n",
      "300/300 [==============================] - 0s 54us/step - loss: 0.8692 - acc: 0.5300\n",
      "Epoch 107/150\n",
      "300/300 [==============================] - 0s 53us/step - loss: 0.8088 - acc: 0.4733\n",
      "Epoch 108/150\n",
      "300/300 [==============================] - 0s 58us/step - loss: 0.7929 - acc: 0.5533\n",
      "Epoch 109/150\n",
      "300/300 [==============================] - 0s 51us/step - loss: 0.7778 - acc: 0.5333\n",
      "Epoch 110/150\n",
      "300/300 [==============================] - 0s 63us/step - loss: 0.7682 - acc: 0.5533\n",
      "Epoch 111/150\n",
      "300/300 [==============================] - 0s 46us/step - loss: 0.7496 - acc: 0.5733\n",
      "Epoch 112/150\n",
      "300/300 [==============================] - 0s 59us/step - loss: 0.8061 - acc: 0.5033\n",
      "Epoch 113/150\n",
      "300/300 [==============================] - 0s 42us/step - loss: 0.7735 - acc: 0.4833\n",
      "Epoch 114/150\n",
      "300/300 [==============================] - 0s 48us/step - loss: 0.7339 - acc: 0.5967\n",
      "Epoch 115/150\n",
      "300/300 [==============================] - 0s 52us/step - loss: 0.7652 - acc: 0.5467\n",
      "Epoch 116/150\n",
      "300/300 [==============================] - 0s 62us/step - loss: 0.7394 - acc: 0.5500\n",
      "Epoch 117/150\n",
      "300/300 [==============================] - 0s 64us/step - loss: 0.7496 - acc: 0.5533\n",
      "Epoch 118/150\n",
      "300/300 [==============================] - 0s 52us/step - loss: 0.8189 - acc: 0.5067\n",
      "Epoch 119/150\n",
      "300/300 [==============================] - 0s 67us/step - loss: 0.8902 - acc: 0.4533\n",
      "Epoch 120/150\n",
      "300/300 [==============================] - 0s 52us/step - loss: 0.8139 - acc: 0.4733\n",
      "Epoch 121/150\n",
      "300/300 [==============================] - 0s 73us/step - loss: 0.7633 - acc: 0.5300\n",
      "Epoch 122/150\n",
      "300/300 [==============================] - 0s 65us/step - loss: 0.8057 - acc: 0.5333\n",
      "Epoch 123/150\n",
      "300/300 [==============================] - 0s 67us/step - loss: 0.8049 - acc: 0.5100\n",
      "Epoch 124/150\n",
      "300/300 [==============================] - 0s 52us/step - loss: 0.7704 - acc: 0.5233\n",
      "Epoch 125/150\n",
      "300/300 [==============================] - 0s 53us/step - loss: 0.7378 - acc: 0.5533\n",
      "Epoch 126/150\n",
      "300/300 [==============================] - 0s 65us/step - loss: 1.3141 - acc: 0.4033\n",
      "Epoch 127/150\n",
      "300/300 [==============================] - 0s 80us/step - loss: 0.9017 - acc: 0.5367\n",
      "Epoch 128/150\n",
      "300/300 [==============================] - 0s 60us/step - loss: 0.8342 - acc: 0.5100\n",
      "Epoch 129/150\n",
      "300/300 [==============================] - 0s 56us/step - loss: 0.8092 - acc: 0.5433\n",
      "Epoch 130/150\n",
      "300/300 [==============================] - 0s 54us/step - loss: 0.8623 - acc: 0.4900\n",
      "Epoch 131/150\n",
      "300/300 [==============================] - 0s 53us/step - loss: 0.9895 - acc: 0.4833\n",
      "Epoch 132/150\n",
      "300/300 [==============================] - 0s 78us/step - loss: 0.8667 - acc: 0.5300\n",
      "Epoch 133/150\n",
      "300/300 [==============================] - 0s 67us/step - loss: 0.8057 - acc: 0.5233\n",
      "Epoch 134/150\n",
      "300/300 [==============================] - 0s 54us/step - loss: 0.8468 - acc: 0.5200\n",
      "Epoch 135/150\n",
      "300/300 [==============================] - 0s 47us/step - loss: 0.8374 - acc: 0.5300\n",
      "Epoch 136/150\n",
      "300/300 [==============================] - 0s 55us/step - loss: 0.9119 - acc: 0.5267\n",
      "Epoch 137/150\n",
      "300/300 [==============================] - 0s 68us/step - loss: 0.8209 - acc: 0.5300\n",
      "Epoch 138/150\n",
      "300/300 [==============================] - 0s 67us/step - loss: 0.8584 - acc: 0.5267\n",
      "Epoch 139/150\n",
      "300/300 [==============================] - 0s 55us/step - loss: 0.8420 - acc: 0.5100\n",
      "Epoch 140/150\n",
      "300/300 [==============================] - 0s 59us/step - loss: 0.8142 - acc: 0.5267\n",
      "Epoch 141/150\n",
      "300/300 [==============================] - 0s 63us/step - loss: 0.9187 - acc: 0.5833\n",
      "Epoch 142/150\n",
      "300/300 [==============================] - 0s 61us/step - loss: 0.9056 - acc: 0.5033\n",
      "Epoch 143/150\n",
      "300/300 [==============================] - 0s 41us/step - loss: 0.8420 - acc: 0.5267\n",
      "Epoch 144/150\n",
      "300/300 [==============================] - 0s 50us/step - loss: 0.8120 - acc: 0.5100\n",
      "Epoch 145/150\n",
      "300/300 [==============================] - 0s 58us/step - loss: 0.7568 - acc: 0.5633\n",
      "Epoch 146/150\n",
      "300/300 [==============================] - 0s 55us/step - loss: 0.8397 - acc: 0.5167\n",
      "Epoch 147/150\n",
      "300/300 [==============================] - 0s 54us/step - loss: 0.9164 - acc: 0.5300\n",
      "Epoch 148/150\n",
      "300/300 [==============================] - 0s 57us/step - loss: 0.7484 - acc: 0.5800\n",
      "Epoch 149/150\n",
      "300/300 [==============================] - 0s 82us/step - loss: 0.7839 - acc: 0.5267\n",
      "Epoch 150/150\n",
      "300/300 [==============================] - 0s 59us/step - loss: 0.8007 - acc: 0.5567\n",
      "100/100 [==============================] - 0s 527us/step\n"
     ]
    },
    {
     "data": {
      "text/plain": [
       "[0.74694790840148928, 0.61000000238418584]"
      ]
     },
     "execution_count": 28,
     "metadata": {},
     "output_type": "execute_result"
    }
   ],
   "source": [
    "X_train, X_test, y_train, y_test = train_test_split(X, y, test_size=0.25, random_state=42)\n",
    "model.fit(X_train, y_train, batch_size=60, epochs=150)\n",
    "model.evaluate(X_test, y_test, batch_size=60)"
   ]
  },
  {
   "cell_type": "code",
   "execution_count": 29,
   "metadata": {},
   "outputs": [
    {
     "name": "stdout",
     "output_type": "stream",
     "text": [
      "Confusion matrix, without normalization\n",
      "[[ 7  0 23  1]\n",
      " [ 0 14  0  7]\n",
      " [ 1  0 24  0]\n",
      " [ 1  6  0 16]]\n"
     ]
    },
    {
     "data": {
      "image/png": "[encoded data removed]",
      "text/plain": [
       "<matplotlib.figure.Figure at 0x117865ba8>"
      ]
     },
     "metadata": {
      "needs_background": "light"
     },
     "output_type": "display_data"
    }
   ],
   "source": [
    "y_pred = model.predict(X_test)\n",
    "cnf_matrix = confusion_matrix(y_test.argmax(axis=1), y_pred.argmax(axis=1))\n",
    "np.set_printoptions(precision=2)\n",
    "plt.figure()\n",
    "plot_confusion_matrix(cnf_matrix, classes=playlist_dict, normalize=False,\n",
    "                      title='Confusion matrix')\n",
    "plt.show()"
   ]
  },
  {
   "cell_type": "markdown",
   "metadata": {},
   "source": [
    "Changing the amount of neurons in the first layer, drop out rate, batch size and epochs makes quite a big difference. The new model has a more consistent accuracy, a significant improvement from the first version. \n",
    "I feel that data exploration is still needed. Maybe I need to change my dataset and eliminate some redundant columns.\n",
    "Data Exploration will help me indicate what I columns would be most unique."
   ]
  },
  {
   "cell_type": "markdown",
   "metadata": {},
   "source": [
    "## Exploration"
   ]
  },
  {
   "cell_type": "code",
   "execution_count": 30,
   "metadata": {},
   "outputs": [],
   "source": [
    "def get_feature(column, operation):\n",
    "    categories = ['Get Turnt', 'Classical Essentials', 'Rock Save The Queen', 'Coffee Table Jazz']\n",
    "    idx = 0\n",
    "    for df_feature in df_features_list:\n",
    "        if operation == 'mean':\n",
    "            result = df_feature[column].mean()\n",
    "        elif operation == 'std':\n",
    "            result = df_feature[column].std()\n",
    "        elif operation == 'var':\n",
    "            result = df_feature[column].var()\n",
    "        print(f'{operation} for {categories[idx]} is: {result}')\n",
    "        idx += 1"
   ]
  },
  {
   "cell_type": "code",
   "execution_count": 31,
   "metadata": {},
   "outputs": [],
   "source": [
    "def get_features(columns, operation):\n",
    "    for column in columns:\n",
    "        print(f'Feature: {column}')\n",
    "        get_feature(column, operation)\n",
    "        print()"
   ]
  },
  {
   "cell_type": "code",
   "execution_count": 32,
   "metadata": {},
   "outputs": [
    {
     "name": "stdout",
     "output_type": "stream",
     "text": [
      "Feature: danceability\n",
      "mean for Get Turnt is: 0.8199299999999999\n",
      "mean for Classical Essentials is: 0.259256\n",
      "mean for Rock Save The Queen is: 0.46502000000000004\n",
      "mean for Coffee Table Jazz is: 0.4407500000000001\n",
      "\n",
      "Feature: energy\n",
      "mean for Get Turnt is: 0.6375\n",
      "mean for Classical Essentials is: 0.11576170000000001\n",
      "mean for Rock Save The Queen is: 0.8426900000000002\n",
      "mean for Coffee Table Jazz is: 0.13658599999999999\n",
      "\n",
      "Feature: key\n",
      "mean for Get Turnt is: 5.09\n",
      "mean for Classical Essentials is: 5.39\n",
      "mean for Rock Save The Queen is: 5.02\n",
      "mean for Coffee Table Jazz is: 5.1\n",
      "\n",
      "Feature: loudness\n",
      "mean for Get Turnt is: -6.157150000000001\n",
      "mean for Classical Essentials is: -23.28731\n",
      "mean for Rock Save The Queen is: -4.62875\n",
      "mean for Coffee Table Jazz is: -18.281470000000002\n",
      "\n",
      "Feature: mode\n",
      "mean for Get Turnt is: 0.54\n",
      "mean for Classical Essentials is: 0.66\n",
      "mean for Rock Save The Queen is: 0.61\n",
      "mean for Coffee Table Jazz is: 0.63\n",
      "\n",
      "Feature: speechiness\n",
      "mean for Get Turnt is: 0.20607899999999998\n",
      "mean for Classical Essentials is: 0.044739\n",
      "mean for Rock Save The Queen is: 0.06824899999999999\n",
      "mean for Coffee Table Jazz is: 0.039058\n",
      "\n",
      "Feature: acousticness\n",
      "mean for Get Turnt is: 0.0794218\n",
      "mean for Classical Essentials is: 0.9353999999999999\n",
      "mean for Rock Save The Queen is: 0.0139848539\n",
      "mean for Coffee Table Jazz is: 0.9121400000000002\n",
      "\n",
      "Feature: instrumentalness\n",
      "mean for Get Turnt is: 0.0018456074999999997\n",
      "mean for Classical Essentials is: 0.6158633461999999\n",
      "mean for Rock Save The Queen is: 0.052168840699999997\n",
      "mean for Coffee Table Jazz is: 0.6129814\n",
      "\n",
      "Feature: valence\n",
      "mean for Get Turnt is: 0.48784299999999997\n",
      "mean for Classical Essentials is: 0.17466900000000007\n",
      "mean for Rock Save The Queen is: 0.482374\n",
      "mean for Coffee Table Jazz is: 0.17403799999999997\n",
      "\n",
      "Feature: tempo\n",
      "mean for Get Turnt is: 133.82905000000002\n",
      "mean for Classical Essentials is: 105.60500999999996\n",
      "mean for Rock Save The Queen is: 132.63009\n",
      "mean for Coffee Table Jazz is: 103.13698000000001\n",
      "\n"
     ]
    }
   ],
   "source": [
    "columns = df_features_list[0].columns[1:]\n",
    "get_features(columns, 'mean')"
   ]
  },
  {
   "cell_type": "code",
   "execution_count": 33,
   "metadata": {},
   "outputs": [
    {
     "name": "stdout",
     "output_type": "stream",
     "text": [
      "Feature: key\n",
      "std for Get Turnt is: 3.7446122912954833\n",
      "std for Classical Essentials is: 3.22520064366842\n",
      "std for Rock Save The Queen is: 3.9999494946306458\n",
      "std for Coffee Table Jazz is: 3.445096060879416\n",
      "\n",
      "Feature: loudness\n",
      "std for Get Turnt is: 1.845915514963737\n",
      "std for Classical Essentials is: 6.75518373897955\n",
      "std for Rock Save The Queen is: 1.2852286466782572\n",
      "std for Coffee Table Jazz is: 4.646458117695127\n",
      "\n",
      "Feature: mode\n",
      "std for Get Turnt is: 0.5009082659620331\n",
      "std for Classical Essentials is: 0.47609522856952335\n",
      "std for Rock Save The Queen is: 0.4902071300001973\n",
      "std for Coffee Table Jazz is: 0.4852365870939097\n",
      "\n",
      "Feature: speechiness\n",
      "std for Get Turnt is: 0.11962027656148629\n",
      "std for Classical Essentials is: 0.009136107685243408\n",
      "std for Rock Save The Queen is: 0.0413853521517852\n",
      "std for Coffee Table Jazz is: 0.008175909179356807\n",
      "\n",
      "Feature: acousticness\n",
      "std for Get Turnt is: 0.09083253277234091\n",
      "std for Classical Essentials is: 0.0910103779186137\n",
      "std for Rock Save The Queen is: 0.038656935500831546\n",
      "std for Coffee Table Jazz is: 0.07641830919222159\n",
      "\n",
      "Feature: instrumentalness\n",
      "std for Get Turnt is: 0.009819640559467652\n",
      "std for Classical Essentials is: 0.3504786000386796\n",
      "std for Rock Save The Queen is: 0.15188773419219398\n",
      "std for Coffee Table Jazz is: 0.31514989155881895\n",
      "\n",
      "Feature: valence\n",
      "std for Get Turnt is: 0.21495433165670283\n",
      "std for Classical Essentials is: 0.18322144392548984\n",
      "std for Rock Save The Queen is: 0.15849376791750164\n",
      "std for Coffee Table Jazz is: 0.08935397294361387\n",
      "\n",
      "Feature: tempo\n",
      "std for Get Turnt is: 29.15647144838873\n",
      "std for Classical Essentials is: 28.332278797307918\n",
      "std for Rock Save The Queen is: 29.213605820788782\n",
      "std for Coffee Table Jazz is: 26.019218841285515\n",
      "\n"
     ]
    }
   ],
   "source": [
    "columns = ['key', 'loudness', 'mode', 'speechiness', 'acousticness', 'instrumentalness', 'valence', 'tempo']\n",
    "get_features(columns, 'std')"
   ]
  },
  {
   "cell_type": "markdown",
   "metadata": {},
   "source": [
    "Looking at the means and Std Dev of the features, I can see that features with similar/close means may are not 'unique' features for the model. Furthermore, the features with similar means to one another and relatively close Std devs would be features that I may not want to use anymore. Features such as: tempo, key, mode, loudness. Speechiness is a feature that I could remove but I feel that the variation in values from category to category for this features may be more beneficial for the model."
   ]
  },
  {
   "cell_type": "markdown",
   "metadata": {},
   "source": [
    "## Model Revision "
   ]
  },
  {
   "cell_type": "markdown",
   "metadata": {},
   "source": [
    "### Change Training and Testing Data"
   ]
  },
  {
   "cell_type": "code",
   "execution_count": 49,
   "metadata": {},
   "outputs": [],
   "source": [
    "new_data_columns = ['danceability', 'energy', 'speechiness', 'acousticness', 'instrumentalness', 'valence']"
   ]
  },
  {
   "cell_type": "code",
   "execution_count": 50,
   "metadata": {},
   "outputs": [],
   "source": [
    "def rev_convert_df_to_array(df):\n",
    "    converted_list = []\n",
    "    for _, row in df.iterrows():\n",
    "        converted_list.append(np.array(list(row)))\n",
    "    return np.asarray(converted_list)"
   ]
  },
  {
   "cell_type": "code",
   "execution_count": 51,
   "metadata": {},
   "outputs": [],
   "source": [
    "def rev_create_X_data(df_features_list):\n",
    "    X = []\n",
    "    for df_features in df_features_list:\n",
    "        converted_array = rev_convert_df_to_array(df_features[new_data_columns])\n",
    "        for item in converted_array:\n",
    "            X.append(item)\n",
    "    return np.asarray(X)"
   ]
  },
  {
   "cell_type": "code",
   "execution_count": 52,
   "metadata": {},
   "outputs": [],
   "source": [
    "def rev_create_y_data():\n",
    "    y = np.array([])\n",
    "    for i in range(0, 4):\n",
    "        y = np.append(y, np.ones(shape=(100, 1)) * i)\n",
    "    return y"
   ]
  },
  {
   "cell_type": "code",
   "execution_count": 53,
   "metadata": {},
   "outputs": [
    {
     "data": {
      "text/plain": [
       "(400, 6)"
      ]
     },
     "execution_count": 53,
     "metadata": {},
     "output_type": "execute_result"
    }
   ],
   "source": [
    "X = rev_create_X_data(df_features_list) \n",
    "X.shape"
   ]
  },
  {
   "cell_type": "code",
   "execution_count": 54,
   "metadata": {},
   "outputs": [
    {
     "data": {
      "text/plain": [
       "(400, 4)"
      ]
     },
     "execution_count": 54,
     "metadata": {},
     "output_type": "execute_result"
    }
   ],
   "source": [
    "y = to_categorical(rev_create_y_data())\n",
    "y.shape"
   ]
  },
  {
   "cell_type": "code",
   "execution_count": 55,
   "metadata": {},
   "outputs": [
    {
     "data": {
      "text/plain": [
       "((300, 6), (300, 4))"
      ]
     },
     "execution_count": 55,
     "metadata": {},
     "output_type": "execute_result"
    }
   ],
   "source": [
    "X_train, X_test, y_train, y_test = train_test_split(X, y, test_size=0.25, random_state=42)\n",
    "X_train.shape, y_train.shape"
   ]
  },
  {
   "cell_type": "markdown",
   "metadata": {},
   "source": [
    "### Model V3"
   ]
  },
  {
   "cell_type": "code",
   "execution_count": 300,
   "metadata": {},
   "outputs": [],
   "source": [
    "model = Sequential()\n",
    "model.add(Dense(512, activation='relu', input_dim=X_train.shape[1]))\n",
    "model.add(Dense(256, activation='relu'))\n",
    "model.add(Dense(128, activation='relu'))\n",
    "model.add(Dense(64, activation='relu'))\n",
    "model.add(Dense(4, activation='softmax'))"
   ]
  },
  {
   "cell_type": "code",
   "execution_count": 301,
   "metadata": {},
   "outputs": [],
   "source": [
    "sgd = SGD()\n",
    "model.compile(loss='categorical_crossentropy', optimizer=sgd, metrics=['accuracy'])"
   ]
  },
  {
   "cell_type": "code",
   "execution_count": 302,
   "metadata": {},
   "outputs": [
    {
     "name": "stdout",
     "output_type": "stream",
     "text": [
      "Train on 300 samples, validate on 100 samples\n",
      "Epoch 1/300\n",
      "300/300 [==============================] - 2s 7ms/step - loss: 1.3636 - acc: 0.3633 - val_loss: 1.3423 - val_acc: 0.6900\n",
      "Epoch 2/300\n",
      "300/300 [==============================] - 0s 671us/step - loss: 1.3231 - acc: 0.6500 - val_loss: 1.3061 - val_acc: 0.7600\n",
      "Epoch 3/300\n",
      "300/300 [==============================] - 0s 521us/step - loss: 1.2849 - acc: 0.7667 - val_loss: 1.2671 - val_acc: 0.7100\n",
      "Epoch 4/300\n",
      "300/300 [==============================] - 0s 591us/step - loss: 1.2419 - acc: 0.7500 - val_loss: 1.2223 - val_acc: 0.7200\n",
      "Epoch 5/300\n",
      "300/300 [==============================] - 0s 636us/step - loss: 1.1899 - acc: 0.7200 - val_loss: 1.1658 - val_acc: 0.7200\n",
      "Epoch 6/300\n",
      "300/300 [==============================] - 0s 438us/step - loss: 1.1289 - acc: 0.7100 - val_loss: 1.1018 - val_acc: 0.7000\n",
      "Epoch 7/300\n",
      "300/300 [==============================] - 0s 483us/step - loss: 1.0597 - acc: 0.6833 - val_loss: 1.0298 - val_acc: 0.7300\n",
      "Epoch 8/300\n",
      "300/300 [==============================] - 0s 568us/step - loss: 0.9887 - acc: 0.7167 - val_loss: 0.9574 - val_acc: 0.7000\n",
      "Epoch 9/300\n",
      "300/300 [==============================] - 0s 444us/step - loss: 0.9187 - acc: 0.7300 - val_loss: 0.8903 - val_acc: 0.6900\n",
      "Epoch 10/300\n",
      "300/300 [==============================] - 0s 479us/step - loss: 0.8546 - acc: 0.6933 - val_loss: 0.8255 - val_acc: 0.7500\n",
      "Epoch 11/300\n",
      "300/300 [==============================] - 0s 502us/step - loss: 0.8021 - acc: 0.7367 - val_loss: 0.7732 - val_acc: 0.8000\n",
      "Epoch 12/300\n",
      "300/300 [==============================] - 0s 622us/step - loss: 0.7541 - acc: 0.7933 - val_loss: 0.7293 - val_acc: 0.8100\n",
      "Epoch 13/300\n",
      "300/300 [==============================] - 0s 655us/step - loss: 0.7174 - acc: 0.7967 - val_loss: 0.6955 - val_acc: 0.8200\n",
      "Epoch 14/300\n",
      "300/300 [==============================] - 0s 566us/step - loss: 0.6860 - acc: 0.7900 - val_loss: 0.6601 - val_acc: 0.8600\n",
      "Epoch 15/300\n",
      "300/300 [==============================] - 0s 572us/step - loss: 0.6619 - acc: 0.8267 - val_loss: 0.6340 - val_acc: 0.8700\n",
      "Epoch 16/300\n",
      "300/300 [==============================] - 0s 606us/step - loss: 0.6367 - acc: 0.8167 - val_loss: 0.6092 - val_acc: 0.8900\n",
      "Epoch 17/300\n",
      "300/300 [==============================] - 0s 606us/step - loss: 0.6135 - acc: 0.8033 - val_loss: 0.6024 - val_acc: 0.7200\n",
      "Epoch 18/300\n",
      "300/300 [==============================] - 0s 529us/step - loss: 0.5955 - acc: 0.8000 - val_loss: 0.5665 - val_acc: 0.8800\n",
      "Epoch 19/300\n",
      "300/300 [==============================] - 0s 648us/step - loss: 0.5730 - acc: 0.8267 - val_loss: 0.5481 - val_acc: 0.8800\n",
      "Epoch 20/300\n",
      "300/300 [==============================] - 0s 697us/step - loss: 0.5557 - acc: 0.8333 - val_loss: 0.5415 - val_acc: 0.8500\n",
      "Epoch 21/300\n",
      "300/300 [==============================] - 0s 713us/step - loss: 0.5397 - acc: 0.8433 - val_loss: 0.5076 - val_acc: 0.8400\n",
      "Epoch 22/300\n",
      "300/300 [==============================] - 0s 677us/step - loss: 0.5174 - acc: 0.8400 - val_loss: 0.4849 - val_acc: 0.8700\n",
      "Epoch 23/300\n",
      "300/300 [==============================] - 0s 753us/step - loss: 0.5051 - acc: 0.8533 - val_loss: 0.4743 - val_acc: 0.8500\n",
      "Epoch 24/300\n",
      "300/300 [==============================] - 0s 656us/step - loss: 0.4832 - acc: 0.8533 - val_loss: 0.4643 - val_acc: 0.8100\n",
      "Epoch 25/300\n",
      "300/300 [==============================] - 0s 529us/step - loss: 0.4612 - acc: 0.8533 - val_loss: 0.4518 - val_acc: 0.8100\n",
      "Epoch 26/300\n",
      "300/300 [==============================] - 0s 501us/step - loss: 0.4487 - acc: 0.8500 - val_loss: 0.4156 - val_acc: 0.8900\n",
      "Epoch 27/300\n",
      "300/300 [==============================] - 0s 499us/step - loss: 0.4405 - acc: 0.8667 - val_loss: 0.4061 - val_acc: 0.8600\n",
      "Epoch 28/300\n",
      "300/300 [==============================] - 0s 555us/step - loss: 0.4249 - acc: 0.8700 - val_loss: 0.3934 - val_acc: 0.8600\n",
      "Epoch 29/300\n",
      "300/300 [==============================] - 0s 456us/step - loss: 0.4079 - acc: 0.8700 - val_loss: 0.3831 - val_acc: 0.8500\n",
      "Epoch 30/300\n",
      "300/300 [==============================] - 0s 375us/step - loss: 0.3986 - acc: 0.8800 - val_loss: 0.3798 - val_acc: 0.8300\n",
      "Epoch 31/300\n",
      "300/300 [==============================] - 0s 539us/step - loss: 0.3835 - acc: 0.8867 - val_loss: 0.4132 - val_acc: 0.7600\n",
      "Epoch 32/300\n",
      "300/300 [==============================] - 0s 561us/step - loss: 0.3720 - acc: 0.8767 - val_loss: 0.3469 - val_acc: 0.8600\n",
      "Epoch 33/300\n",
      "300/300 [==============================] - 0s 572us/step - loss: 0.3617 - acc: 0.8867 - val_loss: 0.3419 - val_acc: 0.8900\n",
      "Epoch 34/300\n",
      "300/300 [==============================] - 0s 607us/step - loss: 0.3582 - acc: 0.8833 - val_loss: 0.3573 - val_acc: 0.8100\n",
      "Epoch 35/300\n",
      "300/300 [==============================] - 0s 555us/step - loss: 0.3438 - acc: 0.8800 - val_loss: 0.3260 - val_acc: 0.8700\n",
      "Epoch 36/300\n",
      "300/300 [==============================] - 0s 588us/step - loss: 0.3409 - acc: 0.8967 - val_loss: 0.3548 - val_acc: 0.8100\n",
      "Epoch 37/300\n",
      "300/300 [==============================] - 0s 447us/step - loss: 0.3302 - acc: 0.8800 - val_loss: 0.3057 - val_acc: 0.8800\n",
      "Epoch 38/300\n",
      "300/300 [==============================] - 0s 621us/step - loss: 0.3178 - acc: 0.8933 - val_loss: 0.2945 - val_acc: 0.8900\n",
      "Epoch 39/300\n",
      "300/300 [==============================] - 0s 548us/step - loss: 0.3128 - acc: 0.8900 - val_loss: 0.2900 - val_acc: 0.8900\n",
      "Epoch 40/300\n",
      "300/300 [==============================] - 0s 495us/step - loss: 0.3021 - acc: 0.9000 - val_loss: 0.2942 - val_acc: 0.8800\n",
      "Epoch 41/300\n",
      "300/300 [==============================] - 0s 606us/step - loss: 0.2942 - acc: 0.9067 - val_loss: 0.3000 - val_acc: 0.8600\n",
      "Epoch 42/300\n",
      "300/300 [==============================] - 0s 658us/step - loss: 0.2905 - acc: 0.8900 - val_loss: 0.2798 - val_acc: 0.9000\n",
      "Epoch 43/300\n",
      "300/300 [==============================] - 0s 685us/step - loss: 0.2945 - acc: 0.8933 - val_loss: 0.2682 - val_acc: 0.8800\n",
      "Epoch 44/300\n",
      "300/300 [==============================] - 0s 786us/step - loss: 0.2797 - acc: 0.8900 - val_loss: 0.2601 - val_acc: 0.8800\n",
      "Epoch 45/300\n",
      "300/300 [==============================] - 0s 644us/step - loss: 0.2701 - acc: 0.9000 - val_loss: 0.2735 - val_acc: 0.9000\n",
      "Epoch 46/300\n",
      "300/300 [==============================] - 0s 554us/step - loss: 0.2703 - acc: 0.9100 - val_loss: 0.2523 - val_acc: 0.9000\n",
      "Epoch 47/300\n",
      "300/300 [==============================] - 0s 507us/step - loss: 0.2567 - acc: 0.9067 - val_loss: 0.2711 - val_acc: 0.8800\n",
      "Epoch 48/300\n",
      "300/300 [==============================] - 0s 570us/step - loss: 0.2672 - acc: 0.8933 - val_loss: 0.2539 - val_acc: 0.8900\n",
      "Epoch 49/300\n",
      "300/300 [==============================] - 0s 675us/step - loss: 0.2699 - acc: 0.8933 - val_loss: 0.2589 - val_acc: 0.8900\n",
      "Epoch 50/300\n",
      "300/300 [==============================] - 0s 625us/step - loss: 0.2495 - acc: 0.9133 - val_loss: 0.2545 - val_acc: 0.9000\n",
      "Epoch 51/300\n",
      "300/300 [==============================] - 0s 564us/step - loss: 0.2608 - acc: 0.9133 - val_loss: 0.2405 - val_acc: 0.9000\n",
      "Epoch 52/300\n",
      "300/300 [==============================] - ETA: 0s - loss: 0.2465 - acc: 0.893 - 0s 659us/step - loss: 0.2463 - acc: 0.8967 - val_loss: 0.2357 - val_acc: 0.9100\n",
      "Epoch 53/300\n",
      "300/300 [==============================] - 0s 553us/step - loss: 0.2397 - acc: 0.9167 - val_loss: 0.2467 - val_acc: 0.9000\n",
      "Epoch 54/300\n",
      "300/300 [==============================] - 0s 525us/step - loss: 0.2501 - acc: 0.8967 - val_loss: 0.2333 - val_acc: 0.9100\n",
      "Epoch 55/300\n",
      "300/300 [==============================] - 0s 503us/step - loss: 0.2391 - acc: 0.9067 - val_loss: 0.2426 - val_acc: 0.9000\n",
      "Epoch 56/300\n",
      "300/300 [==============================] - 0s 608us/step - loss: 0.2403 - acc: 0.8900 - val_loss: 0.2349 - val_acc: 0.9100\n",
      "Epoch 57/300\n",
      "300/300 [==============================] - 0s 752us/step - loss: 0.2413 - acc: 0.9000 - val_loss: 0.2290 - val_acc: 0.9000\n",
      "Epoch 58/300\n",
      "300/300 [==============================] - 0s 542us/step - loss: 0.2382 - acc: 0.9100 - val_loss: 0.2439 - val_acc: 0.9100\n",
      "Epoch 59/300\n",
      "300/300 [==============================] - 0s 504us/step - loss: 0.2308 - acc: 0.9067 - val_loss: 0.2343 - val_acc: 0.9000\n",
      "Epoch 60/300\n",
      "300/300 [==============================] - 0s 678us/step - loss: 0.2271 - acc: 0.9033 - val_loss: 0.2211 - val_acc: 0.9000\n"
     ]
    },
    {
     "name": "stdout",
     "output_type": "stream",
     "text": [
      "Epoch 61/300\n",
      "300/300 [==============================] - 0s 552us/step - loss: 0.2342 - acc: 0.8967 - val_loss: 0.2402 - val_acc: 0.8800\n",
      "Epoch 62/300\n",
      "300/300 [==============================] - 0s 461us/step - loss: 0.2378 - acc: 0.9000 - val_loss: 0.2216 - val_acc: 0.9100\n",
      "Epoch 63/300\n",
      "300/300 [==============================] - 0s 465us/step - loss: 0.2354 - acc: 0.9033 - val_loss: 0.2240 - val_acc: 0.9300\n",
      "Epoch 64/300\n",
      "300/300 [==============================] - 0s 458us/step - loss: 0.2265 - acc: 0.9033 - val_loss: 0.2485 - val_acc: 0.8800\n",
      "Epoch 65/300\n",
      "300/300 [==============================] - 0s 521us/step - loss: 0.2258 - acc: 0.8967 - val_loss: 0.2337 - val_acc: 0.9000\n",
      "Epoch 66/300\n",
      "300/300 [==============================] - 0s 517us/step - loss: 0.2269 - acc: 0.8900 - val_loss: 0.2365 - val_acc: 0.9100\n",
      "Epoch 67/300\n",
      "300/300 [==============================] - 0s 550us/step - loss: 0.2315 - acc: 0.9000 - val_loss: 0.2275 - val_acc: 0.9100\n",
      "Epoch 68/300\n",
      "300/300 [==============================] - 0s 506us/step - loss: 0.2200 - acc: 0.9133 - val_loss: 0.2361 - val_acc: 0.9000\n",
      "Epoch 69/300\n",
      "300/300 [==============================] - 0s 557us/step - loss: 0.2217 - acc: 0.8900 - val_loss: 0.2409 - val_acc: 0.8900\n",
      "Epoch 70/300\n",
      "300/300 [==============================] - 0s 469us/step - loss: 0.2305 - acc: 0.9033 - val_loss: 0.2223 - val_acc: 0.9100\n",
      "Epoch 71/300\n",
      "300/300 [==============================] - 0s 466us/step - loss: 0.2153 - acc: 0.9200 - val_loss: 0.3081 - val_acc: 0.8800\n",
      "Epoch 72/300\n",
      "300/300 [==============================] - 0s 568us/step - loss: 0.2201 - acc: 0.9000 - val_loss: 0.2696 - val_acc: 0.8700\n",
      "Epoch 73/300\n",
      "300/300 [==============================] - 0s 424us/step - loss: 0.2196 - acc: 0.9000 - val_loss: 0.2290 - val_acc: 0.9000\n",
      "Epoch 74/300\n",
      "300/300 [==============================] - 0s 498us/step - loss: 0.2162 - acc: 0.9000 - val_loss: 0.2170 - val_acc: 0.9200\n",
      "Epoch 75/300\n",
      "300/300 [==============================] - 0s 494us/step - loss: 0.2115 - acc: 0.8900 - val_loss: 0.2154 - val_acc: 0.9100\n",
      "Epoch 76/300\n",
      "300/300 [==============================] - 0s 554us/step - loss: 0.2128 - acc: 0.9000 - val_loss: 0.2187 - val_acc: 0.9100\n",
      "Epoch 77/300\n",
      "300/300 [==============================] - 0s 460us/step - loss: 0.2242 - acc: 0.9067 - val_loss: 0.2284 - val_acc: 0.8900\n",
      "Epoch 78/300\n",
      "300/300 [==============================] - 0s 714us/step - loss: 0.2273 - acc: 0.9033 - val_loss: 0.2727 - val_acc: 0.8900\n",
      "Epoch 79/300\n",
      "300/300 [==============================] - 0s 733us/step - loss: 0.2080 - acc: 0.9167 - val_loss: 0.2098 - val_acc: 0.9000\n",
      "Epoch 80/300\n",
      "300/300 [==============================] - 0s 778us/step - loss: 0.2147 - acc: 0.9167 - val_loss: 0.2173 - val_acc: 0.9100\n",
      "Epoch 81/300\n",
      "300/300 [==============================] - 0s 842us/step - loss: 0.2208 - acc: 0.8900 - val_loss: 0.2162 - val_acc: 0.9200\n",
      "Epoch 82/300\n",
      "300/300 [==============================] - 0s 764us/step - loss: 0.2131 - acc: 0.9000 - val_loss: 0.2442 - val_acc: 0.8800\n",
      "Epoch 83/300\n",
      "300/300 [==============================] - 0s 497us/step - loss: 0.2196 - acc: 0.9033 - val_loss: 0.2316 - val_acc: 0.8900\n",
      "Epoch 84/300\n",
      "300/300 [==============================] - 0s 529us/step - loss: 0.2221 - acc: 0.8933 - val_loss: 0.3130 - val_acc: 0.8700\n",
      "Epoch 85/300\n",
      "300/300 [==============================] - 0s 642us/step - loss: 0.2242 - acc: 0.9000 - val_loss: 0.3207 - val_acc: 0.8700\n",
      "Epoch 86/300\n",
      "300/300 [==============================] - 0s 565us/step - loss: 0.2196 - acc: 0.9067 - val_loss: 0.3429 - val_acc: 0.8500\n",
      "Epoch 87/300\n",
      "300/300 [==============================] - 0s 602us/step - loss: 0.2100 - acc: 0.9233 - val_loss: 0.2640 - val_acc: 0.8700\n",
      "Epoch 88/300\n",
      "300/300 [==============================] - 0s 613us/step - loss: 0.2203 - acc: 0.9033 - val_loss: 0.2188 - val_acc: 0.9000\n",
      "Epoch 89/300\n",
      "300/300 [==============================] - 0s 495us/step - loss: 0.2192 - acc: 0.9067 - val_loss: 0.3636 - val_acc: 0.8300\n",
      "Epoch 90/300\n",
      "300/300 [==============================] - 0s 593us/step - loss: 0.2205 - acc: 0.9100 - val_loss: 0.2437 - val_acc: 0.8800\n",
      "Epoch 91/300\n",
      "300/300 [==============================] - 0s 757us/step - loss: 0.2033 - acc: 0.9100 - val_loss: 0.2165 - val_acc: 0.9000\n",
      "Epoch 92/300\n",
      "300/300 [==============================] - 0s 580us/step - loss: 0.2159 - acc: 0.9200 - val_loss: 0.2198 - val_acc: 0.9200\n",
      "Epoch 93/300\n",
      "300/300 [==============================] - 0s 576us/step - loss: 0.2190 - acc: 0.9100 - val_loss: 0.2052 - val_acc: 0.9000\n",
      "Epoch 94/300\n",
      "300/300 [==============================] - 0s 538us/step - loss: 0.2285 - acc: 0.8933 - val_loss: 0.2212 - val_acc: 0.9000\n",
      "Epoch 95/300\n",
      "300/300 [==============================] - 0s 478us/step - loss: 0.2180 - acc: 0.9033 - val_loss: 0.2386 - val_acc: 0.8900\n",
      "Epoch 96/300\n",
      "300/300 [==============================] - 0s 591us/step - loss: 0.2017 - acc: 0.9067 - val_loss: 0.2760 - val_acc: 0.9000\n",
      "Epoch 97/300\n",
      "300/300 [==============================] - 0s 842us/step - loss: 0.2283 - acc: 0.9067 - val_loss: 0.2131 - val_acc: 0.9200\n",
      "Epoch 98/300\n",
      "300/300 [==============================] - 0s 656us/step - loss: 0.2122 - acc: 0.9100 - val_loss: 0.2188 - val_acc: 0.9100\n",
      "Epoch 99/300\n",
      "300/300 [==============================] - 0s 651us/step - loss: 0.1989 - acc: 0.9167 - val_loss: 0.2309 - val_acc: 0.8900\n",
      "Epoch 100/300\n",
      "300/300 [==============================] - 0s 618us/step - loss: 0.2189 - acc: 0.9067 - val_loss: 0.3141 - val_acc: 0.8800\n",
      "Epoch 101/300\n",
      "300/300 [==============================] - 0s 609us/step - loss: 0.2109 - acc: 0.8933 - val_loss: 0.2134 - val_acc: 0.9100\n",
      "Epoch 102/300\n",
      "300/300 [==============================] - 0s 725us/step - loss: 0.2092 - acc: 0.9133 - val_loss: 0.2079 - val_acc: 0.9200\n",
      "Epoch 103/300\n",
      "300/300 [==============================] - 0s 694us/step - loss: 0.2069 - acc: 0.9000 - val_loss: 0.2133 - val_acc: 0.9000\n",
      "Epoch 104/300\n",
      "300/300 [==============================] - 0s 757us/step - loss: 0.2115 - acc: 0.9133 - val_loss: 0.2489 - val_acc: 0.9000\n",
      "Epoch 105/300\n",
      "300/300 [==============================] - 0s 651us/step - loss: 0.1997 - acc: 0.9167 - val_loss: 0.2016 - val_acc: 0.9000\n",
      "Epoch 106/300\n",
      "300/300 [==============================] - 0s 728us/step - loss: 0.2036 - acc: 0.9233 - val_loss: 0.2437 - val_acc: 0.9000\n",
      "Epoch 107/300\n",
      "300/300 [==============================] - 0s 702us/step - loss: 0.2045 - acc: 0.9067 - val_loss: 0.2159 - val_acc: 0.9000\n",
      "Epoch 108/300\n",
      "300/300 [==============================] - 0s 589us/step - loss: 0.1873 - acc: 0.9233 - val_loss: 0.2752 - val_acc: 0.8900\n",
      "Epoch 109/300\n",
      "300/300 [==============================] - 0s 593us/step - loss: 0.2150 - acc: 0.9000 - val_loss: 0.2066 - val_acc: 0.8900\n",
      "Epoch 110/300\n",
      "300/300 [==============================] - 0s 723us/step - loss: 0.1972 - acc: 0.9100 - val_loss: 0.2674 - val_acc: 0.8900\n",
      "Epoch 111/300\n",
      "300/300 [==============================] - 0s 584us/step - loss: 0.2120 - acc: 0.9000 - val_loss: 0.2029 - val_acc: 0.9100\n",
      "Epoch 112/300\n",
      "300/300 [==============================] - 0s 763us/step - loss: 0.2058 - acc: 0.9100 - val_loss: 0.2125 - val_acc: 0.9000\n",
      "Epoch 113/300\n",
      "300/300 [==============================] - 0s 864us/step - loss: 0.1998 - acc: 0.9000 - val_loss: 0.2043 - val_acc: 0.9200\n",
      "Epoch 114/300\n",
      "300/300 [==============================] - 0s 822us/step - loss: 0.2116 - acc: 0.9067 - val_loss: 0.2051 - val_acc: 0.9000\n",
      "Epoch 115/300\n",
      "300/300 [==============================] - 0s 560us/step - loss: 0.2150 - acc: 0.9100 - val_loss: 0.2294 - val_acc: 0.9000\n",
      "Epoch 116/300\n",
      "300/300 [==============================] - 0s 485us/step - loss: 0.2022 - acc: 0.9167 - val_loss: 0.2150 - val_acc: 0.9000\n",
      "Epoch 117/300\n",
      "300/300 [==============================] - 0s 556us/step - loss: 0.2182 - acc: 0.9000 - val_loss: 0.2966 - val_acc: 0.8800\n",
      "Epoch 118/300\n",
      "300/300 [==============================] - 0s 527us/step - loss: 0.2044 - acc: 0.9167 - val_loss: 0.2190 - val_acc: 0.8900\n",
      "Epoch 119/300\n",
      "300/300 [==============================] - 0s 449us/step - loss: 0.1988 - acc: 0.9133 - val_loss: 0.2085 - val_acc: 0.9000\n",
      "Epoch 120/300\n",
      "300/300 [==============================] - 0s 471us/step - loss: 0.1913 - acc: 0.9300 - val_loss: 0.2316 - val_acc: 0.8800\n",
      "Epoch 121/300\n"
     ]
    },
    {
     "name": "stdout",
     "output_type": "stream",
     "text": [
      "300/300 [==============================] - 0s 454us/step - loss: 0.1924 - acc: 0.9167 - val_loss: 0.4176 - val_acc: 0.8300\n",
      "Epoch 122/300\n",
      "300/300 [==============================] - 0s 493us/step - loss: 0.2156 - acc: 0.8967 - val_loss: 0.2998 - val_acc: 0.8800\n",
      "Epoch 123/300\n",
      "300/300 [==============================] - 0s 457us/step - loss: 0.2059 - acc: 0.9067 - val_loss: 0.2185 - val_acc: 0.9000\n",
      "Epoch 124/300\n",
      "300/300 [==============================] - 0s 507us/step - loss: 0.2052 - acc: 0.9233 - val_loss: 0.1984 - val_acc: 0.9100\n",
      "Epoch 125/300\n",
      "300/300 [==============================] - 0s 536us/step - loss: 0.2029 - acc: 0.9133 - val_loss: 0.2073 - val_acc: 0.9200\n",
      "Epoch 126/300\n",
      "300/300 [==============================] - 0s 485us/step - loss: 0.1851 - acc: 0.9133 - val_loss: 0.2805 - val_acc: 0.8800\n",
      "Epoch 127/300\n",
      "300/300 [==============================] - 0s 482us/step - loss: 0.2077 - acc: 0.9133 - val_loss: 0.3302 - val_acc: 0.8700\n",
      "Epoch 128/300\n",
      "300/300 [==============================] - 0s 535us/step - loss: 0.2010 - acc: 0.9100 - val_loss: 0.2093 - val_acc: 0.9100\n",
      "Epoch 129/300\n",
      "300/300 [==============================] - 0s 488us/step - loss: 0.1965 - acc: 0.9233 - val_loss: 0.2179 - val_acc: 0.8900\n",
      "Epoch 130/300\n",
      "300/300 [==============================] - 0s 523us/step - loss: 0.2075 - acc: 0.9067 - val_loss: 0.1972 - val_acc: 0.9200\n",
      "Epoch 131/300\n",
      "300/300 [==============================] - 0s 523us/step - loss: 0.2029 - acc: 0.9200 - val_loss: 0.2139 - val_acc: 0.9000\n",
      "Epoch 132/300\n",
      "300/300 [==============================] - 0s 559us/step - loss: 0.1953 - acc: 0.9133 - val_loss: 0.2277 - val_acc: 0.8900\n",
      "Epoch 133/300\n",
      "300/300 [==============================] - 0s 488us/step - loss: 0.2025 - acc: 0.9167 - val_loss: 0.2030 - val_acc: 0.9000\n",
      "Epoch 134/300\n",
      "300/300 [==============================] - 0s 595us/step - loss: 0.1982 - acc: 0.9233 - val_loss: 0.2228 - val_acc: 0.8900\n",
      "Epoch 135/300\n",
      "300/300 [==============================] - 0s 554us/step - loss: 0.1847 - acc: 0.9200 - val_loss: 0.2060 - val_acc: 0.9000\n",
      "Epoch 136/300\n",
      "300/300 [==============================] - 0s 528us/step - loss: 0.1953 - acc: 0.9167 - val_loss: 0.1976 - val_acc: 0.9000\n",
      "Epoch 137/300\n",
      "300/300 [==============================] - 0s 514us/step - loss: 0.1921 - acc: 0.9133 - val_loss: 0.2275 - val_acc: 0.9100\n",
      "Epoch 138/300\n",
      "300/300 [==============================] - 0s 529us/step - loss: 0.1958 - acc: 0.9067 - val_loss: 0.2098 - val_acc: 0.9100\n",
      "Epoch 139/300\n",
      "300/300 [==============================] - 0s 481us/step - loss: 0.1928 - acc: 0.9267 - val_loss: 0.2157 - val_acc: 0.9100\n",
      "Epoch 140/300\n",
      "300/300 [==============================] - 0s 543us/step - loss: 0.1999 - acc: 0.9133 - val_loss: 0.1949 - val_acc: 0.9000\n",
      "Epoch 141/300\n",
      "300/300 [==============================] - 0s 522us/step - loss: 0.2008 - acc: 0.9067 - val_loss: 0.2007 - val_acc: 0.9000\n",
      "Epoch 142/300\n",
      "300/300 [==============================] - 0s 436us/step - loss: 0.1917 - acc: 0.9200 - val_loss: 0.1999 - val_acc: 0.9200\n",
      "Epoch 143/300\n",
      "300/300 [==============================] - 0s 416us/step - loss: 0.1924 - acc: 0.9000 - val_loss: 0.2144 - val_acc: 0.8900\n",
      "Epoch 144/300\n",
      "300/300 [==============================] - 0s 417us/step - loss: 0.2066 - acc: 0.9100 - val_loss: 0.2206 - val_acc: 0.9100\n",
      "Epoch 145/300\n",
      "300/300 [==============================] - 0s 427us/step - loss: 0.2015 - acc: 0.9133 - val_loss: 0.1968 - val_acc: 0.9200\n",
      "Epoch 146/300\n",
      "300/300 [==============================] - 0s 451us/step - loss: 0.1930 - acc: 0.9200 - val_loss: 0.2104 - val_acc: 0.9100\n",
      "Epoch 147/300\n",
      "300/300 [==============================] - 0s 521us/step - loss: 0.2102 - acc: 0.9000 - val_loss: 0.2024 - val_acc: 0.8900\n",
      "Epoch 148/300\n",
      "300/300 [==============================] - 0s 549us/step - loss: 0.1970 - acc: 0.9167 - val_loss: 0.2081 - val_acc: 0.9000\n",
      "Epoch 149/300\n",
      "300/300 [==============================] - 0s 529us/step - loss: 0.2021 - acc: 0.9200 - val_loss: 0.1964 - val_acc: 0.9100\n",
      "Epoch 150/300\n",
      "300/300 [==============================] - 0s 485us/step - loss: 0.1939 - acc: 0.9267 - val_loss: 0.2175 - val_acc: 0.9100\n",
      "Epoch 151/300\n",
      "300/300 [==============================] - 0s 480us/step - loss: 0.2160 - acc: 0.9133 - val_loss: 0.2017 - val_acc: 0.9000\n",
      "Epoch 152/300\n",
      "300/300 [==============================] - 0s 481us/step - loss: 0.1931 - acc: 0.9267 - val_loss: 0.1956 - val_acc: 0.9100\n",
      "Epoch 153/300\n",
      "300/300 [==============================] - 0s 498us/step - loss: 0.1877 - acc: 0.9200 - val_loss: 0.2317 - val_acc: 0.9000\n",
      "Epoch 154/300\n",
      "300/300 [==============================] - 0s 564us/step - loss: 0.2014 - acc: 0.9133 - val_loss: 0.2143 - val_acc: 0.9100\n",
      "Epoch 155/300\n",
      "300/300 [==============================] - 0s 522us/step - loss: 0.1977 - acc: 0.9033 - val_loss: 0.2007 - val_acc: 0.9100\n",
      "Epoch 156/300\n",
      "300/300 [==============================] - 0s 566us/step - loss: 0.1785 - acc: 0.9267 - val_loss: 0.2201 - val_acc: 0.8900\n",
      "Epoch 157/300\n",
      "300/300 [==============================] - 0s 504us/step - loss: 0.2014 - acc: 0.9033 - val_loss: 0.1989 - val_acc: 0.9100\n",
      "Epoch 158/300\n",
      "300/300 [==============================] - 0s 525us/step - loss: 0.1892 - acc: 0.9033 - val_loss: 0.2114 - val_acc: 0.9100\n",
      "Epoch 159/300\n",
      "300/300 [==============================] - 0s 447us/step - loss: 0.1984 - acc: 0.9233 - val_loss: 0.2209 - val_acc: 0.9000\n",
      "Epoch 160/300\n",
      "300/300 [==============================] - 0s 470us/step - loss: 0.1874 - acc: 0.9100 - val_loss: 0.1926 - val_acc: 0.9100\n",
      "Epoch 161/300\n",
      "300/300 [==============================] - 0s 459us/step - loss: 0.1937 - acc: 0.9133 - val_loss: 0.1992 - val_acc: 0.9200\n",
      "Epoch 162/300\n",
      "300/300 [==============================] - 0s 559us/step - loss: 0.1916 - acc: 0.9100 - val_loss: 0.2253 - val_acc: 0.9000\n",
      "Epoch 163/300\n",
      "300/300 [==============================] - 0s 503us/step - loss: 0.1971 - acc: 0.9067 - val_loss: 0.2588 - val_acc: 0.9000\n",
      "Epoch 164/300\n",
      "300/300 [==============================] - 0s 595us/step - loss: 0.1909 - acc: 0.9167 - val_loss: 0.2026 - val_acc: 0.9100\n",
      "Epoch 165/300\n",
      "300/300 [==============================] - 0s 505us/step - loss: 0.1828 - acc: 0.9233 - val_loss: 0.2623 - val_acc: 0.8900\n",
      "Epoch 166/300\n",
      "300/300 [==============================] - 0s 570us/step - loss: 0.2075 - acc: 0.8833 - val_loss: 0.2083 - val_acc: 0.9000\n",
      "Epoch 167/300\n",
      "300/300 [==============================] - 0s 519us/step - loss: 0.1955 - acc: 0.9133 - val_loss: 0.2126 - val_acc: 0.9100\n",
      "Epoch 168/300\n",
      "300/300 [==============================] - 0s 437us/step - loss: 0.2001 - acc: 0.9133 - val_loss: 0.2260 - val_acc: 0.8900\n",
      "Epoch 169/300\n",
      "300/300 [==============================] - 0s 451us/step - loss: 0.1916 - acc: 0.9000 - val_loss: 0.2003 - val_acc: 0.9000\n",
      "Epoch 170/300\n",
      "300/300 [==============================] - 0s 491us/step - loss: 0.1883 - acc: 0.9233 - val_loss: 0.2035 - val_acc: 0.9000\n",
      "Epoch 171/300\n",
      "300/300 [==============================] - 0s 592us/step - loss: 0.2098 - acc: 0.9067 - val_loss: 0.2290 - val_acc: 0.9000\n",
      "Epoch 172/300\n",
      "300/300 [==============================] - 0s 582us/step - loss: 0.1778 - acc: 0.9233 - val_loss: 0.1941 - val_acc: 0.9100\n",
      "Epoch 173/300\n",
      "300/300 [==============================] - 0s 482us/step - loss: 0.1887 - acc: 0.9200 - val_loss: 0.1917 - val_acc: 0.9200\n",
      "Epoch 174/300\n",
      "300/300 [==============================] - 0s 585us/step - loss: 0.1939 - acc: 0.9100 - val_loss: 0.2066 - val_acc: 0.9000\n",
      "Epoch 175/300\n",
      "300/300 [==============================] - 0s 483us/step - loss: 0.1818 - acc: 0.9167 - val_loss: 0.2582 - val_acc: 0.8900\n",
      "Epoch 176/300\n",
      "300/300 [==============================] - 0s 419us/step - loss: 0.1903 - acc: 0.9133 - val_loss: 0.2311 - val_acc: 0.9000\n",
      "Epoch 177/300\n",
      "300/300 [==============================] - 0s 432us/step - loss: 0.2169 - acc: 0.8967 - val_loss: 0.1913 - val_acc: 0.9000\n",
      "Epoch 178/300\n",
      "300/300 [==============================] - 0s 452us/step - loss: 0.1903 - acc: 0.9133 - val_loss: 0.1916 - val_acc: 0.9100\n",
      "Epoch 179/300\n",
      "300/300 [==============================] - 0s 476us/step - loss: 0.1879 - acc: 0.9300 - val_loss: 0.2646 - val_acc: 0.8900\n",
      "Epoch 180/300\n",
      "300/300 [==============================] - 0s 566us/step - loss: 0.1933 - acc: 0.9233 - val_loss: 0.1967 - val_acc: 0.9100\n"
     ]
    },
    {
     "name": "stdout",
     "output_type": "stream",
     "text": [
      "Epoch 181/300\n",
      "300/300 [==============================] - 0s 488us/step - loss: 0.1952 - acc: 0.9200 - val_loss: 0.2078 - val_acc: 0.9000\n",
      "Epoch 182/300\n",
      "300/300 [==============================] - 0s 499us/step - loss: 0.1877 - acc: 0.9133 - val_loss: 0.1897 - val_acc: 0.9100\n",
      "Epoch 183/300\n",
      "300/300 [==============================] - 0s 489us/step - loss: 0.1961 - acc: 0.9167 - val_loss: 0.1936 - val_acc: 0.9100\n",
      "Epoch 184/300\n",
      "300/300 [==============================] - 0s 482us/step - loss: 0.1836 - acc: 0.9233 - val_loss: 0.2036 - val_acc: 0.9100\n",
      "Epoch 185/300\n",
      "300/300 [==============================] - 0s 507us/step - loss: 0.1832 - acc: 0.9233 - val_loss: 0.2101 - val_acc: 0.8900\n",
      "Epoch 186/300\n",
      "300/300 [==============================] - 0s 447us/step - loss: 0.1903 - acc: 0.9067 - val_loss: 0.2091 - val_acc: 0.8900\n",
      "Epoch 187/300\n",
      "300/300 [==============================] - 0s 552us/step - loss: 0.1830 - acc: 0.9300 - val_loss: 0.2150 - val_acc: 0.9000\n",
      "Epoch 188/300\n",
      "300/300 [==============================] - 0s 575us/step - loss: 0.2074 - acc: 0.9067 - val_loss: 0.1979 - val_acc: 0.9200\n",
      "Epoch 189/300\n",
      "300/300 [==============================] - 0s 547us/step - loss: 0.1873 - acc: 0.9200 - val_loss: 0.2011 - val_acc: 0.9000\n",
      "Epoch 190/300\n",
      "300/300 [==============================] - 0s 536us/step - loss: 0.1886 - acc: 0.9167 - val_loss: 0.1986 - val_acc: 0.9100\n",
      "Epoch 191/300\n",
      "300/300 [==============================] - 0s 427us/step - loss: 0.1844 - acc: 0.9167 - val_loss: 0.2283 - val_acc: 0.9000\n",
      "Epoch 192/300\n",
      "300/300 [==============================] - 0s 465us/step - loss: 0.1872 - acc: 0.9100 - val_loss: 0.1980 - val_acc: 0.9200\n",
      "Epoch 193/300\n",
      "300/300 [==============================] - 0s 491us/step - loss: 0.1886 - acc: 0.9100 - val_loss: 0.2003 - val_acc: 0.9000\n",
      "Epoch 194/300\n",
      "300/300 [==============================] - 0s 494us/step - loss: 0.1942 - acc: 0.9167 - val_loss: 0.1922 - val_acc: 0.9100\n",
      "Epoch 195/300\n",
      "300/300 [==============================] - 0s 600us/step - loss: 0.1904 - acc: 0.9133 - val_loss: 0.1923 - val_acc: 0.9000\n",
      "Epoch 196/300\n",
      "300/300 [==============================] - 0s 634us/step - loss: 0.1765 - acc: 0.9233 - val_loss: 0.2294 - val_acc: 0.8900\n",
      "Epoch 197/300\n",
      "300/300 [==============================] - 0s 590us/step - loss: 0.1998 - acc: 0.9033 - val_loss: 0.1894 - val_acc: 0.9100\n",
      "Epoch 198/300\n",
      "300/300 [==============================] - 0s 538us/step - loss: 0.1834 - acc: 0.9100 - val_loss: 0.1893 - val_acc: 0.9100\n",
      "Epoch 199/300\n",
      "300/300 [==============================] - 0s 514us/step - loss: 0.1815 - acc: 0.9133 - val_loss: 0.1921 - val_acc: 0.9100\n",
      "Epoch 200/300\n",
      "300/300 [==============================] - 0s 504us/step - loss: 0.1862 - acc: 0.9200 - val_loss: 0.1990 - val_acc: 0.9100\n",
      "Epoch 201/300\n",
      "300/300 [==============================] - 0s 661us/step - loss: 0.1875 - acc: 0.9133 - val_loss: 0.2664 - val_acc: 0.8900\n",
      "Epoch 202/300\n",
      "300/300 [==============================] - 0s 567us/step - loss: 0.1771 - acc: 0.9300 - val_loss: 0.2039 - val_acc: 0.9000\n",
      "Epoch 203/300\n",
      "300/300 [==============================] - 0s 461us/step - loss: 0.1793 - acc: 0.9133 - val_loss: 0.2094 - val_acc: 0.8900\n",
      "Epoch 204/300\n",
      "300/300 [==============================] - 0s 490us/step - loss: 0.1887 - acc: 0.9167 - val_loss: 0.1887 - val_acc: 0.9000\n",
      "Epoch 205/300\n",
      "300/300 [==============================] - 0s 493us/step - loss: 0.1934 - acc: 0.9033 - val_loss: 0.1932 - val_acc: 0.9000\n",
      "Epoch 206/300\n",
      "300/300 [==============================] - 0s 529us/step - loss: 0.1855 - acc: 0.9167 - val_loss: 0.2452 - val_acc: 0.9000\n",
      "Epoch 207/300\n",
      "300/300 [==============================] - 0s 479us/step - loss: 0.1956 - acc: 0.9167 - val_loss: 0.2069 - val_acc: 0.8900\n",
      "Epoch 208/300\n",
      "300/300 [==============================] - 0s 497us/step - loss: 0.1869 - acc: 0.9200 - val_loss: 0.1876 - val_acc: 0.9100\n",
      "Epoch 209/300\n",
      "300/300 [==============================] - 0s 535us/step - loss: 0.1888 - acc: 0.9267 - val_loss: 0.2019 - val_acc: 0.9000\n",
      "Epoch 210/300\n",
      "300/300 [==============================] - 0s 508us/step - loss: 0.1684 - acc: 0.9233 - val_loss: 0.2029 - val_acc: 0.9000\n",
      "Epoch 211/300\n",
      "300/300 [==============================] - 0s 485us/step - loss: 0.1759 - acc: 0.9233 - val_loss: 0.2176 - val_acc: 0.9000\n",
      "Epoch 212/300\n",
      "300/300 [==============================] - 0s 531us/step - loss: 0.1950 - acc: 0.9167 - val_loss: 0.2012 - val_acc: 0.9000\n",
      "Epoch 213/300\n",
      "300/300 [==============================] - 0s 571us/step - loss: 0.1810 - acc: 0.9333 - val_loss: 0.2120 - val_acc: 0.9000\n",
      "Epoch 214/300\n",
      "300/300 [==============================] - 0s 544us/step - loss: 0.1772 - acc: 0.9267 - val_loss: 0.2046 - val_acc: 0.9100\n",
      "Epoch 215/300\n",
      "300/300 [==============================] - 0s 578us/step - loss: 0.1827 - acc: 0.9100 - val_loss: 0.1981 - val_acc: 0.9000\n",
      "Epoch 216/300\n",
      "300/300 [==============================] - 0s 490us/step - loss: 0.1943 - acc: 0.9133 - val_loss: 0.1893 - val_acc: 0.9100\n",
      "Epoch 217/300\n",
      "300/300 [==============================] - 0s 475us/step - loss: 0.1758 - acc: 0.9233 - val_loss: 0.1877 - val_acc: 0.9100\n",
      "Epoch 218/300\n",
      "300/300 [==============================] - 0s 499us/step - loss: 0.1991 - acc: 0.9200 - val_loss: 0.1868 - val_acc: 0.9000\n",
      "Epoch 219/300\n",
      "300/300 [==============================] - 0s 654us/step - loss: 0.1793 - acc: 0.9200 - val_loss: 0.1959 - val_acc: 0.9100\n",
      "Epoch 220/300\n",
      "300/300 [==============================] - 0s 542us/step - loss: 0.1749 - acc: 0.9267 - val_loss: 0.2210 - val_acc: 0.9100\n",
      "Epoch 221/300\n",
      "300/300 [==============================] - 0s 538us/step - loss: 0.1815 - acc: 0.9133 - val_loss: 0.1975 - val_acc: 0.9100\n",
      "Epoch 222/300\n",
      "300/300 [==============================] - 0s 477us/step - loss: 0.1832 - acc: 0.9200 - val_loss: 0.2158 - val_acc: 0.9000\n",
      "Epoch 223/300\n",
      "300/300 [==============================] - 0s 634us/step - loss: 0.1886 - acc: 0.9133 - val_loss: 0.2054 - val_acc: 0.9000\n",
      "Epoch 224/300\n",
      "300/300 [==============================] - 0s 522us/step - loss: 0.1871 - acc: 0.9200 - val_loss: 0.1847 - val_acc: 0.9200\n",
      "Epoch 225/300\n",
      "300/300 [==============================] - 0s 466us/step - loss: 0.1810 - acc: 0.9200 - val_loss: 0.1867 - val_acc: 0.9100\n",
      "Epoch 226/300\n",
      "300/300 [==============================] - 0s 548us/step - loss: 0.1787 - acc: 0.9167 - val_loss: 0.1909 - val_acc: 0.9200\n",
      "Epoch 227/300\n",
      "300/300 [==============================] - 0s 449us/step - loss: 0.1759 - acc: 0.9267 - val_loss: 0.1871 - val_acc: 0.9200\n",
      "Epoch 228/300\n",
      "300/300 [==============================] - 0s 466us/step - loss: 0.1845 - acc: 0.9200 - val_loss: 0.2383 - val_acc: 0.9000\n",
      "Epoch 229/300\n",
      "300/300 [==============================] - 0s 493us/step - loss: 0.1701 - acc: 0.9167 - val_loss: 0.2222 - val_acc: 0.9000\n",
      "Epoch 230/300\n",
      "300/300 [==============================] - 0s 554us/step - loss: 0.1845 - acc: 0.9233 - val_loss: 0.2427 - val_acc: 0.8900\n",
      "Epoch 231/300\n",
      "300/300 [==============================] - 0s 571us/step - loss: 0.1882 - acc: 0.9133 - val_loss: 0.2012 - val_acc: 0.9000\n",
      "Epoch 232/300\n",
      "300/300 [==============================] - 0s 545us/step - loss: 0.1947 - acc: 0.9100 - val_loss: 0.1983 - val_acc: 0.9000\n",
      "Epoch 233/300\n",
      "300/300 [==============================] - 0s 466us/step - loss: 0.1808 - acc: 0.9267 - val_loss: 0.1908 - val_acc: 0.9100\n",
      "Epoch 234/300\n",
      "300/300 [==============================] - 0s 454us/step - loss: 0.1936 - acc: 0.9200 - val_loss: 0.2008 - val_acc: 0.9000\n",
      "Epoch 235/300\n",
      "300/300 [==============================] - 0s 452us/step - loss: 0.1907 - acc: 0.9200 - val_loss: 0.2090 - val_acc: 0.8900\n",
      "Epoch 236/300\n",
      "300/300 [==============================] - 0s 462us/step - loss: 0.1840 - acc: 0.9200 - val_loss: 0.1808 - val_acc: 0.9200\n",
      "Epoch 237/300\n",
      "300/300 [==============================] - 0s 543us/step - loss: 0.1852 - acc: 0.9200 - val_loss: 0.1917 - val_acc: 0.9100\n",
      "Epoch 238/300\n",
      "300/300 [==============================] - 0s 472us/step - loss: 0.1627 - acc: 0.9333 - val_loss: 0.2104 - val_acc: 0.9000\n",
      "Epoch 239/300\n",
      "300/300 [==============================] - 0s 710us/step - loss: 0.1757 - acc: 0.9200 - val_loss: 0.1933 - val_acc: 0.9100\n",
      "Epoch 240/300\n",
      "300/300 [==============================] - 0s 602us/step - loss: 0.1791 - acc: 0.9167 - val_loss: 0.1872 - val_acc: 0.9100\n"
     ]
    },
    {
     "name": "stdout",
     "output_type": "stream",
     "text": [
      "Epoch 241/300\n",
      "300/300 [==============================] - 0s 529us/step - loss: 0.1940 - acc: 0.9033 - val_loss: 0.1852 - val_acc: 0.9000\n",
      "Epoch 242/300\n",
      "300/300 [==============================] - 0s 556us/step - loss: 0.1675 - acc: 0.9367 - val_loss: 0.2715 - val_acc: 0.9000\n",
      "Epoch 243/300\n",
      "300/300 [==============================] - 0s 480us/step - loss: 0.1841 - acc: 0.9167 - val_loss: 0.2189 - val_acc: 0.9000\n",
      "Epoch 244/300\n",
      "300/300 [==============================] - 0s 520us/step - loss: 0.1762 - acc: 0.9233 - val_loss: 0.2406 - val_acc: 0.9100\n",
      "Epoch 245/300\n",
      "300/300 [==============================] - 0s 451us/step - loss: 0.1960 - acc: 0.9167 - val_loss: 0.1841 - val_acc: 0.9100\n",
      "Epoch 246/300\n",
      "300/300 [==============================] - 0s 489us/step - loss: 0.1723 - acc: 0.9133 - val_loss: 0.1934 - val_acc: 0.9100\n",
      "Epoch 247/300\n",
      "300/300 [==============================] - 0s 511us/step - loss: 0.1760 - acc: 0.8967 - val_loss: 0.1871 - val_acc: 0.9100\n",
      "Epoch 248/300\n",
      "300/300 [==============================] - 0s 452us/step - loss: 0.1847 - acc: 0.9033 - val_loss: 0.2419 - val_acc: 0.9000\n",
      "Epoch 249/300\n",
      "300/300 [==============================] - 0s 486us/step - loss: 0.1655 - acc: 0.9200 - val_loss: 0.1903 - val_acc: 0.9100\n",
      "Epoch 250/300\n",
      "300/300 [==============================] - 0s 535us/step - loss: 0.1801 - acc: 0.9200 - val_loss: 0.2042 - val_acc: 0.9000\n",
      "Epoch 251/300\n",
      "300/300 [==============================] - 0s 477us/step - loss: 0.1806 - acc: 0.9167 - val_loss: 0.2205 - val_acc: 0.9000\n",
      "Epoch 252/300\n",
      "300/300 [==============================] - 0s 509us/step - loss: 0.1816 - acc: 0.9233 - val_loss: 0.1839 - val_acc: 0.9200\n",
      "Epoch 253/300\n",
      "300/300 [==============================] - 0s 543us/step - loss: 0.1728 - acc: 0.9267 - val_loss: 0.2213 - val_acc: 0.9000\n",
      "Epoch 254/300\n",
      "300/300 [==============================] - 0s 488us/step - loss: 0.1775 - acc: 0.9167 - val_loss: 0.2237 - val_acc: 0.9000\n",
      "Epoch 255/300\n",
      "300/300 [==============================] - 0s 441us/step - loss: 0.1775 - acc: 0.9233 - val_loss: 0.1864 - val_acc: 0.9200\n",
      "Epoch 256/300\n",
      "300/300 [==============================] - 0s 490us/step - loss: 0.1809 - acc: 0.9167 - val_loss: 0.1873 - val_acc: 0.9000\n",
      "Epoch 257/300\n",
      "300/300 [==============================] - 0s 534us/step - loss: 0.1815 - acc: 0.9133 - val_loss: 0.2116 - val_acc: 0.9100\n",
      "Epoch 258/300\n",
      "300/300 [==============================] - 0s 421us/step - loss: 0.1925 - acc: 0.9133 - val_loss: 0.1900 - val_acc: 0.9200\n",
      "Epoch 259/300\n",
      "300/300 [==============================] - 0s 419us/step - loss: 0.1778 - acc: 0.9167 - val_loss: 0.1984 - val_acc: 0.9100\n",
      "Epoch 260/300\n",
      "300/300 [==============================] - 0s 554us/step - loss: 0.1770 - acc: 0.9133 - val_loss: 0.2458 - val_acc: 0.9000\n",
      "Epoch 261/300\n",
      "300/300 [==============================] - 0s 515us/step - loss: 0.1723 - acc: 0.9333 - val_loss: 0.2382 - val_acc: 0.9100\n",
      "Epoch 262/300\n",
      "300/300 [==============================] - 0s 524us/step - loss: 0.1677 - acc: 0.9333 - val_loss: 0.2222 - val_acc: 0.9000\n",
      "Epoch 263/300\n",
      "300/300 [==============================] - 0s 497us/step - loss: 0.1761 - acc: 0.9200 - val_loss: 0.2009 - val_acc: 0.9000\n",
      "Epoch 264/300\n",
      "300/300 [==============================] - 0s 556us/step - loss: 0.1702 - acc: 0.9333 - val_loss: 0.1874 - val_acc: 0.9100\n",
      "Epoch 265/300\n",
      "300/300 [==============================] - 0s 542us/step - loss: 0.1686 - acc: 0.9200 - val_loss: 0.1868 - val_acc: 0.9200\n",
      "Epoch 266/300\n",
      "300/300 [==============================] - 0s 466us/step - loss: 0.1787 - acc: 0.9167 - val_loss: 0.1984 - val_acc: 0.9000\n",
      "Epoch 267/300\n",
      "300/300 [==============================] - 0s 529us/step - loss: 0.1742 - acc: 0.9267 - val_loss: 0.1857 - val_acc: 0.9100\n",
      "Epoch 268/300\n",
      "300/300 [==============================] - 0s 440us/step - loss: 0.1783 - acc: 0.9200 - val_loss: 0.2373 - val_acc: 0.8900\n",
      "Epoch 269/300\n",
      "300/300 [==============================] - 0s 456us/step - loss: 0.1707 - acc: 0.9167 - val_loss: 0.2434 - val_acc: 0.9100\n",
      "Epoch 270/300\n",
      "300/300 [==============================] - 0s 518us/step - loss: 0.1806 - acc: 0.9167 - val_loss: 0.2037 - val_acc: 0.9200\n",
      "Epoch 271/300\n",
      "300/300 [==============================] - 0s 551us/step - loss: 0.1832 - acc: 0.9333 - val_loss: 0.1858 - val_acc: 0.9100\n",
      "Epoch 272/300\n",
      "300/300 [==============================] - 0s 490us/step - loss: 0.1793 - acc: 0.9200 - val_loss: 0.1965 - val_acc: 0.9100\n",
      "Epoch 273/300\n",
      "300/300 [==============================] - 0s 542us/step - loss: 0.1745 - acc: 0.9167 - val_loss: 0.2139 - val_acc: 0.9100\n",
      "Epoch 274/300\n",
      "300/300 [==============================] - 0s 509us/step - loss: 0.1806 - acc: 0.9167 - val_loss: 0.2330 - val_acc: 0.9000\n",
      "Epoch 275/300\n",
      "300/300 [==============================] - 0s 547us/step - loss: 0.1820 - acc: 0.9267 - val_loss: 0.1994 - val_acc: 0.9000\n",
      "Epoch 276/300\n",
      "300/300 [==============================] - 0s 550us/step - loss: 0.1690 - acc: 0.9267 - val_loss: 0.1840 - val_acc: 0.9100\n",
      "Epoch 277/300\n",
      "300/300 [==============================] - 0s 546us/step - loss: 0.1848 - acc: 0.9100 - val_loss: 0.2041 - val_acc: 0.9000\n",
      "Epoch 278/300\n",
      "300/300 [==============================] - 0s 530us/step - loss: 0.1707 - acc: 0.9267 - val_loss: 0.2096 - val_acc: 0.9200\n",
      "Epoch 279/300\n",
      "300/300 [==============================] - 0s 557us/step - loss: 0.1756 - acc: 0.9267 - val_loss: 0.2056 - val_acc: 0.9000\n",
      "Epoch 280/300\n",
      "300/300 [==============================] - 0s 574us/step - loss: 0.1761 - acc: 0.9267 - val_loss: 0.2210 - val_acc: 0.9100\n",
      "Epoch 281/300\n",
      "300/300 [==============================] - 0s 546us/step - loss: 0.1761 - acc: 0.9267 - val_loss: 0.1978 - val_acc: 0.9000\n",
      "Epoch 282/300\n",
      "300/300 [==============================] - 0s 547us/step - loss: 0.1790 - acc: 0.9267 - val_loss: 0.1853 - val_acc: 0.9100\n",
      "Epoch 283/300\n",
      "300/300 [==============================] - 0s 501us/step - loss: 0.1728 - acc: 0.9233 - val_loss: 0.1826 - val_acc: 0.9100\n",
      "Epoch 284/300\n",
      "300/300 [==============================] - 0s 556us/step - loss: 0.1695 - acc: 0.9267 - val_loss: 0.1868 - val_acc: 0.9100\n",
      "Epoch 285/300\n",
      "300/300 [==============================] - 0s 562us/step - loss: 0.1581 - acc: 0.9333 - val_loss: 0.1892 - val_acc: 0.9200\n",
      "Epoch 286/300\n",
      "300/300 [==============================] - 0s 412us/step - loss: 0.1537 - acc: 0.9333 - val_loss: 0.2478 - val_acc: 0.9000\n",
      "Epoch 287/300\n",
      "300/300 [==============================] - 0s 440us/step - loss: 0.1700 - acc: 0.9233 - val_loss: 0.2267 - val_acc: 0.9000\n",
      "Epoch 288/300\n",
      "300/300 [==============================] - 0s 472us/step - loss: 0.1658 - acc: 0.9333 - val_loss: 0.1962 - val_acc: 0.9000\n",
      "Epoch 289/300\n",
      "300/300 [==============================] - 0s 508us/step - loss: 0.1683 - acc: 0.9267 - val_loss: 0.1816 - val_acc: 0.9000\n",
      "Epoch 290/300\n",
      "300/300 [==============================] - 0s 565us/step - loss: 0.1706 - acc: 0.9200 - val_loss: 0.2023 - val_acc: 0.9000\n",
      "Epoch 291/300\n",
      "300/300 [==============================] - 0s 551us/step - loss: 0.1771 - acc: 0.9167 - val_loss: 0.1823 - val_acc: 0.9100\n",
      "Epoch 292/300\n",
      "300/300 [==============================] - 0s 492us/step - loss: 0.1659 - acc: 0.9233 - val_loss: 0.1819 - val_acc: 0.9100\n",
      "Epoch 293/300\n",
      "300/300 [==============================] - 0s 571us/step - loss: 0.1654 - acc: 0.9300 - val_loss: 0.2786 - val_acc: 0.8900\n",
      "Epoch 294/300\n",
      "300/300 [==============================] - 0s 482us/step - loss: 0.1764 - acc: 0.9167 - val_loss: 0.1860 - val_acc: 0.9200\n",
      "Epoch 295/300\n",
      "300/300 [==============================] - 0s 463us/step - loss: 0.1620 - acc: 0.9267 - val_loss: 0.2070 - val_acc: 0.9200\n",
      "Epoch 296/300\n",
      "300/300 [==============================] - 0s 521us/step - loss: 0.1742 - acc: 0.9167 - val_loss: 0.2009 - val_acc: 0.9100\n",
      "Epoch 297/300\n",
      "300/300 [==============================] - 0s 467us/step - loss: 0.1631 - acc: 0.9233 - val_loss: 0.1825 - val_acc: 0.9100\n",
      "Epoch 298/300\n",
      "300/300 [==============================] - 0s 538us/step - loss: 0.1663 - acc: 0.9233 - val_loss: 0.1873 - val_acc: 0.9000\n",
      "Epoch 299/300\n",
      "300/300 [==============================] - 0s 562us/step - loss: 0.1926 - acc: 0.9100 - val_loss: 0.2151 - val_acc: 0.9000\n",
      "Epoch 300/300\n",
      "300/300 [==============================] - 0s 476us/step - loss: 0.1626 - acc: 0.9300 - val_loss: 0.2422 - val_acc: 0.9000\n"
     ]
    },
    {
     "name": "stdout",
     "output_type": "stream",
     "text": [
      "100/100 [==============================] - 0s 228us/step\n"
     ]
    },
    {
     "data": {
      "text/plain": [
       "[0.24218380507081746, 0.90000000000000002]"
      ]
     },
     "execution_count": 302,
     "metadata": {},
     "output_type": "execute_result"
    }
   ],
   "source": [
    "X_train, X_test, y_train, y_test = train_test_split(X, y, test_size=0.25, random_state=42)\n",
    "history = model.fit(X_train, y_train, batch_size=10, epochs=300, validation_data=(X_test, y_test))\n",
    "model.evaluate(X_test, y_test, batch_size=10)"
   ]
  },
  {
   "cell_type": "code",
   "execution_count": 303,
   "metadata": {},
   "outputs": [
    {
     "name": "stdout",
     "output_type": "stream",
     "text": [
      "Confusion matrix, without normalization\n",
      "[[28  0  3  0]\n",
      " [ 0 18  0  3]\n",
      " [ 0  0 25  0]\n",
      " [ 0  4  0 19]]\n"
     ]
    },
    {
     "data": {
      "image/png": "[encoded data removed]",
      "text/plain": [
       "<matplotlib.figure.Figure at 0x13230fa90>"
      ]
     },
     "metadata": {
      "needs_background": "light"
     },
     "output_type": "display_data"
    }
   ],
   "source": [
    "y_pred = model.predict(X_test)\n",
    "cnf_matrix = confusion_matrix(y_test.argmax(axis=1), y_pred.argmax(axis=1))\n",
    "np.set_printoptions(precision=2)\n",
    "plt.figure()\n",
    "plot_confusion_matrix(cnf_matrix, classes=playlist_dict, normalize=False,\n",
    "                      title='Confusion matrix')\n",
    "plt.show()"
   ]
  },
  {
   "cell_type": "code",
   "execution_count": 304,
   "metadata": {},
   "outputs": [
    {
     "data": {
      "image/png": "[encoded data removed]",
      "text/plain": [
       "<matplotlib.figure.Figure at 0x1343d35f8>"
      ]
     },
     "metadata": {
      "needs_background": "light"
     },
     "output_type": "display_data"
    }
   ],
   "source": [
    "plt.plot(history.history['loss'])\n",
    "plt.plot(history.history['val_loss'])\n",
    "plt.title('model loss')\n",
    "plt.ylabel('loss')\n",
    "plt.xlabel('epoch')\n",
    "plt.legend(['train', 'test'], loc='upper left')\n",
    "plt.show()"
   ]
  }
 ],
 "metadata": {
  "kernelspec": {
   "display_name": "Python 3",
   "language": "python",
   "name": "python3"
  },
  "language_info": {
   "codemirror_mode": {
    "name": "ipython",
    "version": 3
   },
   "file_extension": ".py",
   "mimetype": "text/x-python",
   "name": "python",
   "nbconvert_exporter": "python",
   "pygments_lexer": "ipython3",
   "version": "3.6.5"
  }
 },
 "nbformat": 4,
 "nbformat_minor": 2
}
